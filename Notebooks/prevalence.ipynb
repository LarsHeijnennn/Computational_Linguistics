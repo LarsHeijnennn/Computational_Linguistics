{
 "cells": [
  {
   "cell_type": "code",
   "execution_count": 1,
   "id": "3c302b24",
   "metadata": {},
   "outputs": [],
   "source": [
    "import pandas as pd"
   ]
  },
  {
   "cell_type": "code",
   "execution_count": 3,
   "id": "4e587cd7",
   "metadata": {},
   "outputs": [
    {
     "data": {
      "text/html": [
       "<div>\n",
       "<style scoped>\n",
       "    .dataframe tbody tr th:only-of-type {\n",
       "        vertical-align: middle;\n",
       "    }\n",
       "\n",
       "    .dataframe tbody tr th {\n",
       "        vertical-align: top;\n",
       "    }\n",
       "\n",
       "    .dataframe thead th {\n",
       "        text-align: right;\n",
       "    }\n",
       "</style>\n",
       "<table border=\"1\" class=\"dataframe\">\n",
       "  <thead>\n",
       "    <tr style=\"text-align: right;\">\n",
       "      <th></th>\n",
       "      <th>word</th>\n",
       "      <th>n.obs</th>\n",
       "      <th>irt.prevalence</th>\n",
       "      <th>z.irt.prevalence</th>\n",
       "      <th>prevalence</th>\n",
       "      <th>z.prevalence</th>\n",
       "    </tr>\n",
       "  </thead>\n",
       "  <tbody>\n",
       "    <tr>\n",
       "      <th>0</th>\n",
       "      <td>T-shirt</td>\n",
       "      <td>324</td>\n",
       "      <td>0.986622</td>\n",
       "      <td>2.215053</td>\n",
       "      <td>0.978395</td>\n",
       "      <td>1.689888</td>\n",
       "    </tr>\n",
       "    <tr>\n",
       "      <th>1</th>\n",
       "      <td>aagje</td>\n",
       "      <td>303</td>\n",
       "      <td>0.907405</td>\n",
       "      <td>1.324941</td>\n",
       "      <td>0.877888</td>\n",
       "      <td>1.075808</td>\n",
       "    </tr>\n",
       "    <tr>\n",
       "      <th>2</th>\n",
       "      <td>aagt</td>\n",
       "      <td>324</td>\n",
       "      <td>0.169817</td>\n",
       "      <td>-0.954888</td>\n",
       "      <td>0.188272</td>\n",
       "      <td>-0.827920</td>\n",
       "    </tr>\n",
       "    <tr>\n",
       "      <th>3</th>\n",
       "      <td>aai</td>\n",
       "      <td>335</td>\n",
       "      <td>0.993290</td>\n",
       "      <td>2.472451</td>\n",
       "      <td>0.988060</td>\n",
       "      <td>1.794794</td>\n",
       "    </tr>\n",
       "    <tr>\n",
       "      <th>4</th>\n",
       "      <td>aaibaar</td>\n",
       "      <td>333</td>\n",
       "      <td>0.996284</td>\n",
       "      <td>2.676802</td>\n",
       "      <td>0.990991</td>\n",
       "      <td>1.830889</td>\n",
       "    </tr>\n",
       "  </tbody>\n",
       "</table>\n",
       "</div>"
      ],
      "text/plain": [
       "      word  n.obs  irt.prevalence  z.irt.prevalence  prevalence  z.prevalence\n",
       "0  T-shirt    324        0.986622          2.215053    0.978395      1.689888\n",
       "1    aagje    303        0.907405          1.324941    0.877888      1.075808\n",
       "2     aagt    324        0.169817         -0.954888    0.188272     -0.827920\n",
       "3      aai    335        0.993290          2.472451    0.988060      1.794794\n",
       "4  aaibaar    333        0.996284          2.676802    0.990991      1.830889"
      ]
     },
     "execution_count": 3,
     "metadata": {},
     "output_type": "execute_result"
    }
   ],
   "source": [
    "df = pd.read_csv('/Users/larsheijnen/CL/data/prevalence_netherlands.csv', sep='\\t')\n",
    "df.head()"
   ]
  }
 ],
 "metadata": {
  "kernelspec": {
   "display_name": ".venv",
   "language": "python",
   "name": "python3"
  },
  "language_info": {
   "codemirror_mode": {
    "name": "ipython",
    "version": 3
   },
   "file_extension": ".py",
   "mimetype": "text/x-python",
   "name": "python",
   "nbconvert_exporter": "python",
   "pygments_lexer": "ipython3",
   "version": "3.12.9"
  }
 },
 "nbformat": 4,
 "nbformat_minor": 5
}
