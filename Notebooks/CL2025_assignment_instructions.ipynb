{
 "cells": [
  {
   "cell_type": "markdown",
   "metadata": {
    "id": "GcbFlt0uJpNc"
   },
   "source": [
    "In this assignment you will be asked to extend the work by Gatti et al by checking whether form-meaning mappings learned on a different yet related language to that considered in the original study still capture the perceived valence of pseudowords. To do this you will be asked to engage with several different resources and adapt the pipeline following the instructions. Along the way, you will be asked to answer a few questions.\n",
    "\n",
    "You need to submit the complete notebook in .ipynb format, with intermediate outputs visible. The notebook should be named as follows:\n",
    "\n",
    "CL2025_groupN_assignment.ipynb\n",
    "\n",
    "where N is the group number. Submissions in the wrong format or with names not adhering to the guidelines will not be evaluated."
   ]
  },
  {
   "cell_type": "markdown",
   "metadata": {
    "id": "6rkN7t4rqacE"
   },
   "source": [
    "Indicate group members' names, student numbers, and contributions below:\n",
    "- 1. Lieke van Eijk\n",
    "- 2. Aimélie Speet (2103752);\n",
    "- 3. Fleur Sülter\n",
    "- 4. Julian Van Dijk\n",
    "- 5. Lars Heijnen"
   ]
  },
  {
   "cell_type": "code",
   "execution_count": null,
   "metadata": {
    "colab": {
     "base_uri": "https://localhost:8080/"
    },
    "collapsed": true,
    "executionInfo": {
     "elapsed": 83327,
     "status": "ok",
     "timestamp": 1744702553727,
     "user": {
      "displayName": "Aimélie",
      "userId": "04989847168617835967"
     },
     "user_tz": -120
    },
    "id": "OQbS5Urfit8W",
    "outputId": "67d01170-a9db-4569-ff59-d94527bc2f4c"
   },
   "outputs": [],
   "source": [
    "# the code has been tested using the psycho-embeddings library to extract representations from LLMs. You can also use other libraries,\n",
    "# as long as you make sure that you are producing the correct output.\n",
    "!git clone https://github.com/MilaNLProc/psycho-embeddings.git\n",
    "%cd psycho-embeddings\n",
    "!pip install datasets\n",
    "!pip install fasttext\n",
    "!pip install torch"
   ]
  },
  {
   "cell_type": "code",
   "execution_count": 18,
   "metadata": {
    "colab": {
     "base_uri": "https://localhost:8080/"
    },
    "executionInfo": {
     "elapsed": 52087,
     "status": "ok",
     "timestamp": 1744702625960,
     "user": {
      "displayName": "Aimélie",
      "userId": "04989847168617835967"
     },
     "user_tz": -120
    },
    "id": "ofb0L_c0AW0W",
    "outputId": "0c5ef5e3-c017-4731-c641-73606d9ca7e3"
   },
   "outputs": [],
   "source": [
    "# the solution to the assignment has been obtained using these packages.\n",
    "# you're free to use other packages though: consider this as an indication, not a prescription.\n",
    "import nltk\n",
    "import numpy as np\n",
    "import pandas as pd\n",
    "import fasttext as ft\n",
    "import pickle as pkl\n",
    "import fasttext.util\n",
    "from tqdm import tqdm\n",
    "from collections import defaultdict\n",
    "from transformers import AutoTokenizer\n",
    "from psycho_embeddings import ContextualizedEmbedder\n",
    "from IPython.display import display\n",
    "from collections import Counter\n",
    "import pandas as pd\n",
    "import io\n",
    "import requests\n",
    "import pyreadr"
   ]
  },
  {
   "cell_type": "markdown",
   "metadata": {
    "id": "Ra3phcRhKuuo"
   },
   "source": [
    "**Task 1** (*10 points available, see breakdown per task below*)\n",
    "\n",
    "You should replicate the main design in the paper *Valence without meaning* by Gatti and colleagues (2024), using estimates collected for Dutch word valence to train linear regression models and apply them to predict the valence of English pseudowords from Gatti and colleagues.\n",
    "\n",
    "In detail, to train your regression models, you should use the dataset by Speed and Brysbaert (2024) containing crowd-sourced valence ratings (use the metadata to identify the relevant columns) collected for approximately 24,000 Dutch words. See the paper *Ratings of valence, arousal, happiness, anger, fear, sadness, disgust, and surprise for 24,000 Dutch words* by Speed and Brysbaert (2024).\n",
    "\n",
    "You should train a letter unigram model and a bigram model. Each model should be trained on Dutch words only.\n",
    "\n",
    "Pay attention to one issue though: pseudowords created for English may be valid words in Dutch: therefore, you should first filter the list of pseudowords against a large store of Dutch words. To do so, use the words in the Dutch prevalence lexicon available in this OSF repository: https://osf.io/9zymw/. Essentially, you need to exclude any pseudoword that happens to be a word for which a prevalence estimate is available, whatever the prevalence is.\n",
    "\n",
    "Each code block indicates how many points are available and how they are attributed."
   ]
  },
  {
   "cell_type": "code",
   "execution_count": 7,
   "metadata": {
    "colab": {
     "base_uri": "https://localhost:8080/",
     "height": 368
    },
    "executionInfo": {
     "elapsed": 4527,
     "status": "error",
     "timestamp": 1744631741321,
     "user": {
      "displayName": "Lieke van Eijk",
      "userId": "14782018823013020993"
     },
     "user_tz": -120
    },
    "id": "Hrd4EhHlAcmi",
    "outputId": "9953b88b-dc06-4f8f-df9f-0a844c87052e"
   },
   "outputs": [
    {
     "name": "stdout",
     "output_type": "stream",
     "text": [
      "Variable name: data_fin\n"
     ]
    },
    {
     "data": {
      "text/html": [
       "<div>\n",
       "<style scoped>\n",
       "    .dataframe tbody tr th:only-of-type {\n",
       "        vertical-align: middle;\n",
       "    }\n",
       "\n",
       "    .dataframe tbody tr th {\n",
       "        vertical-align: top;\n",
       "    }\n",
       "\n",
       "    .dataframe thead th {\n",
       "        text-align: right;\n",
       "    }\n",
       "</style>\n",
       "<table border=\"1\" class=\"dataframe\">\n",
       "  <thead>\n",
       "    <tr style=\"text-align: right;\">\n",
       "      <th></th>\n",
       "      <th>Valence</th>\n",
       "      <th>predicted_val</th>\n",
       "      <th>predicted_valL</th>\n",
       "      <th>predicted_valL_BI</th>\n",
       "      <th>predicted_valDIM</th>\n",
       "      <th>predicted_valL_DIM</th>\n",
       "      <th>predicted_valBI</th>\n",
       "      <th>predicted_valBI_DIM</th>\n",
       "    </tr>\n",
       "    <tr>\n",
       "      <th>rownames</th>\n",
       "      <th></th>\n",
       "      <th></th>\n",
       "      <th></th>\n",
       "      <th></th>\n",
       "      <th></th>\n",
       "      <th></th>\n",
       "      <th></th>\n",
       "      <th></th>\n",
       "    </tr>\n",
       "  </thead>\n",
       "  <tbody>\n",
       "    <tr>\n",
       "      <th>aardvark</th>\n",
       "      <td>6.26</td>\n",
       "      <td>6.392012</td>\n",
       "      <td>4.920180</td>\n",
       "      <td>6.410768</td>\n",
       "      <td>5.772722</td>\n",
       "      <td>5.774341</td>\n",
       "      <td>6.410768</td>\n",
       "      <td>6.392012</td>\n",
       "    </tr>\n",
       "    <tr>\n",
       "      <th>abalone</th>\n",
       "      <td>5.30</td>\n",
       "      <td>4.756492</td>\n",
       "      <td>5.284912</td>\n",
       "      <td>5.115389</td>\n",
       "      <td>4.728264</td>\n",
       "      <td>4.858120</td>\n",
       "      <td>5.115389</td>\n",
       "      <td>4.756492</td>\n",
       "    </tr>\n",
       "    <tr>\n",
       "      <th>abandon</th>\n",
       "      <td>2.84</td>\n",
       "      <td>4.260055</td>\n",
       "      <td>5.001226</td>\n",
       "      <td>5.479860</td>\n",
       "      <td>3.978241</td>\n",
       "      <td>3.987623</td>\n",
       "      <td>5.479860</td>\n",
       "      <td>4.260055</td>\n",
       "    </tr>\n",
       "    <tr>\n",
       "      <th>abandonment</th>\n",
       "      <td>2.63</td>\n",
       "      <td>4.196807</td>\n",
       "      <td>5.022504</td>\n",
       "      <td>5.334364</td>\n",
       "      <td>3.833330</td>\n",
       "      <td>3.828077</td>\n",
       "      <td>5.334364</td>\n",
       "      <td>4.196807</td>\n",
       "    </tr>\n",
       "    <tr>\n",
       "      <th>abbey</th>\n",
       "      <td>5.85</td>\n",
       "      <td>6.123953</td>\n",
       "      <td>5.147159</td>\n",
       "      <td>5.162931</td>\n",
       "      <td>6.064834</td>\n",
       "      <td>6.094675</td>\n",
       "      <td>5.162931</td>\n",
       "      <td>6.123953</td>\n",
       "    </tr>\n",
       "  </tbody>\n",
       "</table>\n",
       "</div>"
      ],
      "text/plain": [
       "             Valence  predicted_val  predicted_valL  predicted_valL_BI  \\\n",
       "rownames                                                                 \n",
       "aardvark        6.26       6.392012        4.920180           6.410768   \n",
       "abalone         5.30       4.756492        5.284912           5.115389   \n",
       "abandon         2.84       4.260055        5.001226           5.479860   \n",
       "abandonment     2.63       4.196807        5.022504           5.334364   \n",
       "abbey           5.85       6.123953        5.147159           5.162931   \n",
       "\n",
       "             predicted_valDIM  predicted_valL_DIM  predicted_valBI  \\\n",
       "rownames                                                             \n",
       "aardvark             5.772722            5.774341         6.410768   \n",
       "abalone              4.728264            4.858120         5.115389   \n",
       "abandon              3.978241            3.987623         5.479860   \n",
       "abandonment          3.833330            3.828077         5.334364   \n",
       "abbey                6.064834            6.094675         5.162931   \n",
       "\n",
       "             predicted_valBI_DIM  \n",
       "rownames                          \n",
       "aardvark                6.392012  \n",
       "abalone                 4.756492  \n",
       "abandon                 4.260055  \n",
       "abandonment             4.196807  \n",
       "abbey                   6.123953  "
      ]
     },
     "metadata": {},
     "output_type": "display_data"
    },
    {
     "name": "stdout",
     "output_type": "stream",
     "text": [
      "Variable name: data_2\n"
     ]
    },
    {
     "data": {
      "text/html": [
       "<div>\n",
       "<style scoped>\n",
       "    .dataframe tbody tr th:only-of-type {\n",
       "        vertical-align: middle;\n",
       "    }\n",
       "\n",
       "    .dataframe tbody tr th {\n",
       "        vertical-align: top;\n",
       "    }\n",
       "\n",
       "    .dataframe thead th {\n",
       "        text-align: right;\n",
       "    }\n",
       "</style>\n",
       "<table border=\"1\" class=\"dataframe\">\n",
       "  <thead>\n",
       "    <tr style=\"text-align: right;\">\n",
       "      <th></th>\n",
       "      <th>X</th>\n",
       "      <th>pseudoword</th>\n",
       "      <th>Value</th>\n",
       "      <th>predicted_valence</th>\n",
       "      <th>predictedL_valence</th>\n",
       "      <th>predictedL_Bi_valence</th>\n",
       "      <th>predicted_Dim_valence</th>\n",
       "      <th>predictedL_Dim_valence</th>\n",
       "      <th>predictedBi_Dim_valence</th>\n",
       "      <th>predictedBi_valence</th>\n",
       "      <th>LDist</th>\n",
       "      <th>Ortho_VAL</th>\n",
       "      <th>Semant_Neigh</th>\n",
       "      <th>SDist</th>\n",
       "      <th>Semant_VAL</th>\n",
       "    </tr>\n",
       "  </thead>\n",
       "  <tbody>\n",
       "    <tr>\n",
       "      <th>0</th>\n",
       "      <td>1</td>\n",
       "      <td>abhert</td>\n",
       "      <td>0.452501</td>\n",
       "      <td>7.414814</td>\n",
       "      <td>5.116167</td>\n",
       "      <td>6.444633</td>\n",
       "      <td>6.783771</td>\n",
       "      <td>6.630497</td>\n",
       "      <td>7.414814</td>\n",
       "      <td>6.444633</td>\n",
       "      <td>2</td>\n",
       "      <td>4.655714</td>\n",
       "      <td>ordinary</td>\n",
       "      <td>0.558492</td>\n",
       "      <td>5.05</td>\n",
       "    </tr>\n",
       "    <tr>\n",
       "      <th>1</th>\n",
       "      <td>2</td>\n",
       "      <td>abhict</td>\n",
       "      <td>0.434171</td>\n",
       "      <td>8.233714</td>\n",
       "      <td>5.059183</td>\n",
       "      <td>6.509936</td>\n",
       "      <td>7.366068</td>\n",
       "      <td>7.377534</td>\n",
       "      <td>8.233714</td>\n",
       "      <td>6.509936</td>\n",
       "      <td>2</td>\n",
       "      <td>3.093333</td>\n",
       "      <td>cardigan</td>\n",
       "      <td>0.622202</td>\n",
       "      <td>5.95</td>\n",
       "    </tr>\n",
       "    <tr>\n",
       "      <th>2</th>\n",
       "      <td>3</td>\n",
       "      <td>acleat</td>\n",
       "      <td>0.527803</td>\n",
       "      <td>5.552468</td>\n",
       "      <td>5.262971</td>\n",
       "      <td>5.245826</td>\n",
       "      <td>5.268643</td>\n",
       "      <td>5.396114</td>\n",
       "      <td>5.552468</td>\n",
       "      <td>5.245826</td>\n",
       "      <td>1</td>\n",
       "      <td>4.240000</td>\n",
       "      <td>solarium</td>\n",
       "      <td>0.575150</td>\n",
       "      <td>6.10</td>\n",
       "    </tr>\n",
       "    <tr>\n",
       "      <th>3</th>\n",
       "      <td>4</td>\n",
       "      <td>acmure</td>\n",
       "      <td>0.604889</td>\n",
       "      <td>8.714640</td>\n",
       "      <td>5.120029</td>\n",
       "      <td>6.562896</td>\n",
       "      <td>7.680827</td>\n",
       "      <td>7.583230</td>\n",
       "      <td>7.809910</td>\n",
       "      <td>5.414532</td>\n",
       "      <td>2</td>\n",
       "      <td>5.885000</td>\n",
       "      <td>bad</td>\n",
       "      <td>0.570299</td>\n",
       "      <td>3.24</td>\n",
       "    </tr>\n",
       "    <tr>\n",
       "      <th>4</th>\n",
       "      <td>5</td>\n",
       "      <td>acoed</td>\n",
       "      <td>0.538990</td>\n",
       "      <td>7.340002</td>\n",
       "      <td>5.115652</td>\n",
       "      <td>5.309727</td>\n",
       "      <td>7.105662</td>\n",
       "      <td>7.024771</td>\n",
       "      <td>7.340002</td>\n",
       "      <td>5.309727</td>\n",
       "      <td>1</td>\n",
       "      <td>5.680000</td>\n",
       "      <td>girl</td>\n",
       "      <td>0.499035</td>\n",
       "      <td>7.15</td>\n",
       "    </tr>\n",
       "  </tbody>\n",
       "</table>\n",
       "</div>"
      ],
      "text/plain": [
       "   X pseudoword     Value  predicted_valence  predictedL_valence  \\\n",
       "0  1     abhert  0.452501           7.414814            5.116167   \n",
       "1  2     abhict  0.434171           8.233714            5.059183   \n",
       "2  3     acleat  0.527803           5.552468            5.262971   \n",
       "3  4     acmure  0.604889           8.714640            5.120029   \n",
       "4  5      acoed  0.538990           7.340002            5.115652   \n",
       "\n",
       "   predictedL_Bi_valence  predicted_Dim_valence  predictedL_Dim_valence  \\\n",
       "0               6.444633               6.783771                6.630497   \n",
       "1               6.509936               7.366068                7.377534   \n",
       "2               5.245826               5.268643                5.396114   \n",
       "3               6.562896               7.680827                7.583230   \n",
       "4               5.309727               7.105662                7.024771   \n",
       "\n",
       "   predictedBi_Dim_valence  predictedBi_valence  LDist  Ortho_VAL  \\\n",
       "0                 7.414814             6.444633      2   4.655714   \n",
       "1                 8.233714             6.509936      2   3.093333   \n",
       "2                 5.552468             5.245826      1   4.240000   \n",
       "3                 7.809910             5.414532      2   5.885000   \n",
       "4                 7.340002             5.309727      1   5.680000   \n",
       "\n",
       "  Semant_Neigh     SDist  Semant_VAL  \n",
       "0     ordinary  0.558492        5.05  \n",
       "1     cardigan  0.622202        5.95  \n",
       "2     solarium  0.575150        6.10  \n",
       "3          bad  0.570299        3.24  \n",
       "4         girl  0.499035        7.15  "
      ]
     },
     "metadata": {},
     "output_type": "display_data"
    },
    {
     "name": "stdout",
     "output_type": "stream",
     "text": [
      "Variable name: data_3\n"
     ]
    },
    {
     "data": {
      "text/html": [
       "<div>\n",
       "<style scoped>\n",
       "    .dataframe tbody tr th:only-of-type {\n",
       "        vertical-align: middle;\n",
       "    }\n",
       "\n",
       "    .dataframe tbody tr th {\n",
       "        vertical-align: top;\n",
       "    }\n",
       "\n",
       "    .dataframe thead th {\n",
       "        text-align: right;\n",
       "    }\n",
       "</style>\n",
       "<table border=\"1\" class=\"dataframe\">\n",
       "  <thead>\n",
       "    <tr style=\"text-align: right;\">\n",
       "      <th></th>\n",
       "      <th>pseudoword</th>\n",
       "      <th>VAL2</th>\n",
       "      <th>Elo</th>\n",
       "      <th>RW</th>\n",
       "      <th>Best</th>\n",
       "      <th>Worst</th>\n",
       "      <th>Unchosen</th>\n",
       "      <th>BestWorst</th>\n",
       "      <th>ABW</th>\n",
       "      <th>David</th>\n",
       "      <th>...</th>\n",
       "      <th>predictedL_Bi_valence</th>\n",
       "      <th>predicted_Dim_valence</th>\n",
       "      <th>predictedL_Dim_valence</th>\n",
       "      <th>predictedBi_Dim_valence</th>\n",
       "      <th>predictedBi_valence</th>\n",
       "      <th>LDist</th>\n",
       "      <th>Ortho_VAL</th>\n",
       "      <th>Semant_Neigh</th>\n",
       "      <th>SDist</th>\n",
       "      <th>Semant_VAL</th>\n",
       "    </tr>\n",
       "  </thead>\n",
       "  <tbody>\n",
       "    <tr>\n",
       "      <th>0</th>\n",
       "      <td>acleat</td>\n",
       "      <td>0.511226</td>\n",
       "      <td>-14.049630</td>\n",
       "      <td>0.516195</td>\n",
       "      <td>3</td>\n",
       "      <td>2</td>\n",
       "      <td>25</td>\n",
       "      <td>8.833333</td>\n",
       "      <td>0.066691</td>\n",
       "      <td>9400</td>\n",
       "      <td>...</td>\n",
       "      <td>5.245826</td>\n",
       "      <td>5.268643</td>\n",
       "      <td>5.396114</td>\n",
       "      <td>5.552468</td>\n",
       "      <td>5.245826</td>\n",
       "      <td>1</td>\n",
       "      <td>4.240000</td>\n",
       "      <td>solarium</td>\n",
       "      <td>0.575150</td>\n",
       "      <td>6.10</td>\n",
       "    </tr>\n",
       "    <tr>\n",
       "      <th>1</th>\n",
       "      <td>acmure</td>\n",
       "      <td>0.539304</td>\n",
       "      <td>117.178153</td>\n",
       "      <td>0.543576</td>\n",
       "      <td>9</td>\n",
       "      <td>6</td>\n",
       "      <td>15</td>\n",
       "      <td>25.500000</td>\n",
       "      <td>0.200671</td>\n",
       "      <td>62800</td>\n",
       "      <td>...</td>\n",
       "      <td>6.562896</td>\n",
       "      <td>7.680827</td>\n",
       "      <td>7.583230</td>\n",
       "      <td>7.809910</td>\n",
       "      <td>5.414532</td>\n",
       "      <td>2</td>\n",
       "      <td>5.885000</td>\n",
       "      <td>bad</td>\n",
       "      <td>0.570299</td>\n",
       "      <td>3.24</td>\n",
       "    </tr>\n",
       "    <tr>\n",
       "      <th>2</th>\n",
       "      <td>acraw</td>\n",
       "      <td>0.468173</td>\n",
       "      <td>-63.085202</td>\n",
       "      <td>0.462979</td>\n",
       "      <td>3</td>\n",
       "      <td>5</td>\n",
       "      <td>22</td>\n",
       "      <td>-16.166667</td>\n",
       "      <td>-0.133531</td>\n",
       "      <td>-33300</td>\n",
       "      <td>...</td>\n",
       "      <td>4.897807</td>\n",
       "      <td>8.202013</td>\n",
       "      <td>8.220112</td>\n",
       "      <td>7.968543</td>\n",
       "      <td>4.897807</td>\n",
       "      <td>2</td>\n",
       "      <td>5.044706</td>\n",
       "      <td>side</td>\n",
       "      <td>0.572060</td>\n",
       "      <td>5.32</td>\n",
       "    </tr>\n",
       "    <tr>\n",
       "      <th>3</th>\n",
       "      <td>adlor</td>\n",
       "      <td>0.601365</td>\n",
       "      <td>119.915944</td>\n",
       "      <td>0.603029</td>\n",
       "      <td>7</td>\n",
       "      <td>1</td>\n",
       "      <td>22</td>\n",
       "      <td>50.500000</td>\n",
       "      <td>0.405465</td>\n",
       "      <td>139500</td>\n",
       "      <td>...</td>\n",
       "      <td>4.625245</td>\n",
       "      <td>5.855695</td>\n",
       "      <td>5.899081</td>\n",
       "      <td>5.696890</td>\n",
       "      <td>4.625245</td>\n",
       "      <td>2</td>\n",
       "      <td>5.640667</td>\n",
       "      <td>act</td>\n",
       "      <td>0.589797</td>\n",
       "      <td>5.64</td>\n",
       "    </tr>\n",
       "    <tr>\n",
       "      <th>4</th>\n",
       "      <td>adpite</td>\n",
       "      <td>0.573363</td>\n",
       "      <td>106.951853</td>\n",
       "      <td>0.574467</td>\n",
       "      <td>7</td>\n",
       "      <td>2</td>\n",
       "      <td>21</td>\n",
       "      <td>42.166667</td>\n",
       "      <td>0.336472</td>\n",
       "      <td>103500</td>\n",
       "      <td>...</td>\n",
       "      <td>5.100143</td>\n",
       "      <td>8.216379</td>\n",
       "      <td>8.225612</td>\n",
       "      <td>8.363778</td>\n",
       "      <td>5.100143</td>\n",
       "      <td>2</td>\n",
       "      <td>6.066667</td>\n",
       "      <td>regard</td>\n",
       "      <td>0.590583</td>\n",
       "      <td>5.70</td>\n",
       "    </tr>\n",
       "  </tbody>\n",
       "</table>\n",
       "<p>5 rows × 27 columns</p>\n",
       "</div>"
      ],
      "text/plain": [
       "  pseudoword      VAL2         Elo        RW  Best  Worst  Unchosen  \\\n",
       "0     acleat  0.511226  -14.049630  0.516195     3      2        25   \n",
       "1     acmure  0.539304  117.178153  0.543576     9      6        15   \n",
       "2      acraw  0.468173  -63.085202  0.462979     3      5        22   \n",
       "3      adlor  0.601365  119.915944  0.603029     7      1        22   \n",
       "4     adpite  0.573363  106.951853  0.574467     7      2        21   \n",
       "\n",
       "   BestWorst       ABW   David  ...  predictedL_Bi_valence  \\\n",
       "0   8.833333  0.066691    9400  ...               5.245826   \n",
       "1  25.500000  0.200671   62800  ...               6.562896   \n",
       "2 -16.166667 -0.133531  -33300  ...               4.897807   \n",
       "3  50.500000  0.405465  139500  ...               4.625245   \n",
       "4  42.166667  0.336472  103500  ...               5.100143   \n",
       "\n",
       "   predicted_Dim_valence  predictedL_Dim_valence  predictedBi_Dim_valence  \\\n",
       "0               5.268643                5.396114                 5.552468   \n",
       "1               7.680827                7.583230                 7.809910   \n",
       "2               8.202013                8.220112                 7.968543   \n",
       "3               5.855695                5.899081                 5.696890   \n",
       "4               8.216379                8.225612                 8.363778   \n",
       "\n",
       "   predictedBi_valence  LDist  Ortho_VAL  Semant_Neigh     SDist  Semant_VAL  \n",
       "0             5.245826      1   4.240000      solarium  0.575150        6.10  \n",
       "1             5.414532      2   5.885000           bad  0.570299        3.24  \n",
       "2             4.897807      2   5.044706          side  0.572060        5.32  \n",
       "3             4.625245      2   5.640667           act  0.589797        5.64  \n",
       "4             5.100143      2   6.066667        regard  0.590583        5.70  \n",
       "\n",
       "[5 rows x 27 columns]"
      ]
     },
     "metadata": {},
     "output_type": "display_data"
    },
    {
     "name": "stdout",
     "output_type": "stream",
     "text": [
      "Variable name: .Random.seed\n"
     ]
    },
    {
     "data": {
      "text/html": [
       "<div>\n",
       "<style scoped>\n",
       "    .dataframe tbody tr th:only-of-type {\n",
       "        vertical-align: middle;\n",
       "    }\n",
       "\n",
       "    .dataframe tbody tr th {\n",
       "        vertical-align: top;\n",
       "    }\n",
       "\n",
       "    .dataframe thead th {\n",
       "        text-align: right;\n",
       "    }\n",
       "</style>\n",
       "<table border=\"1\" class=\"dataframe\">\n",
       "  <thead>\n",
       "    <tr style=\"text-align: right;\">\n",
       "      <th></th>\n",
       "      <th>.Random.seed</th>\n",
       "    </tr>\n",
       "  </thead>\n",
       "  <tbody>\n",
       "    <tr>\n",
       "      <th>0</th>\n",
       "      <td>10403</td>\n",
       "    </tr>\n",
       "    <tr>\n",
       "      <th>1</th>\n",
       "      <td>593</td>\n",
       "    </tr>\n",
       "    <tr>\n",
       "      <th>2</th>\n",
       "      <td>1050179519</td>\n",
       "    </tr>\n",
       "    <tr>\n",
       "      <th>3</th>\n",
       "      <td>2033100213</td>\n",
       "    </tr>\n",
       "    <tr>\n",
       "      <th>4</th>\n",
       "      <td>-1373968898</td>\n",
       "    </tr>\n",
       "  </tbody>\n",
       "</table>\n",
       "</div>"
      ],
      "text/plain": [
       "   .Random.seed\n",
       "0         10403\n",
       "1           593\n",
       "2    1050179519\n",
       "3    2033100213\n",
       "4   -1373968898"
      ]
     },
     "metadata": {},
     "output_type": "display_data"
    },
    {
     "name": "stdout",
     "output_type": "stream",
     "text": [
      "Variable name: Count\n"
     ]
    },
    {
     "data": {
      "text/html": [
       "<div>\n",
       "<style scoped>\n",
       "    .dataframe tbody tr th:only-of-type {\n",
       "        vertical-align: middle;\n",
       "    }\n",
       "\n",
       "    .dataframe tbody tr th {\n",
       "        vertical-align: top;\n",
       "    }\n",
       "\n",
       "    .dataframe thead th {\n",
       "        text-align: right;\n",
       "    }\n",
       "</style>\n",
       "<table border=\"1\" class=\"dataframe\">\n",
       "  <thead>\n",
       "    <tr style=\"text-align: right;\">\n",
       "      <th></th>\n",
       "      <th>Word</th>\n",
       "      <th>a</th>\n",
       "      <th>b</th>\n",
       "      <th>c</th>\n",
       "      <th>d</th>\n",
       "      <th>e</th>\n",
       "      <th>f</th>\n",
       "      <th>g</th>\n",
       "      <th>h</th>\n",
       "      <th>i</th>\n",
       "      <th>...</th>\n",
       "      <th>Dim_292</th>\n",
       "      <th>Dim_293</th>\n",
       "      <th>Dim_294</th>\n",
       "      <th>Dim_295</th>\n",
       "      <th>Dim_296</th>\n",
       "      <th>Dim_297</th>\n",
       "      <th>Dim_298</th>\n",
       "      <th>Dim_299</th>\n",
       "      <th>Dim_300</th>\n",
       "      <th>Valence</th>\n",
       "    </tr>\n",
       "  </thead>\n",
       "  <tbody>\n",
       "    <tr>\n",
       "      <th>0</th>\n",
       "      <td>aardvark</td>\n",
       "      <td>3</td>\n",
       "      <td>0</td>\n",
       "      <td>0</td>\n",
       "      <td>1</td>\n",
       "      <td>0</td>\n",
       "      <td>0</td>\n",
       "      <td>0</td>\n",
       "      <td>0</td>\n",
       "      <td>0</td>\n",
       "      <td>...</td>\n",
       "      <td>0.049830</td>\n",
       "      <td>-0.052880</td>\n",
       "      <td>0.019918</td>\n",
       "      <td>-0.003339</td>\n",
       "      <td>-0.005436</td>\n",
       "      <td>0.039293</td>\n",
       "      <td>-0.010782</td>\n",
       "      <td>-0.023010</td>\n",
       "      <td>0.007921</td>\n",
       "      <td>6.26</td>\n",
       "    </tr>\n",
       "    <tr>\n",
       "      <th>1</th>\n",
       "      <td>abalone</td>\n",
       "      <td>2</td>\n",
       "      <td>1</td>\n",
       "      <td>0</td>\n",
       "      <td>0</td>\n",
       "      <td>1</td>\n",
       "      <td>0</td>\n",
       "      <td>0</td>\n",
       "      <td>0</td>\n",
       "      <td>0</td>\n",
       "      <td>...</td>\n",
       "      <td>0.019090</td>\n",
       "      <td>-0.083532</td>\n",
       "      <td>0.024157</td>\n",
       "      <td>-0.006709</td>\n",
       "      <td>-0.005889</td>\n",
       "      <td>0.019107</td>\n",
       "      <td>0.054735</td>\n",
       "      <td>0.026275</td>\n",
       "      <td>0.026177</td>\n",
       "      <td>5.30</td>\n",
       "    </tr>\n",
       "    <tr>\n",
       "      <th>2</th>\n",
       "      <td>abandon</td>\n",
       "      <td>2</td>\n",
       "      <td>1</td>\n",
       "      <td>0</td>\n",
       "      <td>1</td>\n",
       "      <td>0</td>\n",
       "      <td>0</td>\n",
       "      <td>0</td>\n",
       "      <td>0</td>\n",
       "      <td>0</td>\n",
       "      <td>...</td>\n",
       "      <td>-0.018420</td>\n",
       "      <td>0.003779</td>\n",
       "      <td>0.011741</td>\n",
       "      <td>-0.012012</td>\n",
       "      <td>0.007799</td>\n",
       "      <td>-0.062272</td>\n",
       "      <td>-0.006584</td>\n",
       "      <td>-0.008598</td>\n",
       "      <td>-0.012287</td>\n",
       "      <td>2.84</td>\n",
       "    </tr>\n",
       "    <tr>\n",
       "      <th>3</th>\n",
       "      <td>abandonment</td>\n",
       "      <td>2</td>\n",
       "      <td>1</td>\n",
       "      <td>0</td>\n",
       "      <td>1</td>\n",
       "      <td>1</td>\n",
       "      <td>0</td>\n",
       "      <td>0</td>\n",
       "      <td>0</td>\n",
       "      <td>0</td>\n",
       "      <td>...</td>\n",
       "      <td>-0.020326</td>\n",
       "      <td>-0.040106</td>\n",
       "      <td>0.000867</td>\n",
       "      <td>-0.022475</td>\n",
       "      <td>-0.013669</td>\n",
       "      <td>0.021974</td>\n",
       "      <td>0.021332</td>\n",
       "      <td>0.021166</td>\n",
       "      <td>0.003248</td>\n",
       "      <td>2.63</td>\n",
       "    </tr>\n",
       "    <tr>\n",
       "      <th>4</th>\n",
       "      <td>abbey</td>\n",
       "      <td>1</td>\n",
       "      <td>2</td>\n",
       "      <td>0</td>\n",
       "      <td>0</td>\n",
       "      <td>1</td>\n",
       "      <td>0</td>\n",
       "      <td>0</td>\n",
       "      <td>0</td>\n",
       "      <td>0</td>\n",
       "      <td>...</td>\n",
       "      <td>0.077062</td>\n",
       "      <td>-0.073641</td>\n",
       "      <td>-0.014475</td>\n",
       "      <td>0.034482</td>\n",
       "      <td>-0.011150</td>\n",
       "      <td>0.028477</td>\n",
       "      <td>0.034331</td>\n",
       "      <td>0.018858</td>\n",
       "      <td>-0.047663</td>\n",
       "      <td>5.85</td>\n",
       "    </tr>\n",
       "  </tbody>\n",
       "</table>\n",
       "<p>5 rows × 1056 columns</p>\n",
       "</div>"
      ],
      "text/plain": [
       "          Word  a  b  c  d  e  f  g  h  i  ...   Dim_292   Dim_293   Dim_294  \\\n",
       "0     aardvark  3  0  0  1  0  0  0  0  0  ...  0.049830 -0.052880  0.019918   \n",
       "1      abalone  2  1  0  0  1  0  0  0  0  ...  0.019090 -0.083532  0.024157   \n",
       "2      abandon  2  1  0  1  0  0  0  0  0  ... -0.018420  0.003779  0.011741   \n",
       "3  abandonment  2  1  0  1  1  0  0  0  0  ... -0.020326 -0.040106  0.000867   \n",
       "4        abbey  1  2  0  0  1  0  0  0  0  ...  0.077062 -0.073641 -0.014475   \n",
       "\n",
       "    Dim_295   Dim_296   Dim_297   Dim_298   Dim_299   Dim_300  Valence  \n",
       "0 -0.003339 -0.005436  0.039293 -0.010782 -0.023010  0.007921     6.26  \n",
       "1 -0.006709 -0.005889  0.019107  0.054735  0.026275  0.026177     5.30  \n",
       "2 -0.012012  0.007799 -0.062272 -0.006584 -0.008598 -0.012287     2.84  \n",
       "3 -0.022475 -0.013669  0.021974  0.021332  0.021166  0.003248     2.63  \n",
       "4  0.034482 -0.011150  0.028477  0.034331  0.018858 -0.047663     5.85  \n",
       "\n",
       "[5 rows x 1056 columns]"
      ]
     },
     "metadata": {},
     "output_type": "display_data"
    },
    {
     "name": "stdout",
     "output_type": "stream",
     "text": [
      "Variable name: comb_2\n"
     ]
    },
    {
     "data": {
      "text/html": [
       "<div>\n",
       "<style scoped>\n",
       "    .dataframe tbody tr th:only-of-type {\n",
       "        vertical-align: middle;\n",
       "    }\n",
       "\n",
       "    .dataframe tbody tr th {\n",
       "        vertical-align: top;\n",
       "    }\n",
       "\n",
       "    .dataframe thead th {\n",
       "        text-align: right;\n",
       "    }\n",
       "</style>\n",
       "<table border=\"1\" class=\"dataframe\">\n",
       "  <thead>\n",
       "    <tr style=\"text-align: right;\">\n",
       "      <th></th>\n",
       "      <th>Word</th>\n",
       "      <th>Value1</th>\n",
       "      <th>Value2</th>\n",
       "    </tr>\n",
       "  </thead>\n",
       "  <tbody>\n",
       "    <tr>\n",
       "      <th>0</th>\n",
       "      <td>abhert</td>\n",
       "      <td>0.473009</td>\n",
       "      <td>0.406491</td>\n",
       "    </tr>\n",
       "    <tr>\n",
       "      <th>1</th>\n",
       "      <td>abhict</td>\n",
       "      <td>0.375453</td>\n",
       "      <td>0.472723</td>\n",
       "    </tr>\n",
       "    <tr>\n",
       "      <th>2</th>\n",
       "      <td>acleat</td>\n",
       "      <td>0.583840</td>\n",
       "      <td>0.496628</td>\n",
       "    </tr>\n",
       "    <tr>\n",
       "      <th>3</th>\n",
       "      <td>acmure</td>\n",
       "      <td>0.607354</td>\n",
       "      <td>0.597101</td>\n",
       "    </tr>\n",
       "    <tr>\n",
       "      <th>4</th>\n",
       "      <td>acoed</td>\n",
       "      <td>0.526847</td>\n",
       "      <td>0.551518</td>\n",
       "    </tr>\n",
       "  </tbody>\n",
       "</table>\n",
       "</div>"
      ],
      "text/plain": [
       "     Word    Value1    Value2\n",
       "0  abhert  0.473009  0.406491\n",
       "1  abhict  0.375453  0.472723\n",
       "2  acleat  0.583840  0.496628\n",
       "3  acmure  0.607354  0.597101\n",
       "4   acoed  0.526847  0.551518"
      ]
     },
     "metadata": {},
     "output_type": "display_data"
    },
    {
     "name": "stdout",
     "output_type": "stream",
     "text": [
      "Variable name: comb_3\n"
     ]
    },
    {
     "data": {
      "text/html": [
       "<div>\n",
       "<style scoped>\n",
       "    .dataframe tbody tr th:only-of-type {\n",
       "        vertical-align: middle;\n",
       "    }\n",
       "\n",
       "    .dataframe tbody tr th {\n",
       "        vertical-align: top;\n",
       "    }\n",
       "\n",
       "    .dataframe thead th {\n",
       "        text-align: right;\n",
       "    }\n",
       "</style>\n",
       "<table border=\"1\" class=\"dataframe\">\n",
       "  <thead>\n",
       "    <tr style=\"text-align: right;\">\n",
       "      <th></th>\n",
       "      <th>Word</th>\n",
       "      <th>Value1</th>\n",
       "      <th>Value2</th>\n",
       "    </tr>\n",
       "  </thead>\n",
       "  <tbody>\n",
       "    <tr>\n",
       "      <th>0</th>\n",
       "      <td>acleat</td>\n",
       "      <td>0.493853</td>\n",
       "      <td>0.533178</td>\n",
       "    </tr>\n",
       "    <tr>\n",
       "      <th>1</th>\n",
       "      <td>acmure</td>\n",
       "      <td>0.578694</td>\n",
       "      <td>0.520666</td>\n",
       "    </tr>\n",
       "    <tr>\n",
       "      <th>2</th>\n",
       "      <td>acraw</td>\n",
       "      <td>0.506507</td>\n",
       "      <td>0.430297</td>\n",
       "    </tr>\n",
       "    <tr>\n",
       "      <th>3</th>\n",
       "      <td>adlor</td>\n",
       "      <td>0.598781</td>\n",
       "      <td>0.599522</td>\n",
       "    </tr>\n",
       "    <tr>\n",
       "      <th>4</th>\n",
       "      <td>adpite</td>\n",
       "      <td>0.598732</td>\n",
       "      <td>0.536912</td>\n",
       "    </tr>\n",
       "  </tbody>\n",
       "</table>\n",
       "</div>"
      ],
      "text/plain": [
       "     Word    Value1    Value2\n",
       "0  acleat  0.493853  0.533178\n",
       "1  acmure  0.578694  0.520666\n",
       "2   acraw  0.506507  0.430297\n",
       "3   adlor  0.598781  0.599522\n",
       "4  adpite  0.598732  0.536912"
      ]
     },
     "metadata": {},
     "output_type": "display_data"
    },
    {
     "data": {
      "text/html": [
       "<div>\n",
       "<style scoped>\n",
       "    .dataframe tbody tr th:only-of-type {\n",
       "        vertical-align: middle;\n",
       "    }\n",
       "\n",
       "    .dataframe tbody tr th {\n",
       "        vertical-align: top;\n",
       "    }\n",
       "\n",
       "    .dataframe thead th {\n",
       "        text-align: right;\n",
       "    }\n",
       "</style>\n",
       "<table border=\"1\" class=\"dataframe\">\n",
       "  <thead>\n",
       "    <tr style=\"text-align: right;\">\n",
       "      <th></th>\n",
       "      <th>List</th>\n",
       "      <th>Participant</th>\n",
       "      <th>Word</th>\n",
       "      <th>Valence</th>\n",
       "      <th>Unknown</th>\n",
       "      <th>RemoveParticipant</th>\n",
       "    </tr>\n",
       "  </thead>\n",
       "  <tbody>\n",
       "    <tr>\n",
       "      <th>0</th>\n",
       "      <td>Lijst 5</td>\n",
       "      <td>Lijst 5_PP1</td>\n",
       "      <td>aai</td>\n",
       "      <td>5.0</td>\n",
       "      <td>0</td>\n",
       "      <td>0</td>\n",
       "    </tr>\n",
       "    <tr>\n",
       "      <th>1</th>\n",
       "      <td>Lijst 5</td>\n",
       "      <td>Lijst 5_PP11</td>\n",
       "      <td>aai</td>\n",
       "      <td>3.0</td>\n",
       "      <td>0</td>\n",
       "      <td>0</td>\n",
       "    </tr>\n",
       "    <tr>\n",
       "      <th>2</th>\n",
       "      <td>Lijst 5</td>\n",
       "      <td>Lijst 5_PP12</td>\n",
       "      <td>aai</td>\n",
       "      <td>3.0</td>\n",
       "      <td>0</td>\n",
       "      <td>0</td>\n",
       "    </tr>\n",
       "    <tr>\n",
       "      <th>3</th>\n",
       "      <td>Lijst 5</td>\n",
       "      <td>Lijst 5_PP2</td>\n",
       "      <td>aai</td>\n",
       "      <td>3.0</td>\n",
       "      <td>0</td>\n",
       "      <td>0</td>\n",
       "    </tr>\n",
       "    <tr>\n",
       "      <th>4</th>\n",
       "      <td>Lijst 5</td>\n",
       "      <td>Lijst 5_PP3</td>\n",
       "      <td>aai</td>\n",
       "      <td>4.0</td>\n",
       "      <td>0</td>\n",
       "      <td>0</td>\n",
       "    </tr>\n",
       "  </tbody>\n",
       "</table>\n",
       "</div>"
      ],
      "text/plain": [
       "      List   Participant Word  Valence  Unknown  RemoveParticipant\n",
       "0  Lijst 5   Lijst 5_PP1  aai      5.0        0                  0\n",
       "1  Lijst 5  Lijst 5_PP11  aai      3.0        0                  0\n",
       "2  Lijst 5  Lijst 5_PP12  aai      3.0        0                  0\n",
       "3  Lijst 5   Lijst 5_PP2  aai      3.0        0                  0\n",
       "4  Lijst 5   Lijst 5_PP3  aai      4.0        0                  0"
      ]
     },
     "metadata": {},
     "output_type": "display_data"
    },
    {
     "data": {
      "text/html": [
       "<div>\n",
       "<style scoped>\n",
       "    .dataframe tbody tr th:only-of-type {\n",
       "        vertical-align: middle;\n",
       "    }\n",
       "\n",
       "    .dataframe tbody tr th {\n",
       "        vertical-align: top;\n",
       "    }\n",
       "\n",
       "    .dataframe thead th {\n",
       "        text-align: right;\n",
       "    }\n",
       "</style>\n",
       "<table border=\"1\" class=\"dataframe\">\n",
       "  <thead>\n",
       "    <tr style=\"text-align: right;\">\n",
       "      <th></th>\n",
       "      <th>Word</th>\n",
       "      <th>Valence</th>\n",
       "      <th>N_Unknown</th>\n",
       "      <th>N_Valence</th>\n",
       "      <th>ProportionUnknown</th>\n",
       "      <th>RemoveUnknown</th>\n",
       "    </tr>\n",
       "  </thead>\n",
       "  <tbody>\n",
       "    <tr>\n",
       "      <th>0</th>\n",
       "      <td>concordantie</td>\n",
       "      <td>3.222222</td>\n",
       "      <td>11</td>\n",
       "      <td>9</td>\n",
       "      <td>0.550000</td>\n",
       "      <td>1</td>\n",
       "    </tr>\n",
       "    <tr>\n",
       "      <th>1</th>\n",
       "      <td>nepotisme</td>\n",
       "      <td>2.111111</td>\n",
       "      <td>10</td>\n",
       "      <td>9</td>\n",
       "      <td>0.526316</td>\n",
       "      <td>1</td>\n",
       "    </tr>\n",
       "    <tr>\n",
       "      <th>2</th>\n",
       "      <td>prefectuur</td>\n",
       "      <td>3.222222</td>\n",
       "      <td>10</td>\n",
       "      <td>9</td>\n",
       "      <td>0.526316</td>\n",
       "      <td>1</td>\n",
       "    </tr>\n",
       "    <tr>\n",
       "      <th>3</th>\n",
       "      <td>prevaleren</td>\n",
       "      <td>3.444444</td>\n",
       "      <td>10</td>\n",
       "      <td>9</td>\n",
       "      <td>0.526316</td>\n",
       "      <td>1</td>\n",
       "    </tr>\n",
       "    <tr>\n",
       "      <th>4</th>\n",
       "      <td>affiliatie</td>\n",
       "      <td>3.100000</td>\n",
       "      <td>9</td>\n",
       "      <td>10</td>\n",
       "      <td>0.473684</td>\n",
       "      <td>0</td>\n",
       "    </tr>\n",
       "  </tbody>\n",
       "</table>\n",
       "</div>"
      ],
      "text/plain": [
       "           Word   Valence  N_Unknown  N_Valence  ProportionUnknown  \\\n",
       "0  concordantie  3.222222         11          9           0.550000   \n",
       "1     nepotisme  2.111111         10          9           0.526316   \n",
       "2    prefectuur  3.222222         10          9           0.526316   \n",
       "3    prevaleren  3.444444         10          9           0.526316   \n",
       "4    affiliatie  3.100000          9         10           0.473684   \n",
       "\n",
       "   RemoveUnknown  \n",
       "0              1  \n",
       "1              1  \n",
       "2              1  \n",
       "3              1  \n",
       "4              0  "
      ]
     },
     "metadata": {},
     "output_type": "display_data"
    }
   ],
   "source": [
    "# read in the pseudowords from Gatti and colleagues, as well as the valence ratings for 24,000 Dutch words from Speed and Brysbaert (2024)\n",
    "# show the first 5 lines of each dataset.\n",
    "# 1 point for identifying the correct files and correctly loading their content\n",
    "\n",
    "#Gatti Data\n",
    "gatti_data =pyreadr.read_r('/Users/larsheijnen/CL/data/data_pseudovalence.RData')\n",
    "\n",
    "for key, value in gatti_data.items():\n",
    "    print(f\"Variable name: {key}\")\n",
    "    display(value.head())\n",
    "\n",
    "#Speed and Brysbaert (2024)\n",
    "speed_and_rysbaert_all = pd.read_excel(\"/Users/larsheijnen/CL/data/All_Valence.xlsx\", sheet_name = \"All\")\n",
    "speed_and_rysbaert_means = pd.read_excel(\"/Users/larsheijnen/CL/data/All_Valence.xlsx\", sheet_name = \"Means\")\n",
    "display(speed_and_rysbaert_all.head())\n",
    "display(speed_and_rysbaert_means.head())"
   ]
  },
  {
   "cell_type": "code",
   "execution_count": null,
   "metadata": {
    "id": "As4XV-LQPbyH"
   },
   "outputs": [
    {
     "name": "stdout",
     "output_type": "stream",
     "text": [
      "{'dictator', 'chimp', 'thriller', 'auto', 'taco', 'spit', 'loft', 'publicist', 'planner', 'tender', 'continent', 'replica', 'bank', 'convertible', 'herpes', 'celebrity', 'microwave', 'giraffe', 'sinus', 'magazine', 'magnesium', 'harem', 'snapshot', 'jacket', 'wee', 'roman', 'trap', 'lego', 'propaganda', 'gateway', 'chloride', 'grip', 'excrement', 'detonator', 'prospect', 'succubus', 'hare', 'slobber', 'tank', 'harp', 'password', 'skeet', 'wrong', 'serpent', 'chopper', 'oven', 'flop', 'ponder', 'hot', 'fellow', 'kitten', 'sleep', 'respect', 'rot', 'hobby', 'back', 'notebook', 'swastika', 'flamboyant', 'spot', 'opium', 'peroxide', 'helper', 'belligerent', 'tier', 'monitor', 'shelter', 'bootleg', 'alarm', 'flirt', 'pit', 'brunch', 'spaghetti', 'echo', 'dove', 'wolf', 'drifter', 'taps', 'counselor', 'martini', 'squaw', 'aquarium', 'boxer', 'jogger', 'tetanus', 'fan', 'end', 'crisis', 'accept', 'designer', 'blink', 'roulette', 'single', 'coke', 'wild', 'sandwich', 'farm', 'descendant', 'podium', 'vigilante', 'hole', 'ventilator', 'nicotine', 'plank', 'intellect', 'tolerant', 'graft', 'petroleum', 'blunder', 'rabbi', 'bidder', 'filet', 'suspect', 'subject', 'air', 'speaker', 'embryo', 'lag', 'fret', 'finalist', 'domino', 'valve', 'absurd', 'bonbon', 'transcendent', 'decimeter', 'emerald', 'entertainer', 'floppy', 'indirect', 'sidekick', 'tab', 'tsunami', 'womanizer', 'retro', 'bang', 'agent', 'plasma', 'zest', 'deficit', 'coupon', 'freak', 'ruling', 'timing', 'turf', 'combine', 'ballerina', 'context', 'clip', 'offshore', 'office', 'snap', 'compressor', 'fundraising', 'pregnant', 'sketch', 'surplus', 'nanny', 'volume', 'dot', 'uppercut', 'stretch', 'pub', 'impotent', 'countdown', 'thesis', 'interest', 'scrimmage', 'origami', 'mousse', 'groupie', 'cowboy', 'cider', 'doom', 'fuchsia', 'cocktail', 'outsider', 'incident', 'loco', 'binder', 'yell', 'fly', 'crack', 'freestyle', 'essay', 'trend', 'expo', 'plant', 'spectator', 'scan', 'link', 'instant', 'diesel', 'sofa', 'farce', 'training', 'superman', 'lip', 'angst', 'date', 'catchy', 'handicap', 'tabasco', 'postman', 'scooter', 'moment', 'corner', 'ecstasy', 'matrix', 'interim', 'pisser', 'bracelet', 'sound', 'concern', 'metallic', 'acid', 'laser', 'boot', 'milligram', 'optimum', 'shotgun', 'lab', 'software', 'graffiti', 'schilling', 'frame', 'display', 'monopoly', 'cluster', 'bullet', 'opening', 'special', 'duplex', 'lasso', 'riff', 'masochist', 'sheet', 'puck', 'binding', 'scope', 'order', 'coma', 'sleet', 'barracuda', 'pony', 'sweetie', 'alert', 'sigma', 'composer', 'contract', 'fake', 'bitter', 'bat', 'topless', 'pretext', 'shovel', 'caramel', 'baggy', 'mustang', 'succulent', 'exposure', 'incubator', 'organist', 'soiree', 'pallet', 'tweed', 'relaxed', 'relevant', 'close', 'van', 'sabbatical', 'fungus', 'contrast', 'dashboard', 'splinter', 'prompt', 'soften', 'revival', 'plan', 'boy', 'print', 'dingo', 'cello', 'radio', 'batter', 'supernova', 'stop', 'strapless', 'pen', 'smash', 'backhand', 'map', 'factor', 'vibrator', 'potent', 'statement', 'arrogant', 'wringer', 'rugby', 'coating', 'zoo', 'hut', 'asterisk', 'manuscript', 'alfalfa', 'participant', 'tourniquet', 'latent', 'venture', 'profane', 'salmonella', 'cellist', 'camcorder', 'falafel', 'sap', 'dame', 'cameraman', 'filter', 'bookmaker', 'delirium', 'pauper', 'door', 'cargo', 'incentive', 'internet', 'etiquette', 'godfather', 'survival', 'brunette', 'safe', 'flux', 'risotto', 'sneaker', 'review', 'basement', 'terminal', 'prestige', 'choke', 'paprika', 'bulldozer', 'have', 'flair', 'poncho', 'reactor', 'feeling', 'crucifix', 'bartender', 'ring', 'gadget', 'volley', 'research', 'climax', 'predator', 'select', 'commando', 'apex', 'absence', 'pantry', 'attitude', 'sax', 'defibrillator', 'view', 'performer', 'carpool', 'ravioli', 'egghead', 'warlord', 'supervisor', 'roe', 'instinct', 'occult', 'show', 'game', 'pad', 'maestro', 'marathon', 'hand', 'shot', 'teamwork', 'skin', 'canon', 'hinder', 'idealist', 'trimester', 'playa', 'printer', 'hockey', 'precedent', 'appendix', 'funk', 'module', 'kind', 'wagon', 'garage', 'macho', 'stretcher', 'scene', 'gal', 'dunk', 'refuge', 'rite', 'web', 'poltergeist', 'stock', 'bard', 'gimmick', 'concept', 'square', 'response', 'plankton', 'gigolo', 'spin', 'junior', 'communist', 'bourbon', 'pot', 'croissant', 'ram', 'item', 'angina', 'large', 'babysitter', 'cavalier', 'slice', 'ounce', 'gram', 'gladiator', 'lotus', 'letter', 'prove', 'hyena', 'orthodontist', 'store', 'flat', 'tin', 'tree', 'commune', 'bridge', 'debacle', 'shilling', 'hydrant', 'damper', 'jazz', 'monsieur', 'replay', 'ninja', 'conference', 'beef', 'matter', 'bladder', 'prior', 'job', 'burrito', 'excellent', 'bowling', 'sorry', 'test', 'impediment', 'silo', 'tempo', 'uterus', 'flashback', 'mate', 'rat', 'par', 'sardine', 'lap', 'kick', 'chloroform', 'plaque', 'live', 'cervix', 'angel', 'bodega', 'penalty', 'topic', 'triage', 'plutonium', 'albino', 'cross', 'projector', 'veer', 'adrenaline', 'passage', 'parking', 'helium', 'groovy', 'biker', 'skateboard', 'chiropractor', 'gold', 'ladder', 'magnolia', 'slash', 'bad', 'radiator', 'hologram', 'dilemma', 'intercom', 'yard', 'blanket', 'promotion', 'deal', 'sneer', 'feedback', 'cupcake', 'kilo', 'testament', 'mores', 'inherent', 'desperado', 'tenor', 'speedway', 'thermometer', 'cannabis', 'god', 'feature', 'intake', 'slab', 'mess', 'voltage', 'competent', 'veranda', 'confetti', 'military', 'superstar', 'menu', 'jubilee', 'nut', 'anklet', 'lounge', 'bypass', 'drugs', 'gas', 'reporter', 'jeep', 'device', 'magnitude', 'report', 'prelude', 'sequel', 'feeder', 'pigskin', 'blow', 'cent', 'clinch', 'hooligan', 'appetizer', 'label', 'babe', 'boots', 'landing', 'west', 'commodity', 'violet', 'tuba', 'basketball', 'vermouth', 'engineering', 'poll', 'camp', 'guacamole', 'site', 'terrorist', 'affect', 'pup', 'pet', 'butler', 'dessert', 'chorus', 'festival', 'mall', 'joint', 'nonchalant', 'pretzel', 'export', 'golfer', 'building', 'fiancee', 'box', 'video', 'ten', 'pi', 'futon', 'stamp', 'cabaret', 'practical', 'spook', 'depot', 'urn', 'rooster', 'dam', 'warm', 'vendetta', 'hospice', 'lessen', 'humbug', 'wad', 'cholera', 'turban', 'doctor', 'entourage', 'deejay', 'uniform', 'saboteur', 'decor', 'freelance', 'gander', 'cheeseburger', 'bulletin', 'limbo', 'extravagant', 'mainframe', 'skater', 'convent', 'pardon', 'hostess', 'peptide', 'prototype', 'underdog', 'cadet', 'tanker', 'immigrant', 'outlook', 'spinner', 'pond', 'protestant', 'tip', 'attest', 'dialect', 'artwork', 'parallel', 'bun', 'proton', 'goodwill', 'picture', 'trivia', 'loot', 'go', 'roadie', 'massage', 'snip', 'burger', 'irrelevant', 'twist', 'tango', 'journalist', 'budget', 'dossier', 'inch', 'condor', 'transistor', 'mug', 'specimen', 'nipper', 'crescendo', 'brochure', 'constant', 'trainee', 'sinister', 'mono', 'mentor', 'corridor', 'mailing', 'wit', 'pantheon', 'radar', 'hickory', 'halt', 'drop', 'slag', 'detergent', 'shabby', 'nerd', 'montage', 'ska', 'selenium', 'big', 'goal', 'golf', 'optimist', 'compact', 'spring', 'joker', 'basket', 'click', 'musical', 'norm', 'overall', 'musket', 'torment', 'helix', 'ranking', 'indiscreet', 'pier', 'elegant', 'bestseller', 'present', 'tape', 'cyanide', 'episode', 'bachelor', 'entree', 'fairway', 'lamp', 'pupil', 'charge', 'mistletoe', 'sherry', 'trombone', 'globe', 'fascist', 'type', 'hostel', 'yank', 'kilt', 'train', 'duffel', 'chipper', 'premium', 'slap', 'cascade', 'gym', 'robber', 'gravel', 'pang', 'rumble', 'omelet', 'cartridge', 'equalizer', 'ammonium', 'bazaar', 'sprint', 'pedigree', 'typist', 'glitter', 'genre', 'pact', 'spirit', 'rotten', 'laryngitis', 'diabetes', 'ornament', 'asparagus', 'stage', 'coat', 'planter', 'imminent', 'chassis', 'boring', 'bonnet', 'talk', 'wedding', 'power', 'cake', 'toss', 'sage', 'corduroy', 'molecule', 'patience', 'trapeze', 'interface', 'blizzard', 'hardware', 'hernia', 'camping', 'habitat', 'keeper', 'pasta', 'engagement', 'dollar', 'den', 'park', 'pulsar', 'bias', 'intelligent', 'tapioca', 'masseuse', 'stadium', 'supplement', 'background', 'template', 'feces', 'bebop', 'portal', 'waterproof', 'route', 'indicator', 'clairvoyant', 'peanuts', 'spotlight', 'chateau', 'waterbed', 'shunt', 'sample', 'deodorant', 'taupe', 'lid', 'flyer', 'prominent', 'chaos', 'recital', 'buggy', 'socialist', 'high', 'crayon', 'bedpan', 'elixir', 'placement', 'junk', 'page', 'tiara', 'gallon', 'mahjong', 'synthesizer', 'romp', 'defect', 'state', 'raid', 'polo', 'parachute', 'gaping', 'linoleum', 'memorabilia', 'employee', 'loser', 'efficiency', 'start', 'lord', 'alter', 'adolescent', 'column', 'flap', 'shocking', 'backbone', 'mixture', 'ultraviolet', 'oxide', 'goulash', 'privacy', 'hotdog', 'kennel', 'wok', 'board', 'slipper', 'snorkel', 'sultan', 'shaker', 'promo', 'rag', 'angora', 'soap', 'monarch', 'panda', 'shanty', 'rug', 'vest', 'smooth', 'lover', 'collage', 'titan', 'scrabble', 'tribal', 'psoriasis', 'lifestyle', 'cinema', 'bleu', 'flagrant', 'rapport', 'penitent', 'kidnapping', 'accountant', 'kelp', 'cobra', 'rush', 'tennis', 'vintage', 'reader', 'techno', 'slurp', 'blog', 'dodo', 'intern', 'thermos', 'addict', 'pollen', 'vigilant', 'mini', 'chiffon', 'faun', 'manicure', 'move', 'ticket', 'bowl', 'shop', 'center', 'root', 'persistent', 'hen', 'punch', 'speed', 'perk', 'squadron', 'gender', 'censor', 'break', 'hippie', 'planetarium', 'barometer', 'escape', 'alligator', 'strike', 'sober', 'paperback', 'enigma', 'mezzanine', 'lotto', 'mink', 'ton', 'cover', 'wed', 'design', 'striptease', 'parasol', 'grind', 'promenade', 'acne', 'mediocre', 'radiant', 'resort', 'dart', 'demo', 'dealer', 'tarantula', 'portfolio', 'transit', 'yoga', 'aura', 'bode', 'copyright', 'starter', 'blunt', 'franchise', 'mop', 'wet', 'clipper', 'perm', 'momentum', 'decoder', 'effect', 'ham', 'eucalyptus', 'vent', 'minivan', 'satire', 'moustache', 'briefing', 'pomp', 'poker', 'champagne', 'macro', 'mime', 'carbon', 'medley', 'abandon', 'prune', 'acquit', 'espresso', 'website', 'dummy', 'cruise', 'direct', 'duet', 'urgent', 'roller', 'abdomen', 'stick', 'node', 'pulp', 'unfair', 'server', 'ski', 'jumbo', 'aids', 'catamaran', 'skunk', 'trolley', 'talon', 'desk', 'must', 'kiwi', 'armada', 'release', 'charlatan', 'mobile', 'entertainment', 'motel', 'detail', 'stomp', 'intolerant', 'guillotine', 'ballast', 'eloquent', 'portable', 'bonsai', 'iris', 'tweet', 'query', 'backgammon', 'panel', 'lingerie', 'bonus', 'pager', 'tissue', 'different', 'finish', 'solarium', 'shampoo', 'bio', 'dank', 'cameo', 'ping', 'hotline', 'impertinent', 'commentator', 'dupe', 'fondue', 'trance', 'theater', 'indoor', 'studio', 'century', 'workshop', 'runner', 'vamp', 'wand', 'cakewalk', 'playboy', 'damp', 'sonar', 'kink', 'dandy', 'target', 'diameter', 'act', 'pal', 'extract', 'drain', 'observant', 'melodrama', 'coaster', 'temperament', 'quote', 'scrambler', 'brood', 'canyon', 'pep', 'coherent', 'tenant', 'grandeur', 'serve', 'limit', 'trash', 'modest', 'homo', 'transcript', 'prairie', 'baton', 'catcher', 'assist', 'consistent', 'blank', 'pentagram', 'pancreas', 'status', 'happy', 'band', 'privilege', 'percentage', 'spam', 'finale', 'pylon', 'libido', 'totem', 'hang', 'farmer', 'fox', 'wireless', 'matinee', 'pusher', 'grill', 'cement', 'hangar', 'marketing', 'cordon', 'ex', 'appendage', 'foyer', 'pool', 'storm', 'screening', 'gossip', 'meter', 'rubber', 'ladylike', 'haiku', 'shuttle', 'ergo', 'raider', 'detriment', 'lotion', 'ferry', 'bus', 'lint', 'bed', 'abundant', 'rum', 'spotter', 'nasty', 'credit', 'essence', 'input', 'guano', 'shrapnel', 'umpire', 'micro', 'mausoleum', 'chauvinist', 'tequila', 'sightseeing', 'song', 'step', 'patch', 'pest', 'record', 'chutney', 'crash', 'teenager', 'indulgent', 'barrage', 'talisman', 'unplugged', 'dope', 'shorts', 'compost', 'consensus', 'captain', 'delta', 'draw', 'manager', 'repertoire', 'flank', 'ballad', 'deviant', 'imperialist', 'absent', 'scenario', 'realist', 'escort', 'insult', 'scotch', 'deuce', 'brand', 'halter', 'diploma', 'ginseng', 'crime', 'elevator', 'nitwit', 'ride', 'hope', 'plop', 'jaguar', 'plug', 'drinker', 'plaid', 'catwalk', 'latitude', 'professor', 'deck', 'mutant', 'interviewer', 'prefix', 'cola', 'hovercraft', 'florist', 'cracker', 'vinyl', 'exorcist', 'halo', 'concubine', 'ode', 'torpedo', 'run', 'ventriloquist', 'amulet', 'sister', 'base', 'enamel', 'concerto', 'talent', 'babysit', 'machine', 'receptor', 'veil', 'astronaut', 'metropolis', 'retina', 'mild', 'bunker', 'corsage', 'joke', 'minor', 'commerce', 'team', 'gondola', 'buzzer', 'top', 'kinky', 'saline', 'bungalow', 'guerrilla', 'beat', 'donkey', 'split', 'petunia', 'badge', 'pester', 'memo', 'mantra', 'jingle', 'jam', 'chip', 'parade', 'barium', 'hanger', 'expertise', 'prefect', 'email', 'mega', 'mare', 'coyote', 'healing', 'meeting', 'machete', 'pandemonium', 'hazard', 'knot', 'supporter', 'audit', 'stopper', 'marker', 'form', 'mozzarella', 'gap', 'latrine', 'strand', 'cabernet', 'tipsy', 'holster', 'wildebeest', 'inconsistent', 'modem', 'tractor', 'bouquet', 'district', 'avenue', 'curling', 'bitch', 'random', 'chic', 'prudent', 'forum', 'caravan', 'embargo', 'sullen', 'bandage', 'tribune', 'soundtrack', 'bopper', 'libel', 'baseline', 'torso', 'traverse', 'hoop', 'gate', 'genius', 'amaretto', 'junkie', 'inning', 'lager', 'militant', 'surfer', 'leg', 'segment', 'anaconda', 'seminar', 'proxy', 'glucose', 'bowler', 'limo', 'cap', 'mum', 'cowgirl', 'activist', 'concert', 'chalet', 'zigzag', 'counseling', 'kimono', 'hetero', 'solvent', 'ranch', 'fjord', 'cornflakes', 'wig', 'permanent', 'comeback', 'script', 'term', 'toner', 'porno', 'mast', 'fade', 'tot', 'sexy', 'specialist', 'club', 'diffuse', 'gulp', 'battle', 'drama', 'project', 'swami', 'part', 'paintball', 'whirlpool', 'incest', 'incompetent', 'lunchbox', 'reform', 'finesse', 'perfectionist', 'downer', 'mango', 'vale', 'robot', 'millennium', 'fleece', 'loafer', 'recycling', 'blubber', 'percent', 'hub', 'gift', 'zone', 'custard', 'sauna', 'pan', 'trio', 'fragment', 'beige', 'alias', 'recent', 'conditioner', 'fauna', 'tackle', 'button', 'lady', 'reggae', 'gentleman', 'directory', 'ketchup', 'headliner', 'tablet', 'rook', 'classic', 'blazer', 'insolent', 'cockpit', 'royalty', 'manifest', 'lyrics', 'gymnast', 'affidavit', 'maker', 'malaria', 'bout', 'experiment', 'stalker', 'piccolo', 'curry', 'baby', 'tic', 'fielder', 'cholesterol', 'city', 'tarot', 'interview', 'folklore', 'complement', 'loon', 'disk', 'lift', 'merengue', 'sentiment', 'madam', 'recruiter', 'souvenir', 'push', 'gelding', 'sake', 'want', 'boogie', 'outcast', 'chili', 'nurse', 'producer', 'stem', 'kebab', 'patent', 'gorilla', 'circuit', 'array', 'spleen', 'rally', 'glad', 'tofu', 'diligence', 'smiley', 'saga', 'niche', 'gut', 'stuntman', 'broker', 'mud', 'turbulent', 'cortex', 'agenda', 'tag', 'brief', 'jade', 'toga', 'boost', 'jungle', 'shopper', 'clean', 'anagram', 'ether', 'apparent', 'spectrum', 'pedicure', 'breed', 'collector', 'blaster', 'continue', 'samba', 'scout', 'bromide', 'tonic', 'decadent', 'heavy', 'revolver', 'tunnel', 'format', 'business', 'migraine', 'rust', 'folder', 'sediment', 'pin', 'lunch', 'octopus', 'pull', 'prospectus', 'scoop', 'wonder', 'fax', 'gig', 'steel', 'opener', 'adult', 'appendicitis', 'piano', 'miss', 'area', 'quiz', 'mainstream', 'kilometer', 'sensor', 'multimedia', 'ignorant', 'cognac', 'allegro', 'sticker', 'wave', 'vacant', 'locker', 'blowjob', 'imperfect', 'tool', 'diocese', 'rotor', 'gaga', 'clitoris', 'paradox', 'forte', 'innocent', 'scrub', 'begin', 'suave', 'chemo', 'filmmaker', 'rap', 'prop', 'professional', 'navigator', 'case', 'plastic', 'salsa', 'beatnik', 'neutron', 'kidnapper', 'contest', 'cuisine', 'exact', 'fit', 'jackpot', 'gospel', 'rob', 'cookie', 'slip', 'peer', 'piston', 'videotape', 'lithium', 'rank', 'hyper', 'hamster', 'primer', 'recovery', 'flipper', 'border', 'demon', 'ensemble', 'grizzly', 'party', 'chick', 'incorrect', 'ratio', 'pocket', 'boom', 'partner', 'baseball', 'atlas', 'turbine', 'player', 'pizza', 'caddie', 'zit', 'humor', 'discreet', 'remake', 'conform', 'frisbee', 'outfit', 'room', 'gin', 'house', 'vast', 'tramp', 'drum', 'exodus', 'overlap', 'placebo', 'brat', 'papa', 'virus', 'protest', 'cottage', 'consult', 'toaster', 'freelancer', 'corps', 'broccoli', 'shimmy', 'redundant', 'motor', 'calculator', 'monster', 'mescaline', 'instrument', 'blond', 'cappuccino', 'empire', 'hater', 'matador', 'logo', 'pope', 'quiche', 'ibuprofen', 'eyeliner', 'model', 'keep', 'fat', 'scalpel', 'outlaw', 'combo', 'funky', 'assessment', 'ligament', 'senior', 'saloon', 'cue', 'pension', 'entrepreneur', 'future', 'kit', 'diagram', 'actor', 'suspense', 'wind', 'heat', 'chauffeur', 'management', 'informant', 'barman', 'tremor', 'paranoia', 'jazzy', 'bug', 'level', 'visa', 'hepatitis', 'aroma', 'ballpoint', 'sale', 'pass', 'detector', 'turquoise', 'rebound', 'sacrament', 'intact', 'imprint', 'ripper', 'moor', 'student', 'lacrosse', 'pastor', 'dopamine', 'influenza', 'charter', 'memorandum', 'beer', 'airbag', 'museum', 'flex', 'radium', 'ammonia', 'elite', 'stopwatch', 'dragon', 'raven', 'nimrod', 'tumor', 'aftershave', 'grieve', 'station', 'welfare', 'mach', 'quad', 'amusement', 'cortisone', 'zombie', 'memento', 'tomahawk', 'bazooka', 'underground', 'pointer', 'time', 'denim', 'comedy', 'impromptu', 'bikini', 'transfer', 'lactose', 'president', 'coverage', 'nuance', 'hacker', 'interval', 'perfect', 'gerbil', 'performance', 'mama', 'arm', 'vagina', 'duo', 'console', 'antichrist', 'issue', 'hairspray', 'trial', 'chant', 'tune', 'lycra', 'gringo', 'semester', 'malt', 'horror', 'booster', 'grapefruit', 'platform', 'gamma', 'harmonica', 'toe', 'boiler', 'output', 'ion', 'psyche', 'equator', 'dominion', 'correct', 'monument', 'charade', 'reek', 'clown', 'cactus', 'debutante', 'relax', 'valium', 'register', 'capsule', 'inferno', 'sonnet', 'gazelle', 'headline', 'spinster', 'college', 'gala', 'commodore', 'hop', 'organizer', 'sector', 'document', 'scepter', 'squash', 'pitcher', 'rating', 'dioxide', 'enter', 'minimum', 'mixer', 'tour', 'blackjack', 'ravage', 'computer', 'liaison', 'aerobics', 'auditor', 'reverence', 'golden', 'crazy', 'columnist', 'hardcore', 'ad', 'poster', 'coup', 'stress', 'nudist', 'quasi', 'jamboree', 'camper', 'okra', 'dizzy', 'horde', 'protector', 'walrus', 'lobby', 'mailbox', 'mantel', 'salami', 'panty', 'belt', 'bondsman', 'plot', 'ace', 'trachea', 'audio', 'correspondent', 'duster', 'hamburger', 'algebra', 'tang', 'circus', 'bit', 'gust', 'chaperon', 'mom', 'pendant', 'species', 'kappa', 'league', 'host', 'bagel', 'donor', 'happen', 'list', 'flip', 'routine', 'spa', 'courage', 'groggy', 'flashy', 'offset', 'meningitis', 'product', 'vaccine', 'modern', 'pint', 'infant', 'impact', 'compliment', 'kook', 'jumper', 'stutter', 'prima', 'fair', 'chinchilla', 'telegram', 'patriot', 'foxtrot', 'stool', 'fun', 'coach', 'tram', 'opera', 'muffin', 'genie', 'reflex', 'match', 'alcohol', 'ruin', 'alibi', 'feminist', 'acre', 'gangster', 'plating', 'racer', 'upgrade', 'pair', 'trauma', 'ready', 'steps', 'body', 'drummer', 'abrupt', 'cleaner', 'discount', 'teller', 'ban', 'hotel', 'magenta', 'gourmet', 'larynx', 'official', 'occasion', 'shit', 'salon', 'fitness', 'abject', 'straddle', 'voyeur', 'shawl', 'popcorn', 'peel', 'range', 'decade', 'gothic', 'geisha', 'bureau', 'album', 'worm', 'bunny', 'stunt', 'mist', 'barbecue', 'regiment', 'navel', 'stylist', 'keen', 'fancy', 'nautilus', 'lens', 'bedding', 'violent', 'meltdown', 'titanium', 'loom', 'calculus', 'verdict', 'citrus', 'lira', 'bumper', 'bulk', 'file', 'component', 'reef', 'kin', 'abracadabra', 'senator', 'snowboarder', 'society', 'echelon', 'master', 'element', 'image', 'folk', 'camera', 'construct', 'plateau', 'enchilada', 'excelsior', 'rage', 'mannequin', 'perimeter', 'stand', 'slop', 'honk', 'kiosk', 'pro', 'dip', 'symposium', 'aspect', 'baron', 'jive', 'penny', 'speech', 'centerfold', 'yuppie', 'aorta', 'omega', 'man', 'microfilm', 'hertz', 'husky', 'cheerleader', 'jihad', 'fashionable', 'drab', 'mix', 'skinny', 'barricade', 'log', 'killer', 'toilet', 'look', 'whiplash', 'marine', 'trip', 'fiction', 'keel', 'sprinkler', 'fantasy', 'spade', 'stag', 'slot', 'consent', 'polka', 'indifferent', 'zebra', 'laptop', 'oversized', 'amuse', 'showroom', 'ramp', 'weekend', 'biceps', 'loop', 'scorer', 'ballroom', 'pus', 'vat', 'tricky', 'amateur', 'mascara', 'indecent', 'bingo', 'decorum', 'flan', 'week', 'sitcom', 'film', 'biscuit', 'green', 'molest', 'gist', 'intro', 'sashimi', 'swap', 'opponent', 'butterfly', 'water', 'crawl', 'citadel', 'gag', 'suite', 'cranberry', 'hypothalamus', 'scone', 'shutter', 'cyberspace', 'font', 'koala', 'bib', 'franc', 'beauty', 'deed', 'consultant', 'icing', 'complex', 'stoop', 'exit', 'listing', 'supermodel', 'douche', 'architect', 'limousine', 'smarten', 'bigot', 'robe', 'gum', 'sip', 'bogey', 'varsity', 'playback', 'neon', 'liter', 'airstrip', 'commandant', 'operator', 'surprise', 'blockbuster', 'brink', 'clique', 'nucleus', 'canvas', 'atrium', 'put', 'orthodox', 'slang', 'veto', 'peyote', 'detective', 'pianist', 'claim', 'glossy', 'object', 'curriculum', 'reservoir', 'poet', 'country', 'polio', 'christen', 'tube', 'putter', 'soul', 'blind', 'pizzeria', 'patron', 'evident', 'geek', 'cruiser', 'land', 'rapper', 'menthol', 'napalm', 'rest', 'firewall', 'beginner', 'propeller', 'puppy', 'invite', 'hip', 'annex', 'rouge', 'euro', 'slump', 'shift', 'sergeant', 'dynamo', 'cup', 'diligent', 'goalie', 'romance', 'winner', 'soft', 'cool', 'ballet', 'eminent', 'parka', 'camel', 'decent', 'broom', 'darkroom', 'crew', 'fine', 'spread', 'smart', 'era', 'shell', 'bullshit', 'blonde', 'cricket', 'hobo', 'scalp', 'yen', 'uranium', 'placenta', 'polyester', 'content', 'brigade', 'snowboard', 'western', 'understatement', 'dominant', 'campus', 'ultimatum', 'blouse', 'shag', 'pesto', 'leader', 'chronic', 'corrupt', 'flamingo', 'fiber', 'oregano', 'proper', 'nylon', 'pack', 'ascendant', 'weed', 'crank', 'gang', 'dentist', 'stigma', 'slim', 'container', 'headset', 'rocker', 'maximum', 'celluloid', 'velvet', 'jumpsuit', 'checkpoint', 'slogan', 'petticoat', 'ambulance', 'casino', 'rake', 'auditorium', 'name', 'fond', 'ragtime', 'superior', 'reel', 'stinker', 'novice', 'anti', 'tact', 'rein', 'casual', 'hulk', 'editor', 'macaroni', 'download', 'offer', 'bluegrass', 'croquet', 'nanometer', 'snapper', 'tarmac', 'sabotage', 'curve', 'scanner', 'voodoo', 'grim', 'margarine', 'boa', 'voicemail', 'pastrami', 'serum', 'billboard', 'bimbo', 'grief', 'sassafras', 'lipstick', 'hard', 'judo', 'info', 'bacon', 'snot', 'dispenser', 'pee', 'expert', 'curator', 'focus', 'grit', 'quota', 'milkshake', 'pose', 'track', 'apache', 'regulator', 'rectum', 'gel', 'toot', 'anus', 'fusion', 'abstract', 'spar', 'preview', 'charisma', 'pacemaker', 'nap', 'equivalent', 'brandy', 'simulator', 'quintet', 'banjo', 'drift', 'disco', 'buddy', 'jargon', 'extra', 'harden', 'undercover', 'cassette', 'adder', 'default', 'ark', 'accent', 'overkill', 'argument', 'set', 'truck', 'drink', 'port', 'op', 'arrest', 'collie', 'flow', 'pamper', 'referee', 'healer', 'cartoon', 'jet', 'psalm', 'trapper', 'trendy', 'jammer', 'barrel', 'birdie', 'alpine', 'program', 'skyline', 'cardigan', 'sweatshirt', 'spiritual', 'sheriff', 'fiasco', 'drive', 'workaholic', 'meringue', 'sanatorium', 'viewer', 'ambrosia', 'reminder', 'swing', 'keyboard', 'coax', 'punt', 'mauve', 'radius', 'sec', 'database', 'profiler', 'hit', 'provider', 'beryllium', 'oasis', 'pancake', 'return', 'die', 'shock', 'batch', 'tycoon', 'tutu', 'consul', 'community', 'palm', 'tap', 'affront', 'stout', 'lava', 'basis', 'hoe', 'schnitzel', 'syllabus', 'dog', 'diva', 'racket', 'cult', 'forceps', 'unit', 'fruit', 'lease', 'tampon', 'comfort', 'otter', 'switch', 'commercial', 'mat', 'protocol', 'transport', 'chat', 'generator', 'elf', 'census', 'spike', 'amber', 'stereo', 'twister', 'diagnose', 'spelling', 'toast', 'conga', 'gymnasium', 'processor', 'sumo', 'moot', 'discipline', 'boon', 'cash', 'update', 'buffer', 'drainage', 'stewardess', 'outdoor', 'horizon', 'dinghy', 'premier', 'styling', 'masseur', 'doctrine', 'rib', 'halftime', 'solo', 'pop', 'soda', 'hint', 'driver', 'sweater', 'allure', 'ego', 'roadblock', 'queue', 'kumquat', 'multiplex', 'blues', 'heel', 'camouflage', 'trust', 'hark', 'support', 'fee', 'sport', 'punk', 'trampoline', 'motto', 'chance', 'stuff', 'import', 'bar', 'fluorescent', 'surveillance', 'trainer', 'karma', 'lust', 'buffet', 'arena', 'pacifist', 'advocate', 'short', 'star', 'bam', 'race', 'turbo', 'revue', 'open', 'dump', 'rebel', 'snob', 'rock', 'pita', 'mode', 'contingent', 'receiver', 'coupe', 'delinquent', 'python', 'county', 'snack', 'elk', 'insider', 'urine', 'serenade', 'warrant', 'cast', 'toffee', 'stripper', 'chef', 'cache', 'pump', 'spray', 'timer', 'wake', 'counter', 'patio', 'quilt', 'restaurant', 'lapel', 'school', 'span', 'jeans', 'flash', 'paper', 'rail', 'clan', 'contact', 'winter', 'putt', 'smack', 'upper', 'sedan', 'lever', 'strip', 'calcium', 'millimeter', 'cretin', 'massacre', 'glamour', 'accident', 'hype', 'pink', 'gay', 'arcade', 'troop', 'stern', 'omen', 'tv', 'glee', 'resource', 'cutter', 'piranha', 'lobbyist', 'potpourri', 'rodeo', 'closet', 'duel', 'gasoline', 'keg', 'insect', 'trustee', 'significant', 'anarchist', 'nest', 'sushi', 'voucher', 'regatta', 'nectar', 'score', 'roof', 'incoherent', 'rink', 'security', 'icon', 'account', 'pertinent', 'vector', 'steak', 'taxi', 'cooker', 'erotica', 'jukebox', 'insecticide', 'dildo', 'jury', 'procedure', 'regime', 'receptionist', 'firmament', 'deadline', 'trail', 'silicone', 'do', 'winch', 'shirt', 'minibus', 'karate', 'hummer', 'conflict', 'bistro', 'net', 'penis', 'rancher', 'super', 'hall', 'surf', 'hymen', 'minister', 'sidecar', 'utility', 'fanfare', 'pudding', 'cherub', 'scampi', 'string', 'tornado', 'pessimist', 'stimulus', 'trailer', 'latex', 'hem', 'culture', 'tabloid', 'teen', 'code', 'alumnus', 'jockey', 'karaoke', 'reserve', 'glimmer', 'adept', 'conductor', 'altimeter', 'bondage', 'microchip', 'crypt', 'tent', 'blender', 'medium', 'rumba', 'carrier', 'home', 'sadist', 'check', 'rut', 'haven', 'prime', 'major', 'diner', 'scrotum', 'frequent', 'recorder', 'meet', 'remover', 'token', 'clinic', 'bodyguard', 'post', 'villa', 'safari', 'vet', 'zoom', 'bark', 'steward', 'mail', 'service', 'racist', 'repel', 'arrangement', 'multiple', 'kamikaze', 'sub', 'stereotype', 'penthouse', 'genocide', 'avocado', 'bottleneck', 'drug', 'important', 'sponsor', 'pap', 'checklist', 'slum', 'rooms', 'trucker', 'smog'}\n"
     ]
    }
   ],
   "source": [
    "# filter out pseudowords that happen to be valid Dutch words (mind case folding!)\n",
    "# show the set of pseudowords filtered out.\n",
    "# 1 point for applying the correct filtering\n",
    "\n",
    "# Read the valid Dutch words file with tab separator\n",
    "valid_dutch_words = pd.read_csv('/Users/larsheijnen/CL/data/prevalence_netherlands.csv', sep='\\t')\n",
    "\n",
    "\n",
    "# Ensure all words are lowercase for case-insensitive comparison\n",
    "valid_dutch_words_set = set(valid_dutch_words['word'].str.lower())\n",
    "# print(list(valid_dutch_words_set)[:5]) #['middenklasse', 'vraat', 'opduvel', 'pleiter', 'bosgeest']\n",
    "\n",
    "\n",
    "# Get pseudowords from Gatti et al (using 'comb_3' as example, adjust if needed)\n",
    "pseudowords = gatti_data['Count']['Word'].str.lower()\n",
    "\n",
    "# Filter out pseudowords that are valid Dutch words\n",
    "filtered_out = set(pseudowords).intersection(valid_dutch_words_set)\n",
    "\n",
    "# Show the set of pseudowords filtered out\n",
    "print(filtered_out)\n",
    "\n"
   ]
  },
  {
   "cell_type": "code",
   "execution_count": 23,
   "metadata": {
    "id": "zvza9pb6MFgC"
   },
   "outputs": [
    {
     "name": "stdout",
     "output_type": "stream",
     "text": [
      "Unigram encoding for ampgrair': [2, 0, 0, 0, 0, 0, 1, 0, 1, 0, 0, 0, 1, 0, 0, 1, 0, 2, 0, 0, 0, 0, 0, 0, 0, 0, 0, 0, 0, 0, 0, 0, 0, 0]\n",
      "Bigram encoding for 'ampgrair': [0, 0, 0, 0, 0, 0, 0, 0, 1, 0, 0, 0, 1, 0, 0, 0, 0, 0, 0, 0, 0, 0, 0, 0, 0, 0, 0, 0, 0, 0, 0, 0, 0, 0, 0, 0, 0, 0, 0, 0, 0, 0, 0, 0, 0, 0, 0, 0, 0, 0, 0, 0, 0, 0, 0, 0, 0, 0, 0, 0, 0, 0, 0, 0, 0, 0, 0, 0, 0, 0, 0, 0, 0, 0, 0, 0, 0, 0, 0, 0, 0, 0, 0, 0, 0, 0, 0, 0, 0, 0, 0, 0, 0, 0, 0, 0, 0, 0, 0, 0, 0, 0, 0, 0, 0, 0, 0, 0, 0, 0, 0, 0, 0, 0, 0, 0, 0, 0, 0, 0, 0, 0, 0, 0, 0, 0, 0, 0, 0, 0, 0, 0, 0, 0, 0, 0, 0, 0, 0, 0, 0, 0, 0, 0, 0, 0, 0, 0, 0, 0, 0, 0, 0, 0, 0, 0, 0, 0, 1, 0, 0, 0, 0, 0, 0, 0, 0, 0, 0, 0, 0, 0, 0, 0, 0, 0, 0, 0, 0, 0, 0, 0, 0, 0, 0, 0, 0, 0, 0, 0, 0, 0, 0, 0, 0, 0, 0, 0, 0, 0, 0, 0, 0, 0, 0, 0, 0, 1, 0, 0, 0, 0, 0, 0, 0, 0, 0, 0, 0, 0, 0, 0, 0, 0, 0, 0, 0, 0, 0, 0, 0, 0, 0, 0, 0, 0, 0, 0, 0, 0, 0, 0, 0, 0, 0, 0, 0, 0, 0, 0, 0, 0, 0, 0, 0, 0, 0, 0, 0, 0, 0, 0, 0, 0, 0, 0, 0, 0, 0, 0, 0, 0, 0, 0, 0, 0, 0, 0, 0, 0, 0, 0, 0, 0, 0, 0, 0, 0, 0, 0, 0, 0, 0, 0, 0, 0, 0, 0, 0, 0, 0, 0, 0, 1, 0, 0, 0, 0, 0, 0, 0, 0, 0, 0, 0, 0, 0, 0, 0, 0, 0, 0, 0, 0, 0, 0, 0, 0, 0, 0, 0, 0, 0, 0, 0, 0, 0, 0, 0, 0, 0, 0, 0, 0, 0, 0, 0, 0, 0, 0, 0, 0, 0, 0, 0, 0, 0, 0, 0, 0, 0, 0, 0, 0, 0, 0, 0, 0, 0, 0, 0, 0, 0, 0, 1, 0, 0, 0, 0, 0, 0, 0, 0, 0, 0, 0, 0, 0, 0, 0, 0, 0, 0, 0, 1, 0, 0, 0, 0, 0, 0, 0, 0, 0, 0, 0, 0, 0, 0, 0, 0, 0, 0, 0, 0, 0, 0, 0, 0, 0, 0, 0, 0, 0, 0, 0, 0, 0, 0, 0, 0, 0, 0, 0, 0, 0, 0, 0, 0, 0, 0, 0, 0, 0, 0, 0, 0, 0, 0, 0, 0, 0, 0, 0, 0, 0, 0, 0, 0, 0, 0, 0, 0, 0, 0, 0, 0, 0, 0, 0, 0, 0, 0, 0, 0, 0, 0, 0, 0, 0, 0, 0, 0, 0, 0, 0, 0, 0, 0, 0, 0, 0, 0, 0, 0, 0, 0, 0, 0, 0, 0, 0, 0, 0, 0, 0, 0, 0, 0, 0, 0, 0, 0, 0, 0, 0, 0, 0, 0, 0, 0, 0, 0, 0, 0, 0, 0, 0, 0, 0, 0, 0, 0, 0, 0, 0, 0, 0, 0, 0, 0, 0, 0, 0, 0, 0, 0, 0, 0, 0, 0, 0, 0, 0, 0, 0, 0, 0, 0, 0, 0, 0, 0, 0, 0, 0, 0, 0, 0, 0, 0, 0, 0, 0, 0, 0, 0, 0, 0, 0, 0, 0, 0, 0, 0, 0, 0, 0, 0, 0, 0, 0, 0, 0, 0, 0, 0, 0, 0, 0, 0, 0, 0, 0, 0]\n"
     ]
    }
   ],
   "source": [
    "# encode Dutch words and pseudowords from Gatti et al as uni- and bi-gram vectors\n",
    "# show the uni-gram and bi-gram encoding of the pseudoword ampgrair\n",
    "# 2 points for correctly encoding the target strings as uni- and bi-gram vectors\n",
    "\n",
    "\n",
    "def unigram_vector(word, vocab=None):\n",
    "    counts = Counter(word)\n",
    "    if vocab is not None:\n",
    "        return [counts.get(char, 0) for char in vocab]\n",
    "    else:\n",
    "        return counts\n",
    "\n",
    "def bigram_vector(word, vocab=None):\n",
    "    bigrams = [word[i:i+2] for i in range(len(word)-1)]\n",
    "    counts = Counter(bigrams)\n",
    "    if vocab is not None:\n",
    "        return [counts.get(bigram, 0) for bigram in vocab]\n",
    "    else:\n",
    "        return counts\n",
    "\n",
    "# build vocabularies from Dutch words\n",
    "dutch_words = speed_and_rysbaert_means['Word'].str.lower().tolist()\n",
    "all_unigrams = sorted(set(''.join(dutch_words)))\n",
    "all_bigrams = sorted(set(b for w in dutch_words for b in [w[i:i+2] for i in range(len(w)-1)]))\n",
    "\n",
    "# get pseudowords (excluding filtered out ones)\n",
    "pseudoword_list = [w for w in gatti_data['comb_3']['Word'].str.lower() if w not in filtered_out]\n",
    "\n",
    "# example: encode 'ampgrair'\n",
    "test_word = 'ampgrair'\n",
    "uni_vec = unigram_vector(test_word, vocab=all_unigrams)\n",
    "bi_vec = bigram_vector(test_word, vocab=all_bigrams)\n",
    "\n",
    "print(f\"Unigram encoding for {test_word}':\", uni_vec)\n",
    "print(f\"Bigram encoding for '{test_word}':\", bi_vec)\n"
   ]
  },
  {
   "cell_type": "code",
   "execution_count": 27,
   "metadata": {
    "id": "-w9-ySEuPp1Y"
   },
   "outputs": [],
   "source": [
    "# use word valence estimates from Speed and Brysbaert (2024) to train\n",
    "# - a uni-gram model\n",
    "# - a bi-gram model\n",
    "# 2 points for correctly trained models\n",
    "\n",
    "from sklearn.linear_model import LinearRegression\n",
    "\n",
    "\n",
    "# prepare X and y for Dutch words\n",
    "X_uni = [unigram_vector(w, vocab=all_unigrams) for w in dutch_words]\n",
    "X_bi = [bigram_vector(w, vocab=all_bigrams) for w in dutch_words]\n",
    "y = speed_and_rysbaert_means['Valence'].values\n",
    "\n",
    "# train models\n",
    "uni_model = LinearRegression().fit(X_uni, y)\n",
    "bi_model = LinearRegression().fit(X_bi, y)"
   ]
  },
  {
   "cell_type": "code",
   "execution_count": 29,
   "metadata": {
    "id": "6RG3aeRSPtLX"
   },
   "outputs": [],
   "source": [
    "# apply trained models to predict the valence of pseudowords from Gatti et al (2024).\n",
    "# Then apply the same models back onto the training set to see how well they predict the valence of words in Speed and Brysbaert (2024).\n",
    "# 2 points for correctly applied models\n",
    "\n",
    "# prepare unigram and bigram vectors for pseudowords\n",
    "X_uni_pseudo = [unigram_vector(w, vocab=all_unigrams) for w in pseudoword_list]\n",
    "X_bi_pseudo = [bigram_vector(w, vocab=all_bigrams) for w in pseudoword_list]\n",
    "\n",
    "# predict valence for pseudowords\n",
    "pseudo_pred_uni = uni_model.predict(X_uni_pseudo)\n",
    "pseudo_pred_bi = bi_model.predict(X_bi_pseudo)\n",
    "\n",
    "# predict valence for Dutch words (training set)\n",
    "train_pred_uni = uni_model.predict(X_uni)\n",
    "train_pred_bi = bi_model.predict(X_bi)"
   ]
  },
  {
   "cell_type": "code",
   "execution_count": 31,
   "metadata": {
    "id": "9aDwbajtPxze"
   },
   "outputs": [
    {
     "name": "stdout",
     "output_type": "stream",
     "text": [
      "Unigram model: Spearman r (words) = 0.089, Spearman r (pseudowords) = 0.173\n",
      "Bigram model:  Spearman r (words) = 0.321, Spearman r (pseudowords) = 0.027\n"
     ]
    }
   ],
   "source": [
    "# compute the Spearman correlation coefficients between true valence and predicted valence under both uni- and bi-gram models for\n",
    "# - words from Speed and Brysbaert (2024)\n",
    "# - pseudowords from Gatti and colleagues (2024)\n",
    "# show both correlation coefficients.\n",
    "# 2 points for the correct Spearman correlation coefficients (rounded to the third decimal place)\n",
    "\n",
    "from scipy.stats import spearmanr\n",
    "\n",
    "# true valence for Dutch words\n",
    "true_valence_words = y\n",
    "\n",
    "# true valence for pseudowords (use Value1 from gatti_data['comb_3'])\n",
    "true_valence_pseudowords = gatti_data['comb_3']['Value1'].values\n",
    "\n",
    "# uni-gram model\n",
    "corr_uni_words, _ = spearmanr(true_valence_words, train_pred_uni)\n",
    "corr_uni_pseudo, _ = spearmanr(true_valence_pseudowords, pseudo_pred_uni)\n",
    "\n",
    "# bi-gram model\n",
    "corr_bi_words, _ = spearmanr(true_valence_words, train_pred_bi)\n",
    "corr_bi_pseudo, _ = spearmanr(true_valence_pseudowords, pseudo_pred_bi)\n",
    "\n",
    "print(f\"Unigram model: Spearman r (words) = {corr_uni_words:.3f}, Spearman r (pseudowords) = {corr_uni_pseudo:.3f}\")\n",
    "print(f\"Bigram model:  Spearman r (words) = {corr_bi_words:.3f}, Spearman r (pseudowords) = {corr_bi_pseudo:.3f}\")"
   ]
  },
  {
   "cell_type": "markdown",
   "metadata": {
    "id": "p0P1rNg5QoDn"
   },
   "source": [
    "**Task 2** (*8 points available, see breakdown below*)\n",
    "\n",
    "Again following Gatti and colleagues, you should encode the target strings (pseudowords and Dutch words from Speed and Brysbaert) as fastText embeddings, train a multiple regression model on Dutch words and apply it to the pseudowords in Gatti et al. You should finally report the Spearman correlation coefficient between observed and predicted valence for both words and pseudowords.\n",
    "\n",
    "You should use the pre-trained fastText model for Dutch, available at this page: https://fasttext.cc/docs/en/crawl-vectors.html\n",
    "\n",
    "Finally, you should answer two questions about the fastText model (see below)."
   ]
  },
  {
   "cell_type": "code",
   "execution_count": null,
   "metadata": {
    "id": "pDeWgWUNAckd"
   },
   "outputs": [],
   "source": [
    "# load the fastText model\n",
    "# 1 point for correctly loading the appropriate fastText model"
   ]
  },
  {
   "cell_type": "markdown",
   "metadata": {
    "id": "rUD0VUJeRhr3"
   },
   "source": [
    "What is the dimensionality of the pre-trained Dutch fastText embeddings? (*1 point for the correct answer*)"
   ]
  },
  {
   "cell_type": "markdown",
   "metadata": {
    "id": "pgej4BPNRoUE"
   },
   "source": [
    "What minimum and maximum n-gram size was specified for training this fastText model? (*1 point for the correct answer*)"
   ]
  },
  {
   "cell_type": "code",
   "execution_count": null,
   "metadata": {
    "id": "aW-XEksGR28U"
   },
   "outputs": [],
   "source": [
    "# encode Dutch words and pseudowords as fastText embeddings\n",
    "# show the first 20 values of the embedding of the word 'speelplaats' and of the pseudoword 'danchunk'\n",
    "# 2 points for correctly encoding words and pseudowords with fastText"
   ]
  },
  {
   "cell_type": "code",
   "execution_count": null,
   "metadata": {
    "id": "3ePBth7cSAJU"
   },
   "outputs": [],
   "source": [
    "# train regression model on word valence\n",
    "# 1 point for correctly training the regression model"
   ]
  },
  {
   "cell_type": "code",
   "execution_count": null,
   "metadata": {
    "id": "REJnnM2mSHHK"
   },
   "outputs": [],
   "source": [
    "# apply the trained model to predict the valence of pseudowords from Gatti et al (2024).\n",
    "# Then apply the same model back onto the training set to see how well it predicts the valence of words in Speed and Brysbaert (2024).\n",
    "# 1 point for correctly applied model"
   ]
  },
  {
   "cell_type": "code",
   "execution_count": null,
   "metadata": {
    "id": "JIyyTyfHSKh5"
   },
   "outputs": [],
   "source": [
    "# compute the Spearman correlation coefficients between true valence and predicted valence for\n",
    "# - words from Speed and Brysbaert (2024)\n",
    "# - pseudowords from Gatti and colleagues (2024)\n",
    "# show the correlation coefficient.\n",
    "# 1 point for the correct Spearman correlation coefficients (rounded to the third decimal place)"
   ]
  },
  {
   "cell_type": "markdown",
   "metadata": {
    "id": "wnqKJ5XOSTbM"
   },
   "source": [
    "**Task 3** (*6 points available, see breakdown below*)\n",
    "\n",
    "Now you are asked to extend the work by Gatti et al by also considering the representations learned by a transformer-based models, in detail *RobBERT v2* (https://huggingface.co/pdelobelle/robbert-v2-dutch-base). You should follow the same pipeline as for the previous models, encoding both Dutch words from Speed and Brysbaert (2024) and the pseudowords from Gatti et al using the embedding of each string at layer 0, before positional information is factored in. If a string consists of multiple tokens, average the embeddings of all tokens to produce the embedding of the whole string. Then train a multiple regression model on the valence of Dutch words, apply it to the pseudowords, and compute the Spearman correlation between observed and predicted ratings.\n",
    "\n",
    "Use the HuggingFace model card for RobBERT v2 to check how to access it.\n",
    "\n",
    "I recommend saving the embeddings to file once you have generated them and you know they are correct: embedding thousands of strings takes some time, and you don't want to have to do it again. For the same reason, develop your code by considering only a small fractions of the words and pseudowords, in order to quickly see if something is wrong. Only when you are positive it works, embed all strings."
   ]
  },
  {
   "cell_type": "code",
   "execution_count": null,
   "metadata": {
    "collapsed": true,
    "id": "Ppi-Zcp6i9Rn"
   },
   "outputs": [],
   "source": [
    "# load and instantiate the right model\n",
    "# 1 point for loading the right model"
   ]
  },
  {
   "cell_type": "code",
   "execution_count": null,
   "metadata": {
    "id": "nGBaQgZqZzhw"
   },
   "outputs": [],
   "source": [
    "# encode the words and pseudowords using RobBERT v2. I've used the free GPU runtime on COLAB to speed things up,\n",
    "# but in this case you need to batch the words and pseudowords. You can use the function below to create batches\n",
    "# but you will have to pay attention at how you store embeddings.\n",
    "# show the first 20 values of the embedding of the word 'miauwen' and of the pseudoword 'lixthless'\n",
    "# 2 points for correctly encoding words and pseudowords\n",
    "\n",
    "def chunks(lst, n):\n",
    "\n",
    "    \"\"\"Chunks a list into equal chunks containing n elements. Returns a list of lists.\"\"\"\n",
    "\n",
    "    chunked = []\n",
    "    for i in range(0, len(lst), n):\n",
    "        chunked.append(lst[i:i + n])\n",
    "    return chunked\n"
   ]
  },
  {
   "cell_type": "code",
   "execution_count": null,
   "metadata": {
    "id": "BFq3hHCDUPjL"
   },
   "outputs": [],
   "source": [
    "# train regression model on word valence estimates from Speed and Brysbaert (2024)\n",
    "# 1 point for correctly training the regression model"
   ]
  },
  {
   "cell_type": "code",
   "execution_count": null,
   "metadata": {
    "id": "evaU9NAxUSoW"
   },
   "outputs": [],
   "source": [
    "# apply the trained model to predict the valence of pseudowords from Gatti et al (2024).\n",
    "# Then apply the same model back onto the training set to see how well it predicts the valence of words in Speed and Brysbaert (2024).\n",
    "# 1 point for correctly applied model"
   ]
  },
  {
   "cell_type": "code",
   "execution_count": null,
   "metadata": {
    "id": "JVcuHS02UUPd"
   },
   "outputs": [],
   "source": [
    "# compute the Spearman correlation coefficients between true valence and predicted valence for\n",
    "# - words from Speed and Brysbaert (2024)\n",
    "# - pseudowords from Gatti and colleagues (2024)\n",
    "# show the correlation coefficient\n",
    "# 1 point for the correct Spearman correlation coefficients (rounded to the third decimal place)"
   ]
  },
  {
   "cell_type": "markdown",
   "metadata": {
    "id": "DfWX1QTfB172"
   },
   "source": [
    "**Task 4** (*16 points available, 4 for each question*)\n",
    "\n",
    "Answer the following questions.\n",
    "\n",
    "**4a.** Describe the performance of each featurization, comparing\n",
    "- the performance of a same model between the training and test set\n",
    "- the performance of different models on the training set\n",
    "- the performance of different models on the test set\n",
    "\n",
    "(*4 points available, max 150 words*)"
   ]
  },
  {
   "cell_type": "markdown",
   "metadata": {
    "id": "EONmoGe8CAyI"
   },
   "source": [
    "*type your answer here*"
   ]
  },
  {
   "cell_type": "markdown",
   "metadata": {
    "id": "GpkgvOqeB6jH"
   },
   "source": [
    "**4b.** Compare the correlations you found when training uni-gram, bi-gram, and fastText models on Dutch words and the correlations of similar models trained on English data as reported by Gatti and colleagues; summarize the most important similarities and differences.\n",
    "\n",
    "(*4 points available, max 150 words*)"
   ]
  },
  {
   "cell_type": "markdown",
   "metadata": {
    "id": "Vv7P2zvnCBiX"
   },
   "source": [
    "*type your answer here*"
   ]
  },
  {
   "cell_type": "markdown",
   "metadata": {
    "id": "GQ2SxrYHy3Hx"
   },
   "source": [
    "**4c.** Do you think the performance of the fastText featurization would change if you were to use different n-grams? Would you make them smaller or larger? Justify your answer.\n",
    "\n",
    "(*4 points available, max 150 words*)"
   ]
  },
  {
   "cell_type": "markdown",
   "metadata": {
    "id": "-M-lvw2qVjNH"
   },
   "source": [
    "*type your answer here*"
   ]
  },
  {
   "cell_type": "markdown",
   "metadata": {
    "id": "5_-zN3Vp2OBD"
   },
   "source": [
    "**4d.** Do you think that training the same models on uni-grams, bi-grams, fastText and transformer-based embeddings but using valence ratings for Finnish (a language which uses the same alphabet as English but is not a IndoEuropean language) words would yield a similar pattern of results? Justify your answer.\n",
    "\n",
    "(*4 points available, max 150 words*)"
   ]
  },
  {
   "cell_type": "markdown",
   "metadata": {
    "id": "20T-4kCdVppE"
   },
   "source": [
    "*type your answer here*"
   ]
  },
  {
   "cell_type": "markdown",
   "metadata": {
    "id": "w4ILTPziXptK"
   },
   "source": [
    "**Task 5** (*3 points available*)\n",
    "\n",
    "Compute the average Levenshtein Distance (aLD) between each pseudoword and the 20 words at the smallest edit distance from it. Consider the set of words you used to filter out pseudowords that happen to be valid Dutch words (the file is available in this OSF repository: https://osf.io/9zymw/) to retrieve the 20 words at the smallest edit distance."
   ]
  },
  {
   "cell_type": "code",
   "execution_count": null,
   "metadata": {
    "id": "OGks7N-JCjFu"
   },
   "outputs": [],
   "source": [
    "# compute the average Levenshtein distance from each pseudoword to the words used to filter out pseudowords.\n",
    "# Show the aLD estimate for the pseudowords 'nedukes', 'pewbin', and 'vibcines'\n",
    "# 3 points for correctly computing aLD for pseudowords"
   ]
  },
  {
   "cell_type": "markdown",
   "metadata": {
    "id": "zBdwMhHsYY0j"
   },
   "source": [
    "**Task 6** (*3 points available*)\n",
    "\n",
    "For each pseudoword, record the number of tokens in which RobBERT v2 encodes it."
   ]
  },
  {
   "cell_type": "code",
   "execution_count": null,
   "metadata": {
    "collapsed": true,
    "id": "FDOechQfmvqE"
   },
   "outputs": [],
   "source": [
    "# record the number of tokens in which RobBERT divides each pseudoword\n",
    "# show the number of tokens for the pseudowords 'yuxwas', 'skibfy', and 'errords'\n",
    "# 3 points for correctly mapping pseudowords to number of tokens"
   ]
  },
  {
   "cell_type": "markdown",
   "metadata": {
    "id": "H9LxipdMYqXN"
   },
   "source": [
    "**Task 7** (*5 points available, see breakdown below*)\n",
    "\n",
    "Compute the residuals of the predicted valence under the four regressors trained and applied in tasks 2 to 4. Then, correlate the residuals from all four models with aLD. Finally, correlate the residuals from the RobBERT v2 model with the number of tokens in which each pseudoword is split. Use the Pearson's correlation coefficient."
   ]
  },
  {
   "cell_type": "code",
   "execution_count": null,
   "metadata": {
    "id": "dc2p7UXSCi-q"
   },
   "outputs": [],
   "source": [
    "# compute the residuals from all four regression models fitted before\n",
    "# 1 point available for correctly computing residuals"
   ]
  },
  {
   "cell_type": "code",
   "execution_count": null,
   "metadata": {
    "id": "KkqJLI17C0Ml"
   },
   "outputs": [],
   "source": [
    "# compute the Pearson's correlation between residuals and average LD for all models,\n",
    "# as well as the correlation between RobBERT v2 residuals and the number of tokens in which each pseudoword\n",
    "#    is encoded by the RobBERT v2 model.\n",
    "# show all correlation coefficients\n",
    "# 4 points for the correct correlation coefficients"
   ]
  },
  {
   "cell_type": "markdown",
   "metadata": {
    "id": "6owroLfAC4vf"
   },
   "source": [
    "**Task 8** What is the relation between the errors each model made and aLD? what about the number of tokens (limited to the RobBERT v2 model)?\n",
    "\n",
    "(*4 points available, max 150 words*)"
   ]
  },
  {
   "cell_type": "markdown",
   "metadata": {
    "id": "LvaOAjqxuHgm"
   },
   "source": [
    "*testo in corsivo*"
   ]
  }
 ],
 "metadata": {
  "colab": {
   "provenance": [
    {
     "file_id": "1lUjLECypnKwDwHfh1Q2aNybwX-fI3oz3",
     "timestamp": 1744369938703
    },
    {
     "file_id": "194jMNgwii3Bp7iUfcWmZWjA3Cp39hxcQ",
     "timestamp": 1741091628295
    }
   ]
  },
  "kernelspec": {
   "display_name": ".venv",
   "language": "python",
   "name": "python3"
  },
  "language_info": {
   "codemirror_mode": {
    "name": "ipython",
    "version": 3
   },
   "file_extension": ".py",
   "mimetype": "text/x-python",
   "name": "python",
   "nbconvert_exporter": "python",
   "pygments_lexer": "ipython3",
   "version": "3.12.9"
  }
 },
 "nbformat": 4,
 "nbformat_minor": 0
}
