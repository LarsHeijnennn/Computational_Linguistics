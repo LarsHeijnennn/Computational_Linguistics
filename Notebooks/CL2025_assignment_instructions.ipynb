{
 "cells": [
  {
   "cell_type": "markdown",
   "metadata": {
    "id": "GcbFlt0uJpNc"
   },
   "source": [
    "In this assignment you will be asked to extend the work by Gatti et al by checking whether form-meaning mappings learned on a different yet related language to that considered in the original study still capture the perceived valence of pseudowords. To do this you will be asked to engage with several different resources and adapt the pipeline following the instructions. Along the way, you will be asked to answer a few questions.\n",
    "\n",
    "You need to submit the complete notebook in .ipynb format, with intermediate outputs visible. The notebook should be named as follows:\n",
    "\n",
    "CL2025_groupN_assignment.ipynb\n",
    "\n",
    "where N is the group number. Submissions in the wrong format or with names not adhering to the guidelines will not be evaluated."
   ]
  },
  {
   "cell_type": "markdown",
   "metadata": {
    "id": "6rkN7t4rqacE"
   },
   "source": [
    "Indicate group members' names, student numbers, and contributions below:\n",
    "- 1. Lieke van Eijk\n",
    "- 2. Aimélie Speet (2103752);\n",
    "- 3. Fleur Sülter\n",
    "- 4. Julian Van Dijk\n",
    "- 5. Lars Heijnen"
   ]
  },
  {
   "cell_type": "code",
   "execution_count": null,
   "metadata": {
    "colab": {
     "base_uri": "https://localhost:8080/"
    },
    "collapsed": true,
    "executionInfo": {
     "elapsed": 83327,
     "status": "ok",
     "timestamp": 1744702553727,
     "user": {
      "displayName": "Aimélie",
      "userId": "04989847168617835967"
     },
     "user_tz": -120
    },
    "id": "OQbS5Urfit8W",
    "outputId": "67d01170-a9db-4569-ff59-d94527bc2f4c"
   },
   "outputs": [],
   "source": [
    "# the code has been tested using the psycho-embeddings library to extract representations from LLMs. You can also use other libraries,\n",
    "# as long as you make sure that you are producing the correct output.\n",
    "!git clone https://github.com/MilaNLProc/psycho-embeddings.git\n",
    "%cd psycho-embeddings\n",
    "!pip install datasets\n",
    "!pip install fasttext\n",
    "!pip install torch"
   ]
  },
  {
   "cell_type": "code",
   "execution_count": null,
   "metadata": {
    "colab": {
     "base_uri": "https://localhost:8080/"
    },
    "executionInfo": {
     "elapsed": 52087,
     "status": "ok",
     "timestamp": 1744702625960,
     "user": {
      "displayName": "Aimélie",
      "userId": "04989847168617835967"
     },
     "user_tz": -120
    },
    "id": "ofb0L_c0AW0W",
    "outputId": "0c5ef5e3-c017-4731-c641-73606d9ca7e3"
   },
   "outputs": [],
   "source": [
    "# the solution to the assignment has been obtained using these packages.\n",
    "# you're free to use other packages though: consider this as an indication, not a prescription.\n",
    "import nltk\n",
    "import numpy as np\n",
    "import pandas as pd\n",
    "import fasttext as ft\n",
    "import pickle as pkl\n",
    "import fasttext.util\n",
    "from tqdm import tqdm\n",
    "from collections import defaultdict\n",
    "from transformers import AutoTokenizer\n",
    "from psycho_embeddings import ContextualizedEmbedder\n",
    "from IPython.display import display\n",
    "from collections import Counter\n",
    "import pandas as pd\n",
    "import io\n",
    "import requests\n",
    "import pyreadr"
   ]
  },
  {
   "cell_type": "markdown",
   "metadata": {
    "id": "Ra3phcRhKuuo"
   },
   "source": [
    "**Task 1** (*10 points available, see breakdown per task below*)\n",
    "\n",
    "You should replicate the main design in the paper *Valence without meaning* by Gatti and colleagues (2024), using estimates collected for Dutch word valence to train linear regression models and apply them to predict the valence of English pseudowords from Gatti and colleagues.\n",
    "\n",
    "In detail, to train your regression models, you should use the dataset by Speed and Brysbaert (2024) containing crowd-sourced valence ratings (use the metadata to identify the relevant columns) collected for approximately 24,000 Dutch words. See the paper *Ratings of valence, arousal, happiness, anger, fear, sadness, disgust, and surprise for 24,000 Dutch words* by Speed and Brysbaert (2024).\n",
    "\n",
    "You should train a letter unigram model and a bigram model. Each model should be trained on Dutch words only.\n",
    "\n",
    "Pay attention to one issue though: pseudowords created for English may be valid words in Dutch: therefore, you should first filter the list of pseudowords against a large store of Dutch words. To do so, use the words in the Dutch prevalence lexicon available in this OSF repository: https://osf.io/9zymw/. Essentially, you need to exclude any pseudoword that happens to be a word for which a prevalence estimate is available, whatever the prevalence is.\n",
    "\n",
    "Each code block indicates how many points are available and how they are attributed."
   ]
  },
  {
   "cell_type": "code",
   "execution_count": 3,
   "metadata": {
    "colab": {
     "base_uri": "https://localhost:8080/",
     "height": 368
    },
    "executionInfo": {
     "elapsed": 4527,
     "status": "error",
     "timestamp": 1744631741321,
     "user": {
      "displayName": "Lieke van Eijk",
      "userId": "14782018823013020993"
     },
     "user_tz": -120
    },
    "id": "Hrd4EhHlAcmi",
    "outputId": "9953b88b-dc06-4f8f-df9f-0a844c87052e"
   },
   "outputs": [
    {
     "name": "stdout",
     "output_type": "stream",
     "text": [
      "Variable name: data_fin\n"
     ]
    },
    {
     "data": {
      "text/html": [
       "<div>\n",
       "<style scoped>\n",
       "    .dataframe tbody tr th:only-of-type {\n",
       "        vertical-align: middle;\n",
       "    }\n",
       "\n",
       "    .dataframe tbody tr th {\n",
       "        vertical-align: top;\n",
       "    }\n",
       "\n",
       "    .dataframe thead th {\n",
       "        text-align: right;\n",
       "    }\n",
       "</style>\n",
       "<table border=\"1\" class=\"dataframe\">\n",
       "  <thead>\n",
       "    <tr style=\"text-align: right;\">\n",
       "      <th></th>\n",
       "      <th>Valence</th>\n",
       "      <th>predicted_val</th>\n",
       "      <th>predicted_valL</th>\n",
       "      <th>predicted_valL_BI</th>\n",
       "      <th>predicted_valDIM</th>\n",
       "      <th>predicted_valL_DIM</th>\n",
       "      <th>predicted_valBI</th>\n",
       "      <th>predicted_valBI_DIM</th>\n",
       "    </tr>\n",
       "    <tr>\n",
       "      <th>rownames</th>\n",
       "      <th></th>\n",
       "      <th></th>\n",
       "      <th></th>\n",
       "      <th></th>\n",
       "      <th></th>\n",
       "      <th></th>\n",
       "      <th></th>\n",
       "      <th></th>\n",
       "    </tr>\n",
       "  </thead>\n",
       "  <tbody>\n",
       "    <tr>\n",
       "      <th>aardvark</th>\n",
       "      <td>6.26</td>\n",
       "      <td>6.392012</td>\n",
       "      <td>4.920180</td>\n",
       "      <td>6.410768</td>\n",
       "      <td>5.772722</td>\n",
       "      <td>5.774341</td>\n",
       "      <td>6.410768</td>\n",
       "      <td>6.392012</td>\n",
       "    </tr>\n",
       "    <tr>\n",
       "      <th>abalone</th>\n",
       "      <td>5.30</td>\n",
       "      <td>4.756492</td>\n",
       "      <td>5.284912</td>\n",
       "      <td>5.115389</td>\n",
       "      <td>4.728264</td>\n",
       "      <td>4.858120</td>\n",
       "      <td>5.115389</td>\n",
       "      <td>4.756492</td>\n",
       "    </tr>\n",
       "    <tr>\n",
       "      <th>abandon</th>\n",
       "      <td>2.84</td>\n",
       "      <td>4.260055</td>\n",
       "      <td>5.001226</td>\n",
       "      <td>5.479860</td>\n",
       "      <td>3.978241</td>\n",
       "      <td>3.987623</td>\n",
       "      <td>5.479860</td>\n",
       "      <td>4.260055</td>\n",
       "    </tr>\n",
       "    <tr>\n",
       "      <th>abandonment</th>\n",
       "      <td>2.63</td>\n",
       "      <td>4.196807</td>\n",
       "      <td>5.022504</td>\n",
       "      <td>5.334364</td>\n",
       "      <td>3.833330</td>\n",
       "      <td>3.828077</td>\n",
       "      <td>5.334364</td>\n",
       "      <td>4.196807</td>\n",
       "    </tr>\n",
       "    <tr>\n",
       "      <th>abbey</th>\n",
       "      <td>5.85</td>\n",
       "      <td>6.123953</td>\n",
       "      <td>5.147159</td>\n",
       "      <td>5.162931</td>\n",
       "      <td>6.064834</td>\n",
       "      <td>6.094675</td>\n",
       "      <td>5.162931</td>\n",
       "      <td>6.123953</td>\n",
       "    </tr>\n",
       "  </tbody>\n",
       "</table>\n",
       "</div>"
      ],
      "text/plain": [
       "             Valence  predicted_val  predicted_valL  predicted_valL_BI  \\\n",
       "rownames                                                                 \n",
       "aardvark        6.26       6.392012        4.920180           6.410768   \n",
       "abalone         5.30       4.756492        5.284912           5.115389   \n",
       "abandon         2.84       4.260055        5.001226           5.479860   \n",
       "abandonment     2.63       4.196807        5.022504           5.334364   \n",
       "abbey           5.85       6.123953        5.147159           5.162931   \n",
       "\n",
       "             predicted_valDIM  predicted_valL_DIM  predicted_valBI  \\\n",
       "rownames                                                             \n",
       "aardvark             5.772722            5.774341         6.410768   \n",
       "abalone              4.728264            4.858120         5.115389   \n",
       "abandon              3.978241            3.987623         5.479860   \n",
       "abandonment          3.833330            3.828077         5.334364   \n",
       "abbey                6.064834            6.094675         5.162931   \n",
       "\n",
       "             predicted_valBI_DIM  \n",
       "rownames                          \n",
       "aardvark                6.392012  \n",
       "abalone                 4.756492  \n",
       "abandon                 4.260055  \n",
       "abandonment             4.196807  \n",
       "abbey                   6.123953  "
      ]
     },
     "metadata": {},
     "output_type": "display_data"
    },
    {
     "name": "stdout",
     "output_type": "stream",
     "text": [
      "Variable name: data_2\n"
     ]
    },
    {
     "data": {
      "text/html": [
       "<div>\n",
       "<style scoped>\n",
       "    .dataframe tbody tr th:only-of-type {\n",
       "        vertical-align: middle;\n",
       "    }\n",
       "\n",
       "    .dataframe tbody tr th {\n",
       "        vertical-align: top;\n",
       "    }\n",
       "\n",
       "    .dataframe thead th {\n",
       "        text-align: right;\n",
       "    }\n",
       "</style>\n",
       "<table border=\"1\" class=\"dataframe\">\n",
       "  <thead>\n",
       "    <tr style=\"text-align: right;\">\n",
       "      <th></th>\n",
       "      <th>X</th>\n",
       "      <th>pseudoword</th>\n",
       "      <th>Value</th>\n",
       "      <th>predicted_valence</th>\n",
       "      <th>predictedL_valence</th>\n",
       "      <th>predictedL_Bi_valence</th>\n",
       "      <th>predicted_Dim_valence</th>\n",
       "      <th>predictedL_Dim_valence</th>\n",
       "      <th>predictedBi_Dim_valence</th>\n",
       "      <th>predictedBi_valence</th>\n",
       "      <th>LDist</th>\n",
       "      <th>Ortho_VAL</th>\n",
       "      <th>Semant_Neigh</th>\n",
       "      <th>SDist</th>\n",
       "      <th>Semant_VAL</th>\n",
       "    </tr>\n",
       "  </thead>\n",
       "  <tbody>\n",
       "    <tr>\n",
       "      <th>0</th>\n",
       "      <td>1</td>\n",
       "      <td>abhert</td>\n",
       "      <td>0.452501</td>\n",
       "      <td>7.414814</td>\n",
       "      <td>5.116167</td>\n",
       "      <td>6.444633</td>\n",
       "      <td>6.783771</td>\n",
       "      <td>6.630497</td>\n",
       "      <td>7.414814</td>\n",
       "      <td>6.444633</td>\n",
       "      <td>2</td>\n",
       "      <td>4.655714</td>\n",
       "      <td>ordinary</td>\n",
       "      <td>0.558492</td>\n",
       "      <td>5.05</td>\n",
       "    </tr>\n",
       "    <tr>\n",
       "      <th>1</th>\n",
       "      <td>2</td>\n",
       "      <td>abhict</td>\n",
       "      <td>0.434171</td>\n",
       "      <td>8.233714</td>\n",
       "      <td>5.059183</td>\n",
       "      <td>6.509936</td>\n",
       "      <td>7.366068</td>\n",
       "      <td>7.377534</td>\n",
       "      <td>8.233714</td>\n",
       "      <td>6.509936</td>\n",
       "      <td>2</td>\n",
       "      <td>3.093333</td>\n",
       "      <td>cardigan</td>\n",
       "      <td>0.622202</td>\n",
       "      <td>5.95</td>\n",
       "    </tr>\n",
       "    <tr>\n",
       "      <th>2</th>\n",
       "      <td>3</td>\n",
       "      <td>acleat</td>\n",
       "      <td>0.527803</td>\n",
       "      <td>5.552468</td>\n",
       "      <td>5.262971</td>\n",
       "      <td>5.245826</td>\n",
       "      <td>5.268643</td>\n",
       "      <td>5.396114</td>\n",
       "      <td>5.552468</td>\n",
       "      <td>5.245826</td>\n",
       "      <td>1</td>\n",
       "      <td>4.240000</td>\n",
       "      <td>solarium</td>\n",
       "      <td>0.575150</td>\n",
       "      <td>6.10</td>\n",
       "    </tr>\n",
       "    <tr>\n",
       "      <th>3</th>\n",
       "      <td>4</td>\n",
       "      <td>acmure</td>\n",
       "      <td>0.604889</td>\n",
       "      <td>8.714640</td>\n",
       "      <td>5.120029</td>\n",
       "      <td>6.562896</td>\n",
       "      <td>7.680827</td>\n",
       "      <td>7.583230</td>\n",
       "      <td>7.809910</td>\n",
       "      <td>5.414532</td>\n",
       "      <td>2</td>\n",
       "      <td>5.885000</td>\n",
       "      <td>bad</td>\n",
       "      <td>0.570299</td>\n",
       "      <td>3.24</td>\n",
       "    </tr>\n",
       "    <tr>\n",
       "      <th>4</th>\n",
       "      <td>5</td>\n",
       "      <td>acoed</td>\n",
       "      <td>0.538990</td>\n",
       "      <td>7.340002</td>\n",
       "      <td>5.115652</td>\n",
       "      <td>5.309727</td>\n",
       "      <td>7.105662</td>\n",
       "      <td>7.024771</td>\n",
       "      <td>7.340002</td>\n",
       "      <td>5.309727</td>\n",
       "      <td>1</td>\n",
       "      <td>5.680000</td>\n",
       "      <td>girl</td>\n",
       "      <td>0.499035</td>\n",
       "      <td>7.15</td>\n",
       "    </tr>\n",
       "  </tbody>\n",
       "</table>\n",
       "</div>"
      ],
      "text/plain": [
       "   X pseudoword     Value  predicted_valence  predictedL_valence  \\\n",
       "0  1     abhert  0.452501           7.414814            5.116167   \n",
       "1  2     abhict  0.434171           8.233714            5.059183   \n",
       "2  3     acleat  0.527803           5.552468            5.262971   \n",
       "3  4     acmure  0.604889           8.714640            5.120029   \n",
       "4  5      acoed  0.538990           7.340002            5.115652   \n",
       "\n",
       "   predictedL_Bi_valence  predicted_Dim_valence  predictedL_Dim_valence  \\\n",
       "0               6.444633               6.783771                6.630497   \n",
       "1               6.509936               7.366068                7.377534   \n",
       "2               5.245826               5.268643                5.396114   \n",
       "3               6.562896               7.680827                7.583230   \n",
       "4               5.309727               7.105662                7.024771   \n",
       "\n",
       "   predictedBi_Dim_valence  predictedBi_valence  LDist  Ortho_VAL  \\\n",
       "0                 7.414814             6.444633      2   4.655714   \n",
       "1                 8.233714             6.509936      2   3.093333   \n",
       "2                 5.552468             5.245826      1   4.240000   \n",
       "3                 7.809910             5.414532      2   5.885000   \n",
       "4                 7.340002             5.309727      1   5.680000   \n",
       "\n",
       "  Semant_Neigh     SDist  Semant_VAL  \n",
       "0     ordinary  0.558492        5.05  \n",
       "1     cardigan  0.622202        5.95  \n",
       "2     solarium  0.575150        6.10  \n",
       "3          bad  0.570299        3.24  \n",
       "4         girl  0.499035        7.15  "
      ]
     },
     "metadata": {},
     "output_type": "display_data"
    },
    {
     "name": "stdout",
     "output_type": "stream",
     "text": [
      "Variable name: data_3\n"
     ]
    },
    {
     "data": {
      "text/html": [
       "<div>\n",
       "<style scoped>\n",
       "    .dataframe tbody tr th:only-of-type {\n",
       "        vertical-align: middle;\n",
       "    }\n",
       "\n",
       "    .dataframe tbody tr th {\n",
       "        vertical-align: top;\n",
       "    }\n",
       "\n",
       "    .dataframe thead th {\n",
       "        text-align: right;\n",
       "    }\n",
       "</style>\n",
       "<table border=\"1\" class=\"dataframe\">\n",
       "  <thead>\n",
       "    <tr style=\"text-align: right;\">\n",
       "      <th></th>\n",
       "      <th>pseudoword</th>\n",
       "      <th>VAL2</th>\n",
       "      <th>Elo</th>\n",
       "      <th>RW</th>\n",
       "      <th>Best</th>\n",
       "      <th>Worst</th>\n",
       "      <th>Unchosen</th>\n",
       "      <th>BestWorst</th>\n",
       "      <th>ABW</th>\n",
       "      <th>David</th>\n",
       "      <th>...</th>\n",
       "      <th>predictedL_Bi_valence</th>\n",
       "      <th>predicted_Dim_valence</th>\n",
       "      <th>predictedL_Dim_valence</th>\n",
       "      <th>predictedBi_Dim_valence</th>\n",
       "      <th>predictedBi_valence</th>\n",
       "      <th>LDist</th>\n",
       "      <th>Ortho_VAL</th>\n",
       "      <th>Semant_Neigh</th>\n",
       "      <th>SDist</th>\n",
       "      <th>Semant_VAL</th>\n",
       "    </tr>\n",
       "  </thead>\n",
       "  <tbody>\n",
       "    <tr>\n",
       "      <th>0</th>\n",
       "      <td>acleat</td>\n",
       "      <td>0.511226</td>\n",
       "      <td>-14.049630</td>\n",
       "      <td>0.516195</td>\n",
       "      <td>3</td>\n",
       "      <td>2</td>\n",
       "      <td>25</td>\n",
       "      <td>8.833333</td>\n",
       "      <td>0.066691</td>\n",
       "      <td>9400</td>\n",
       "      <td>...</td>\n",
       "      <td>5.245826</td>\n",
       "      <td>5.268643</td>\n",
       "      <td>5.396114</td>\n",
       "      <td>5.552468</td>\n",
       "      <td>5.245826</td>\n",
       "      <td>1</td>\n",
       "      <td>4.240000</td>\n",
       "      <td>solarium</td>\n",
       "      <td>0.575150</td>\n",
       "      <td>6.10</td>\n",
       "    </tr>\n",
       "    <tr>\n",
       "      <th>1</th>\n",
       "      <td>acmure</td>\n",
       "      <td>0.539304</td>\n",
       "      <td>117.178153</td>\n",
       "      <td>0.543576</td>\n",
       "      <td>9</td>\n",
       "      <td>6</td>\n",
       "      <td>15</td>\n",
       "      <td>25.500000</td>\n",
       "      <td>0.200671</td>\n",
       "      <td>62800</td>\n",
       "      <td>...</td>\n",
       "      <td>6.562896</td>\n",
       "      <td>7.680827</td>\n",
       "      <td>7.583230</td>\n",
       "      <td>7.809910</td>\n",
       "      <td>5.414532</td>\n",
       "      <td>2</td>\n",
       "      <td>5.885000</td>\n",
       "      <td>bad</td>\n",
       "      <td>0.570299</td>\n",
       "      <td>3.24</td>\n",
       "    </tr>\n",
       "    <tr>\n",
       "      <th>2</th>\n",
       "      <td>acraw</td>\n",
       "      <td>0.468173</td>\n",
       "      <td>-63.085202</td>\n",
       "      <td>0.462979</td>\n",
       "      <td>3</td>\n",
       "      <td>5</td>\n",
       "      <td>22</td>\n",
       "      <td>-16.166667</td>\n",
       "      <td>-0.133531</td>\n",
       "      <td>-33300</td>\n",
       "      <td>...</td>\n",
       "      <td>4.897807</td>\n",
       "      <td>8.202013</td>\n",
       "      <td>8.220112</td>\n",
       "      <td>7.968543</td>\n",
       "      <td>4.897807</td>\n",
       "      <td>2</td>\n",
       "      <td>5.044706</td>\n",
       "      <td>side</td>\n",
       "      <td>0.572060</td>\n",
       "      <td>5.32</td>\n",
       "    </tr>\n",
       "    <tr>\n",
       "      <th>3</th>\n",
       "      <td>adlor</td>\n",
       "      <td>0.601365</td>\n",
       "      <td>119.915944</td>\n",
       "      <td>0.603029</td>\n",
       "      <td>7</td>\n",
       "      <td>1</td>\n",
       "      <td>22</td>\n",
       "      <td>50.500000</td>\n",
       "      <td>0.405465</td>\n",
       "      <td>139500</td>\n",
       "      <td>...</td>\n",
       "      <td>4.625245</td>\n",
       "      <td>5.855695</td>\n",
       "      <td>5.899081</td>\n",
       "      <td>5.696890</td>\n",
       "      <td>4.625245</td>\n",
       "      <td>2</td>\n",
       "      <td>5.640667</td>\n",
       "      <td>act</td>\n",
       "      <td>0.589797</td>\n",
       "      <td>5.64</td>\n",
       "    </tr>\n",
       "    <tr>\n",
       "      <th>4</th>\n",
       "      <td>adpite</td>\n",
       "      <td>0.573363</td>\n",
       "      <td>106.951853</td>\n",
       "      <td>0.574467</td>\n",
       "      <td>7</td>\n",
       "      <td>2</td>\n",
       "      <td>21</td>\n",
       "      <td>42.166667</td>\n",
       "      <td>0.336472</td>\n",
       "      <td>103500</td>\n",
       "      <td>...</td>\n",
       "      <td>5.100143</td>\n",
       "      <td>8.216379</td>\n",
       "      <td>8.225612</td>\n",
       "      <td>8.363778</td>\n",
       "      <td>5.100143</td>\n",
       "      <td>2</td>\n",
       "      <td>6.066667</td>\n",
       "      <td>regard</td>\n",
       "      <td>0.590583</td>\n",
       "      <td>5.70</td>\n",
       "    </tr>\n",
       "  </tbody>\n",
       "</table>\n",
       "<p>5 rows × 27 columns</p>\n",
       "</div>"
      ],
      "text/plain": [
       "  pseudoword      VAL2         Elo        RW  Best  Worst  Unchosen  \\\n",
       "0     acleat  0.511226  -14.049630  0.516195     3      2        25   \n",
       "1     acmure  0.539304  117.178153  0.543576     9      6        15   \n",
       "2      acraw  0.468173  -63.085202  0.462979     3      5        22   \n",
       "3      adlor  0.601365  119.915944  0.603029     7      1        22   \n",
       "4     adpite  0.573363  106.951853  0.574467     7      2        21   \n",
       "\n",
       "   BestWorst       ABW   David  ...  predictedL_Bi_valence  \\\n",
       "0   8.833333  0.066691    9400  ...               5.245826   \n",
       "1  25.500000  0.200671   62800  ...               6.562896   \n",
       "2 -16.166667 -0.133531  -33300  ...               4.897807   \n",
       "3  50.500000  0.405465  139500  ...               4.625245   \n",
       "4  42.166667  0.336472  103500  ...               5.100143   \n",
       "\n",
       "   predicted_Dim_valence  predictedL_Dim_valence  predictedBi_Dim_valence  \\\n",
       "0               5.268643                5.396114                 5.552468   \n",
       "1               7.680827                7.583230                 7.809910   \n",
       "2               8.202013                8.220112                 7.968543   \n",
       "3               5.855695                5.899081                 5.696890   \n",
       "4               8.216379                8.225612                 8.363778   \n",
       "\n",
       "   predictedBi_valence  LDist  Ortho_VAL  Semant_Neigh     SDist  Semant_VAL  \n",
       "0             5.245826      1   4.240000      solarium  0.575150        6.10  \n",
       "1             5.414532      2   5.885000           bad  0.570299        3.24  \n",
       "2             4.897807      2   5.044706          side  0.572060        5.32  \n",
       "3             4.625245      2   5.640667           act  0.589797        5.64  \n",
       "4             5.100143      2   6.066667        regard  0.590583        5.70  \n",
       "\n",
       "[5 rows x 27 columns]"
      ]
     },
     "metadata": {},
     "output_type": "display_data"
    },
    {
     "name": "stdout",
     "output_type": "stream",
     "text": [
      "Variable name: .Random.seed\n"
     ]
    },
    {
     "data": {
      "text/html": [
       "<div>\n",
       "<style scoped>\n",
       "    .dataframe tbody tr th:only-of-type {\n",
       "        vertical-align: middle;\n",
       "    }\n",
       "\n",
       "    .dataframe tbody tr th {\n",
       "        vertical-align: top;\n",
       "    }\n",
       "\n",
       "    .dataframe thead th {\n",
       "        text-align: right;\n",
       "    }\n",
       "</style>\n",
       "<table border=\"1\" class=\"dataframe\">\n",
       "  <thead>\n",
       "    <tr style=\"text-align: right;\">\n",
       "      <th></th>\n",
       "      <th>.Random.seed</th>\n",
       "    </tr>\n",
       "  </thead>\n",
       "  <tbody>\n",
       "    <tr>\n",
       "      <th>0</th>\n",
       "      <td>10403</td>\n",
       "    </tr>\n",
       "    <tr>\n",
       "      <th>1</th>\n",
       "      <td>593</td>\n",
       "    </tr>\n",
       "    <tr>\n",
       "      <th>2</th>\n",
       "      <td>1050179519</td>\n",
       "    </tr>\n",
       "    <tr>\n",
       "      <th>3</th>\n",
       "      <td>2033100213</td>\n",
       "    </tr>\n",
       "    <tr>\n",
       "      <th>4</th>\n",
       "      <td>-1373968898</td>\n",
       "    </tr>\n",
       "  </tbody>\n",
       "</table>\n",
       "</div>"
      ],
      "text/plain": [
       "   .Random.seed\n",
       "0         10403\n",
       "1           593\n",
       "2    1050179519\n",
       "3    2033100213\n",
       "4   -1373968898"
      ]
     },
     "metadata": {},
     "output_type": "display_data"
    },
    {
     "name": "stdout",
     "output_type": "stream",
     "text": [
      "Variable name: Count\n"
     ]
    },
    {
     "data": {
      "text/html": [
       "<div>\n",
       "<style scoped>\n",
       "    .dataframe tbody tr th:only-of-type {\n",
       "        vertical-align: middle;\n",
       "    }\n",
       "\n",
       "    .dataframe tbody tr th {\n",
       "        vertical-align: top;\n",
       "    }\n",
       "\n",
       "    .dataframe thead th {\n",
       "        text-align: right;\n",
       "    }\n",
       "</style>\n",
       "<table border=\"1\" class=\"dataframe\">\n",
       "  <thead>\n",
       "    <tr style=\"text-align: right;\">\n",
       "      <th></th>\n",
       "      <th>Word</th>\n",
       "      <th>a</th>\n",
       "      <th>b</th>\n",
       "      <th>c</th>\n",
       "      <th>d</th>\n",
       "      <th>e</th>\n",
       "      <th>f</th>\n",
       "      <th>g</th>\n",
       "      <th>h</th>\n",
       "      <th>i</th>\n",
       "      <th>...</th>\n",
       "      <th>Dim_292</th>\n",
       "      <th>Dim_293</th>\n",
       "      <th>Dim_294</th>\n",
       "      <th>Dim_295</th>\n",
       "      <th>Dim_296</th>\n",
       "      <th>Dim_297</th>\n",
       "      <th>Dim_298</th>\n",
       "      <th>Dim_299</th>\n",
       "      <th>Dim_300</th>\n",
       "      <th>Valence</th>\n",
       "    </tr>\n",
       "  </thead>\n",
       "  <tbody>\n",
       "    <tr>\n",
       "      <th>0</th>\n",
       "      <td>aardvark</td>\n",
       "      <td>3</td>\n",
       "      <td>0</td>\n",
       "      <td>0</td>\n",
       "      <td>1</td>\n",
       "      <td>0</td>\n",
       "      <td>0</td>\n",
       "      <td>0</td>\n",
       "      <td>0</td>\n",
       "      <td>0</td>\n",
       "      <td>...</td>\n",
       "      <td>0.049830</td>\n",
       "      <td>-0.052880</td>\n",
       "      <td>0.019918</td>\n",
       "      <td>-0.003339</td>\n",
       "      <td>-0.005436</td>\n",
       "      <td>0.039293</td>\n",
       "      <td>-0.010782</td>\n",
       "      <td>-0.023010</td>\n",
       "      <td>0.007921</td>\n",
       "      <td>6.26</td>\n",
       "    </tr>\n",
       "    <tr>\n",
       "      <th>1</th>\n",
       "      <td>abalone</td>\n",
       "      <td>2</td>\n",
       "      <td>1</td>\n",
       "      <td>0</td>\n",
       "      <td>0</td>\n",
       "      <td>1</td>\n",
       "      <td>0</td>\n",
       "      <td>0</td>\n",
       "      <td>0</td>\n",
       "      <td>0</td>\n",
       "      <td>...</td>\n",
       "      <td>0.019090</td>\n",
       "      <td>-0.083532</td>\n",
       "      <td>0.024157</td>\n",
       "      <td>-0.006709</td>\n",
       "      <td>-0.005889</td>\n",
       "      <td>0.019107</td>\n",
       "      <td>0.054735</td>\n",
       "      <td>0.026275</td>\n",
       "      <td>0.026177</td>\n",
       "      <td>5.30</td>\n",
       "    </tr>\n",
       "    <tr>\n",
       "      <th>2</th>\n",
       "      <td>abandon</td>\n",
       "      <td>2</td>\n",
       "      <td>1</td>\n",
       "      <td>0</td>\n",
       "      <td>1</td>\n",
       "      <td>0</td>\n",
       "      <td>0</td>\n",
       "      <td>0</td>\n",
       "      <td>0</td>\n",
       "      <td>0</td>\n",
       "      <td>...</td>\n",
       "      <td>-0.018420</td>\n",
       "      <td>0.003779</td>\n",
       "      <td>0.011741</td>\n",
       "      <td>-0.012012</td>\n",
       "      <td>0.007799</td>\n",
       "      <td>-0.062272</td>\n",
       "      <td>-0.006584</td>\n",
       "      <td>-0.008598</td>\n",
       "      <td>-0.012287</td>\n",
       "      <td>2.84</td>\n",
       "    </tr>\n",
       "    <tr>\n",
       "      <th>3</th>\n",
       "      <td>abandonment</td>\n",
       "      <td>2</td>\n",
       "      <td>1</td>\n",
       "      <td>0</td>\n",
       "      <td>1</td>\n",
       "      <td>1</td>\n",
       "      <td>0</td>\n",
       "      <td>0</td>\n",
       "      <td>0</td>\n",
       "      <td>0</td>\n",
       "      <td>...</td>\n",
       "      <td>-0.020326</td>\n",
       "      <td>-0.040106</td>\n",
       "      <td>0.000867</td>\n",
       "      <td>-0.022475</td>\n",
       "      <td>-0.013669</td>\n",
       "      <td>0.021974</td>\n",
       "      <td>0.021332</td>\n",
       "      <td>0.021166</td>\n",
       "      <td>0.003248</td>\n",
       "      <td>2.63</td>\n",
       "    </tr>\n",
       "    <tr>\n",
       "      <th>4</th>\n",
       "      <td>abbey</td>\n",
       "      <td>1</td>\n",
       "      <td>2</td>\n",
       "      <td>0</td>\n",
       "      <td>0</td>\n",
       "      <td>1</td>\n",
       "      <td>0</td>\n",
       "      <td>0</td>\n",
       "      <td>0</td>\n",
       "      <td>0</td>\n",
       "      <td>...</td>\n",
       "      <td>0.077062</td>\n",
       "      <td>-0.073641</td>\n",
       "      <td>-0.014475</td>\n",
       "      <td>0.034482</td>\n",
       "      <td>-0.011150</td>\n",
       "      <td>0.028477</td>\n",
       "      <td>0.034331</td>\n",
       "      <td>0.018858</td>\n",
       "      <td>-0.047663</td>\n",
       "      <td>5.85</td>\n",
       "    </tr>\n",
       "  </tbody>\n",
       "</table>\n",
       "<p>5 rows × 1056 columns</p>\n",
       "</div>"
      ],
      "text/plain": [
       "          Word  a  b  c  d  e  f  g  h  i  ...   Dim_292   Dim_293   Dim_294  \\\n",
       "0     aardvark  3  0  0  1  0  0  0  0  0  ...  0.049830 -0.052880  0.019918   \n",
       "1      abalone  2  1  0  0  1  0  0  0  0  ...  0.019090 -0.083532  0.024157   \n",
       "2      abandon  2  1  0  1  0  0  0  0  0  ... -0.018420  0.003779  0.011741   \n",
       "3  abandonment  2  1  0  1  1  0  0  0  0  ... -0.020326 -0.040106  0.000867   \n",
       "4        abbey  1  2  0  0  1  0  0  0  0  ...  0.077062 -0.073641 -0.014475   \n",
       "\n",
       "    Dim_295   Dim_296   Dim_297   Dim_298   Dim_299   Dim_300  Valence  \n",
       "0 -0.003339 -0.005436  0.039293 -0.010782 -0.023010  0.007921     6.26  \n",
       "1 -0.006709 -0.005889  0.019107  0.054735  0.026275  0.026177     5.30  \n",
       "2 -0.012012  0.007799 -0.062272 -0.006584 -0.008598 -0.012287     2.84  \n",
       "3 -0.022475 -0.013669  0.021974  0.021332  0.021166  0.003248     2.63  \n",
       "4  0.034482 -0.011150  0.028477  0.034331  0.018858 -0.047663     5.85  \n",
       "\n",
       "[5 rows x 1056 columns]"
      ]
     },
     "metadata": {},
     "output_type": "display_data"
    },
    {
     "name": "stdout",
     "output_type": "stream",
     "text": [
      "Variable name: comb_2\n"
     ]
    },
    {
     "data": {
      "text/html": [
       "<div>\n",
       "<style scoped>\n",
       "    .dataframe tbody tr th:only-of-type {\n",
       "        vertical-align: middle;\n",
       "    }\n",
       "\n",
       "    .dataframe tbody tr th {\n",
       "        vertical-align: top;\n",
       "    }\n",
       "\n",
       "    .dataframe thead th {\n",
       "        text-align: right;\n",
       "    }\n",
       "</style>\n",
       "<table border=\"1\" class=\"dataframe\">\n",
       "  <thead>\n",
       "    <tr style=\"text-align: right;\">\n",
       "      <th></th>\n",
       "      <th>Word</th>\n",
       "      <th>Value1</th>\n",
       "      <th>Value2</th>\n",
       "    </tr>\n",
       "  </thead>\n",
       "  <tbody>\n",
       "    <tr>\n",
       "      <th>0</th>\n",
       "      <td>abhert</td>\n",
       "      <td>0.473009</td>\n",
       "      <td>0.406491</td>\n",
       "    </tr>\n",
       "    <tr>\n",
       "      <th>1</th>\n",
       "      <td>abhict</td>\n",
       "      <td>0.375453</td>\n",
       "      <td>0.472723</td>\n",
       "    </tr>\n",
       "    <tr>\n",
       "      <th>2</th>\n",
       "      <td>acleat</td>\n",
       "      <td>0.583840</td>\n",
       "      <td>0.496628</td>\n",
       "    </tr>\n",
       "    <tr>\n",
       "      <th>3</th>\n",
       "      <td>acmure</td>\n",
       "      <td>0.607354</td>\n",
       "      <td>0.597101</td>\n",
       "    </tr>\n",
       "    <tr>\n",
       "      <th>4</th>\n",
       "      <td>acoed</td>\n",
       "      <td>0.526847</td>\n",
       "      <td>0.551518</td>\n",
       "    </tr>\n",
       "  </tbody>\n",
       "</table>\n",
       "</div>"
      ],
      "text/plain": [
       "     Word    Value1    Value2\n",
       "0  abhert  0.473009  0.406491\n",
       "1  abhict  0.375453  0.472723\n",
       "2  acleat  0.583840  0.496628\n",
       "3  acmure  0.607354  0.597101\n",
       "4   acoed  0.526847  0.551518"
      ]
     },
     "metadata": {},
     "output_type": "display_data"
    },
    {
     "name": "stdout",
     "output_type": "stream",
     "text": [
      "Variable name: comb_3\n"
     ]
    },
    {
     "data": {
      "text/html": [
       "<div>\n",
       "<style scoped>\n",
       "    .dataframe tbody tr th:only-of-type {\n",
       "        vertical-align: middle;\n",
       "    }\n",
       "\n",
       "    .dataframe tbody tr th {\n",
       "        vertical-align: top;\n",
       "    }\n",
       "\n",
       "    .dataframe thead th {\n",
       "        text-align: right;\n",
       "    }\n",
       "</style>\n",
       "<table border=\"1\" class=\"dataframe\">\n",
       "  <thead>\n",
       "    <tr style=\"text-align: right;\">\n",
       "      <th></th>\n",
       "      <th>Word</th>\n",
       "      <th>Value1</th>\n",
       "      <th>Value2</th>\n",
       "    </tr>\n",
       "  </thead>\n",
       "  <tbody>\n",
       "    <tr>\n",
       "      <th>0</th>\n",
       "      <td>acleat</td>\n",
       "      <td>0.493853</td>\n",
       "      <td>0.533178</td>\n",
       "    </tr>\n",
       "    <tr>\n",
       "      <th>1</th>\n",
       "      <td>acmure</td>\n",
       "      <td>0.578694</td>\n",
       "      <td>0.520666</td>\n",
       "    </tr>\n",
       "    <tr>\n",
       "      <th>2</th>\n",
       "      <td>acraw</td>\n",
       "      <td>0.506507</td>\n",
       "      <td>0.430297</td>\n",
       "    </tr>\n",
       "    <tr>\n",
       "      <th>3</th>\n",
       "      <td>adlor</td>\n",
       "      <td>0.598781</td>\n",
       "      <td>0.599522</td>\n",
       "    </tr>\n",
       "    <tr>\n",
       "      <th>4</th>\n",
       "      <td>adpite</td>\n",
       "      <td>0.598732</td>\n",
       "      <td>0.536912</td>\n",
       "    </tr>\n",
       "  </tbody>\n",
       "</table>\n",
       "</div>"
      ],
      "text/plain": [
       "     Word    Value1    Value2\n",
       "0  acleat  0.493853  0.533178\n",
       "1  acmure  0.578694  0.520666\n",
       "2   acraw  0.506507  0.430297\n",
       "3   adlor  0.598781  0.599522\n",
       "4  adpite  0.598732  0.536912"
      ]
     },
     "metadata": {},
     "output_type": "display_data"
    },
    {
     "data": {
      "text/html": [
       "<div>\n",
       "<style scoped>\n",
       "    .dataframe tbody tr th:only-of-type {\n",
       "        vertical-align: middle;\n",
       "    }\n",
       "\n",
       "    .dataframe tbody tr th {\n",
       "        vertical-align: top;\n",
       "    }\n",
       "\n",
       "    .dataframe thead th {\n",
       "        text-align: right;\n",
       "    }\n",
       "</style>\n",
       "<table border=\"1\" class=\"dataframe\">\n",
       "  <thead>\n",
       "    <tr style=\"text-align: right;\">\n",
       "      <th></th>\n",
       "      <th>List</th>\n",
       "      <th>Participant</th>\n",
       "      <th>Word</th>\n",
       "      <th>Valence</th>\n",
       "      <th>Unknown</th>\n",
       "      <th>RemoveParticipant</th>\n",
       "    </tr>\n",
       "  </thead>\n",
       "  <tbody>\n",
       "    <tr>\n",
       "      <th>0</th>\n",
       "      <td>Lijst 5</td>\n",
       "      <td>Lijst 5_PP1</td>\n",
       "      <td>aai</td>\n",
       "      <td>5.0</td>\n",
       "      <td>0</td>\n",
       "      <td>0</td>\n",
       "    </tr>\n",
       "    <tr>\n",
       "      <th>1</th>\n",
       "      <td>Lijst 5</td>\n",
       "      <td>Lijst 5_PP11</td>\n",
       "      <td>aai</td>\n",
       "      <td>3.0</td>\n",
       "      <td>0</td>\n",
       "      <td>0</td>\n",
       "    </tr>\n",
       "    <tr>\n",
       "      <th>2</th>\n",
       "      <td>Lijst 5</td>\n",
       "      <td>Lijst 5_PP12</td>\n",
       "      <td>aai</td>\n",
       "      <td>3.0</td>\n",
       "      <td>0</td>\n",
       "      <td>0</td>\n",
       "    </tr>\n",
       "    <tr>\n",
       "      <th>3</th>\n",
       "      <td>Lijst 5</td>\n",
       "      <td>Lijst 5_PP2</td>\n",
       "      <td>aai</td>\n",
       "      <td>3.0</td>\n",
       "      <td>0</td>\n",
       "      <td>0</td>\n",
       "    </tr>\n",
       "    <tr>\n",
       "      <th>4</th>\n",
       "      <td>Lijst 5</td>\n",
       "      <td>Lijst 5_PP3</td>\n",
       "      <td>aai</td>\n",
       "      <td>4.0</td>\n",
       "      <td>0</td>\n",
       "      <td>0</td>\n",
       "    </tr>\n",
       "  </tbody>\n",
       "</table>\n",
       "</div>"
      ],
      "text/plain": [
       "      List   Participant Word  Valence  Unknown  RemoveParticipant\n",
       "0  Lijst 5   Lijst 5_PP1  aai      5.0        0                  0\n",
       "1  Lijst 5  Lijst 5_PP11  aai      3.0        0                  0\n",
       "2  Lijst 5  Lijst 5_PP12  aai      3.0        0                  0\n",
       "3  Lijst 5   Lijst 5_PP2  aai      3.0        0                  0\n",
       "4  Lijst 5   Lijst 5_PP3  aai      4.0        0                  0"
      ]
     },
     "metadata": {},
     "output_type": "display_data"
    },
    {
     "data": {
      "text/html": [
       "<div>\n",
       "<style scoped>\n",
       "    .dataframe tbody tr th:only-of-type {\n",
       "        vertical-align: middle;\n",
       "    }\n",
       "\n",
       "    .dataframe tbody tr th {\n",
       "        vertical-align: top;\n",
       "    }\n",
       "\n",
       "    .dataframe thead th {\n",
       "        text-align: right;\n",
       "    }\n",
       "</style>\n",
       "<table border=\"1\" class=\"dataframe\">\n",
       "  <thead>\n",
       "    <tr style=\"text-align: right;\">\n",
       "      <th></th>\n",
       "      <th>Word</th>\n",
       "      <th>Valence</th>\n",
       "      <th>N_Unknown</th>\n",
       "      <th>N_Valence</th>\n",
       "      <th>ProportionUnknown</th>\n",
       "      <th>RemoveUnknown</th>\n",
       "    </tr>\n",
       "  </thead>\n",
       "  <tbody>\n",
       "    <tr>\n",
       "      <th>0</th>\n",
       "      <td>concordantie</td>\n",
       "      <td>3.222222</td>\n",
       "      <td>11</td>\n",
       "      <td>9</td>\n",
       "      <td>0.550000</td>\n",
       "      <td>1</td>\n",
       "    </tr>\n",
       "    <tr>\n",
       "      <th>1</th>\n",
       "      <td>nepotisme</td>\n",
       "      <td>2.111111</td>\n",
       "      <td>10</td>\n",
       "      <td>9</td>\n",
       "      <td>0.526316</td>\n",
       "      <td>1</td>\n",
       "    </tr>\n",
       "    <tr>\n",
       "      <th>2</th>\n",
       "      <td>prefectuur</td>\n",
       "      <td>3.222222</td>\n",
       "      <td>10</td>\n",
       "      <td>9</td>\n",
       "      <td>0.526316</td>\n",
       "      <td>1</td>\n",
       "    </tr>\n",
       "    <tr>\n",
       "      <th>3</th>\n",
       "      <td>prevaleren</td>\n",
       "      <td>3.444444</td>\n",
       "      <td>10</td>\n",
       "      <td>9</td>\n",
       "      <td>0.526316</td>\n",
       "      <td>1</td>\n",
       "    </tr>\n",
       "    <tr>\n",
       "      <th>4</th>\n",
       "      <td>affiliatie</td>\n",
       "      <td>3.100000</td>\n",
       "      <td>9</td>\n",
       "      <td>10</td>\n",
       "      <td>0.473684</td>\n",
       "      <td>0</td>\n",
       "    </tr>\n",
       "  </tbody>\n",
       "</table>\n",
       "</div>"
      ],
      "text/plain": [
       "           Word   Valence  N_Unknown  N_Valence  ProportionUnknown  \\\n",
       "0  concordantie  3.222222         11          9           0.550000   \n",
       "1     nepotisme  2.111111         10          9           0.526316   \n",
       "2    prefectuur  3.222222         10          9           0.526316   \n",
       "3    prevaleren  3.444444         10          9           0.526316   \n",
       "4    affiliatie  3.100000          9         10           0.473684   \n",
       "\n",
       "   RemoveUnknown  \n",
       "0              1  \n",
       "1              1  \n",
       "2              1  \n",
       "3              1  \n",
       "4              0  "
      ]
     },
     "metadata": {},
     "output_type": "display_data"
    }
   ],
   "source": [
    "# read in the pseudowords from Gatti and colleagues, as well as the valence ratings for 24,000 Dutch words from Speed and Brysbaert (2024)\n",
    "# show the first 5 lines of each dataset.\n",
    "# 1 point for identifying the correct files and correctly loading their content\n",
    "\n",
    "#Gatti Data\n",
    "gatti_data =pyreadr.read_r('/Users/larsheijnen/CL/data/data_pseudovalence.RData')\n",
    "\n",
    "for key, value in gatti_data.items():\n",
    "    print(f\"Variable name: {key}\")\n",
    "    display(value.head())\n",
    "\n",
    "#Speed and Brysbaert (2024)\n",
    "speed_and_rysbaert_all = pd.read_excel(\"/Users/larsheijnen/CL/data/All_Valence.xlsx\", sheet_name = \"All\")\n",
    "speed_and_rysbaert_means = pd.read_excel(\"/Users/larsheijnen/CL/data/All_Valence.xlsx\", sheet_name = \"Means\")\n",
    "display(speed_and_rysbaert_all.head())\n",
    "display(speed_and_rysbaert_means.head())"
   ]
  },
  {
   "cell_type": "code",
   "execution_count": 4,
   "metadata": {
    "id": "As4XV-LQPbyH"
   },
   "outputs": [
    {
     "name": "stdout",
     "output_type": "stream",
     "text": [
      "{'petticoat', 'drainage', 'ponder', 'delirium', 'indifferent', 'ammonium', 'microfilm', 'lotto', 'bureau', 'skinny', 'haven', 'rotten', 'fungus', 'ska', 'accent', 'bottleneck', 'pension', 'voyeur', 'pulsar', 'boogie', 'biceps', 'prudent', 'veranda', 'angora', 'toaster', 'hertz', 'live', 'nipper', 'pin', 'project', 'turbine', 'uniform', 'decor', 'sheet', 'impromptu', 'drama', 'fox', 'caravan', 'arrangement', 'deficit', 'grip', 'wringer', 'mono', 'wireless', 'pot', 'albino', 'basis', 'buddy', 'trapeze', 'lag', 'teen', 'harp', 'charge', 'feeder', 'hop', 'gorilla', 'module', 'sport', 'hostess', 'counseling', 'appendicitis', 'snowboard', 'intolerant', 'trivia', 'rum', 'petroleum', 'ban', 'waterproof', 'coherent', 'credit', 'loom', 'bowler', 'pantry', 'citrus', 'spleen', 'apex', 'paperback', 'collie', 'operator', 'memorabilia', 'masochist', 'flux', 'salmonella', 'irrelevant', 'sassafras', 'nitwit', 'omelet', 'baron', 'giraffe', 'pastor', 'camouflage', 'end', 'bouquet', 'ride', 'penny', 'mistletoe', 'soft', 'parka', 'indoor', 'disk', 'publicist', 'sediment', 'smarten', 'tin', 'list', 'sister', 'cup', 'import', 'ham', 'freestyle', 'hip', 'dove', 'blowjob', 'comedy', 'runner', 'kit', 'ballroom', 'anaconda', 'farce', 'meeting', 'conform', 'computer', 'timing', 'torso', 'grit', 'safari', 'display', 'liter', 'horror', 'pisser', 'chalet', 'barium', 'loser', 'beginner', 'era', 'fashionable', 'teamwork', 'petunia', 'truck', 'chic', 'recovery', 'statement', 'cinema', 'dollar', 'moot', 'batter', 'zombie', 'serenade', 'auditor', 'showroom', 'job', 'hazard', 'nimrod', 'wind', 'apache', 'palm', 'nonchalant', 'turquoise', 'opponent', 'bootleg', 'blouse', 'trend', 'smart', 'patience', 'salon', 'healing', 'hepatitis', 'snob', 'deuce', 'sweater', 'stock', 'radiator', 'ounce', 'chopper', 'hooligan', 'duplex', 'blink', 'intact', 'magazine', 'lamp', 'clown', 'essay', 'label', 'memo', 'memorandum', 'vigilant', 'gal', 'riff', 'horde', 'bowl', 'melodrama', 'coating', 'adder', 'elixir', 'stewardess', 'ballast', 'canvas', 'lira', 'cuisine', 'fiancee', 'fluorescent', 'sneaker', 'download', 'depot', 'pose', 'gymnasium', 'veto', 'satire', 'occult', 'cannabis', 'ketchup', 'silicone', 'patio', 'buffer', 'forceps', 'belligerent', 'ripper', 'queue', 'informant', 'sinus', 'fruit', 'ring', 'den', 'recorder', 'blizzard', 'run', 'landing', 'cockpit', 'clan', 'diploma', 'dispenser', 'drugs', 'playboy', 'champagne', 'vagina', 'radius', 'frequent', 'idealist', 'reservoir', 'cowboy', 'succubus', 'trip', 'relax', 'frame', 'gin', 'leg', 'boost', 'league', 'scan', 'student', 'invite', 'switch', 'transistor', 'boots', 'multiple', 'boiler', 'ladylike', 'bourbon', 'tab', 'alumnus', 'karate', 'cool', 'battle', 'dopamine', 'sonnet', 'fancy', 'privacy', 'beatnik', 'arm', 'hard', 'sightseeing', 'avenue', 'punk', 'audit', 'winch', 'pep', 'pi', 'pull', 'visa', 'volume', 'sabotage', 'falafel', 'clean', 'tablet', 'container', 'jumbo', 'paradox', 'unplugged', 'concept', 'flamboyant', 'important', 'amusement', 'supplement', 'gerbil', 'ski', 'vat', 'reef', 'crack', 'amulet', 'bank', 'gondola', 'bad', 'holster', 'pink', 'hockey', 'libel', 'interviewer', 'eyeliner', 'dank', 'slab', 'troop', 'spotter', 'raid', 'vermouth', 'sandwich', 'prompt', 'cordon', 'valve', 'lessen', 'mom', 'brunch', 'funky', 'scalpel', 'folk', 'prelude', 'camp', 'loot', 'show', 'parachute', 'rag', 'competent', 'fiction', 'template', 'sinister', 'playback', 'cabernet', 'transfer', 'chimp', 'feces', 'correct', 'cracker', 'symposium', 'receiver', 'area', 'nest', 'mobile', 'notebook', 'mescaline', 'scout', 'tv', 'neutron', 'tequila', 'slogan', 'tap', 'vet', 'artwork', 'prairie', 'godfather', 'hole', 'spelling', 'charlatan', 'striptease', 'mach', 'release', 'goulash', 'cooker', 'pack', 'scooter', 'gospel', 'pal', 'song', 'ranking', 'retina', 'security', 'roadblock', 'cappuccino', 'compost', 'strike', 'blues', 'tampon', 'revival', 'hen', 'column', 'suspect', 'pager', 'protestant', 'scalp', 'rite', 'drifter', 'hobo', 'rake', 'diligence', 'van', 'magenta', 'unfair', 'host', 'indirect', 'flat', 'basement', 'factor', 'kamikaze', 'program', 'bedpan', 'amber', 'park', 'calculus', 'minibus', 'city', 'helix', 'thermometer', 'significant', 'tabasco', 'flap', 'recruiter', 'relaxed', 'rut', 'surplus', 'shorts', 'happen', 'propaganda', 'pentagram', 'dog', 'turf', 'name', 'beige', 'mode', 'serpent', 'icing', 'lapel', 'canyon', 'paper', 'parking', 'otter', 'glitter', 'semester', 'route', 'guano', 'pop', 'mousse', 'timer', 'deejay', 'put', 'anagram', 'pandemonium', 'form', 'rancher', 'eucalyptus', 'mustang', 'blaster', 'prospectus', 'episode', 'rouge', 'tuba', 'gymnast', 'sergeant', 'toner', 'bumper', 'origami', 'mantra', 'mango', 'trainer', 'captain', 'bacon', 'comfort', 'drink', 'shag', 'jumpsuit', 'florist', 'tetanus', 'karma', 'start', 'radium', 'descendant', 'carpool', 'junior', 'rot', 'musical', 'stinker', 'tube', 'halftime', 'genie', 'communist', 'harden', 'steward', 'hut', 'tune', 'restaurant', 'monsieur', 'nasty', 'track', 'sub', 'flan', 'verdict', 'part', 'trash', 'stoop', 'futon', 'hater', 'piano', 'alert', 'prospect', 'cake', 'budget', 'projector', 'workshop', 'safe', 'talent', 'genocide', 'bio', 'bunker', 'board', 'ion', 'office', 'peptide', 'premium', 'larynx', 'dam', 'globe', 'zoom', 'testament', 'body', 'titan', 'arrogant', 'turbo', 'incentive', 'training', 'journalist', 'pesto', 'element', 'status', 'joint', 'exact', 'amaretto', 'detail', 'brunette', 'duet', 'wet', 'engineering', 'uppercut', 'percent', 'oregano', 'house', 'microchip', 'deodorant', 'fairway', 'barricade', 'sheriff', 'penthouse', 'remake', 'lotus', 'annex', 'swami', 'swastika', 'spam', 'spirit', 'defibrillator', 'fjord', 'bartender', 'decent', 'primer', 'repel', 'node', 'rap', 'school', 'quote', 'neon', 'pessimist', 'scope', 'ladder', 'gate', 'nicotine', 'spectrum', 'pump', 'pacifist', 'rodeo', 'amateur', 'veer', 'folder', 'chloroform', 'shovel', 'back', 'franc', 'blender', 'cruise', 'must', 'shocking', 'consul', 'deck', 'counselor', 'bitch', 'campus', 'respect', 'crawl', 'empire', 'intellect', 'homo', 'tribal', 'stutter', 'logo', 'lint', 'defect', 'quintet', 'film', 'punt', 'export', 'maximum', 'date', 'poll', 'server', 'elevator', 'lego', 'desk', 'commerce', 'hologram', 'downer', 'bed', 'spiritual', 'warrant', 'peel', 'matinee', 'floppy', 'sedan', 'tremor', 'tribune', 'decorum', 'sadist', 'maker', 'conference', 'store', 'jihad', 'totem', 'fusion', 'smog', 'tent', 'scorer', 'chateau', 'euro', 'bulldozer', 'babysitter', 'handicap', 'dupe', 'script', 'slop', 'sidecar', 'driver', 'detective', 'corduroy', 'stage', 'solo', 'armada', 'gentleman', 'humor', 'instrument', 'convertible', 'port', 'prima', 'trucker', 'commodity', 'insect', 'participant', 'duster', 'lasso', 'telegram', 'perfectionist', 'grill', 'laryngitis', 'freak', 'square', 'crank', 'baseball', 'producer', 'button', 'brief', 'jumper', 'bus', 'boring', 'taco', 'sequel', 'push', 'rooms', 'audio', 'mist', 'tip', 'quiz', 'processor', 'habitat', 'carbon', 'cascade', 'close', 'sleep', 'polyester', 'bromide', 'jubilee', 'interim', 'state', 'dinghy', 'designer', 'buzzer', 'correspondent', 'molecule', 'tier', 'predator', 'masseur', 'butler', 'performance', 'receptor', 'drop', 'biscuit', 'permanent', 'metallic', 'napalm', 'gamma', 'curriculum', 'lobbyist', 'sultan', 'hype', 'propeller', 'agent', 'reek', 'fitness', 'pang', 'plateau', 'slip', 'trolley', 'groupie', 'bulletin', 'piston', 'attitude', 'hit', 'multiplex', 'kiwi', 'sketch', 'hovercraft', 'piranha', 'organist', 'tree', 'pizza', 'lacrosse', 'gossip', 'span', 'target', 'large', 'milligram', 'fine', 'gladiator', 'sumo', 'reflex', 'solarium', 'lid', 'tape', 'token', 'insecticide', 'continent', 'extract', 'classic', 'celebrity', 'feature', 'duo', 'circus', 'spotlight', 'prior', 'genre', 'reel', 'preview', 'planter', 'stool', 'bungalow', 'tanker', 'corner', 'diagram', 'soundtrack', 'lust', 'filter', 'cortex', 'nectar', 'norm', 'fade', 'redundant', 'nurse', 'net', 'top', 'kind', 'dentist', 'chemo', 'bidder', 'finesse', 'skater', 'ascendant', 'split', 'dessert', 'tweed', 'swing', 'sax', 'soiree', 'denim', 'partner', 'senior', 'trail', 'sardine', 'crime', 'lunchbox', 'ad', 'box', 'transcendent', 'check', 'goalie', 'optimist', 'offer', 'columnist', 'husky', 'portable', 'pertinent', 'document', 'kidnapper', 'procedure', 'overlap', 'diner', 'sitcom', 'rebel', 'yoga', 'video', 'absurd', 'omega', 'whiplash', 'tweet', 'impact', 'club', 'discipline', 'segment', 'starter', 'filmmaker', 'antichrist', 'barracuda', 'vinyl', 'pancake', 'socialist', 'cortisone', 'fauna', 'crayon', 'regime', 'discreet', 'toot', 'dealer', 'gut', 'poet', 'gym', 'barbecue', 'sprint', 'mild', 'incident', 'prime', 'trustee', 'email', 'cruiser', 'circuit', 'porno', 'mozzarella', 'marathon', 'mime', 'tank', 'tenant', 'flash', 'macaroni', 'horizon', 'matrix', 'beryllium', 'aquarium', 'dummy', 'nanny', 'wig', 'robot', 'bazooka', 'marine', 'underdog', 'flop', 'bikini', 'bodega', 'hope', 'quilt', 'sashimi', 'match', 'puck', 'serve', 'manuscript', 'accident', 'placebo', 'simulator', 'kennel', 'locker', 'psyche', 'jet', 'cookie', 'slap', 'wild', 'adrenaline', 'keel', 'hand', 'gallon', 'mantel', 'pool', 'shock', 'plaque', 'cobra', 'multimedia', 'week', 'beat', 'miss', 'adolescent', 'pup', 'sweatshirt', 'print', 'trap', 'humbug', 'pad', 'lava', 'slobber', 'ratio', 'varsity', 'sample', 'roulette', 'angel', 'millimeter', 'blanket', 'inch', 'hem', 'platform', 'vibrator', 'barometer', 'century', 'immigrant', 'stout', 'ping', 'upgrade', 'tractor', 'judo', 'volley', 'architect', 'duel', 'traverse', 'meringue', 'gothic', 'venture', 'typist', 'par', 'ibuprofen', 'ginseng', 'curve', 'plug', 'rating', 'groggy', 'wand', 'sentiment', 'cassette', 'patron', 'wok', 'band', 'bogey', 'occasion', 'regiment', 'salami', 'response', 'bimbo', 'fiber', 'influenza', 'allure', 'shot', 'spar', 'surf', 'barrel', 'file', 'dioxide', 'console', 'placement', 'herpes', 'bladder', 'cretin', 'hippie', 'inferno', 'utility', 'composer', 'navel', 'baton', 'vast', 'dart', 'fit', 'cement', 'chaperon', 'wit', 'loon', 'understatement', 'ambulance', 'grapefruit', 'web', 'camping', 'complement', 'enter', 'pretext', 'excrement', 'border', 'diffuse', 'keeper', 'upper', 'pro', 'plutonium', 'scoop', 'pest', 'novice', 'vintage', 'sprinkler', 'advocate', 'instant', 'abundant', 'expo', 'mores', 'strapless', 'silo', 'millennium', 'sonar', 'funk', 'pasta', 'stomp', 'kumquat', 'tot', 'hinder', 'lord', 'triage', 'mannequin', 'cholesterol', 'diesel', 'macho', 'fascist', 'profane', 'celluloid', 'cardigan', 'reggae', 'stereotype', 'outlook', 'resort', 'farm', 'input', 'catcher', 'guacamole', 'pacemaker', 'crew', 'time', 'account', 'shampoo', 'repertoire', 'bonus', 'geisha', 'shift', 'caramel', 'filet', 'escort', 'nautilus', 'golfer', 'game', 'attest', 'plan', 'coupe', 'firmament', 'blackjack', 'roe', 'doom', 'engagement', 'heavy', 'yard', 'dame', 'hotel', 'speaker', 'punch', 'ninja', 'kink', 'talk', 'glamour', 'allegro', 'indecent', 'tourniquet', 'imperialist', 'halt', 'leader', 'rumba', 'freelancer', 'alfalfa', 'wrong', 'vamp', 'tact', 'velvet', 'alcohol', 'incoherent', 'radio', 'zone', 'wildebeest', 'dragon', 'jingle', 'bingo', 'society', 'condor', 'whirlpool', 'expertise', 'skin', 'bulk', 'hint', 'pianist', 'tycoon', 'imprint', 'drinker', 'heat', 'racist', 'exorcist', 'big', 'sober', 'talisman', 'compliment', 'fielder', 'jockey', 'optimum', 'draw', 'drug', 'bleu', 'bard', 'limousine', 'patriot', 'gust', 'pallet', 'hetero', 'term', 'debutante', 'abracadabra', 'wolf', 'argument', 'rail', 'paranoia', 'confetti', 'auditorium', 'kilometer', 'business', 'ravioli', 'zoo', 'opening', 'post', 'nuance', 'squash', 'ragtime', 'compressor', 'kilt', 'overkill', 'slump', 'sweetie', 'slurp', 'harmonica', 'sticker', 'scrotum', 'tango', 'trial', 'catamaran', 'memento', 'interview', 'beer', 'latitude', 'racket', 'fanfare', 'donkey', 'warlord', 'sleet', 'machete', 'cherub', 'headline', 'prestige', 'hub', 'broom', 'appendage', 'alter', 'mahjong', 'slash', 'inning', 'output', 'ranch', 'pointer', 'tang', 'boa', 'jungle', 'range', 'cameraman', 'buffet', 'screening', 'view', 'blog', 'dossier', 'paintball', 'avocado', 'loft', 'ignorant', 'bonnet', 'bracelet', 'penitent', 'conditioner', 'pregnant', 'college', 'county', 'tool', 'enamel', 'jury', 'libido', 'gram', 'diocese', 'briefing', 'potent', 'loafer', 'community', 'shawl', 'gander', 'anarchist', 'zit', 'shotgun', 'dot', 'routine', 'commodore', 'land', 'podium', 'trance', 'country', 'boy', 'rugby', 'stadium', 'polio', 'delta', 'type', 'guillotine', 'trauma', 'margarine', 'eloquent', 'click', 'violet', 'auto', 'software', 'spray', 'grizzly', 'transit', 'mega', 'bondage', 'god', 'enigma', 'loop', 'embargo', 'break', 'protest', 'bandage', 'dynamo', 'chick', 'tsunami', 'shuttle', 'mauve', 'peanuts', 'vale', 'plankton', 'plaid', 'entrepreneur', 'chutney', 'perm', 'fragment', 'closet', 'prove', 'transcript', 'quiche', 'master', 'tornado', 'hickory', 'oxide', 'wave', 'reporter', 'elegant', 'review', 'research', 'report', 'echo', 'center', 'sofa', 'penis', 'trimester', 'forum', 'keg', 'shaker', 'malaria', 'popcorn', 'gazelle', 'vacant', 'lease', 'elite', 'consent', 'wake', 'pizzeria', 'desperado', 'magnesium', 'heel', 'continue', 'step', 'emerald', 'walrus', 'gateway', 'latent', 'cognac', 'shilling', 'pedigree', 'caddie', 'okra', 'camper', 'mailbox', 'reform', 'query', 'karaoke', 'addict', 'coat', 'slang', 'buggy', 'bypass', 'urine', 'stamp', 'escape', 'jammer', 'serum', 'voicemail', 'fiasco', 'set', 'erotica', 'clairvoyant', 'proton', 'item', 'astronaut', 'remover', 'record', 'medium', 'hyper', 'rib', 'hypothalamus', 'western', 'iris', 'brood', 'toga', 'proper', 'conflict', 'pardon', 'knot', 'censor', 'turban', 'anklet', 'supermodel', 'website', 'macro', 'activist', 'bode', 'provider', 'cocktail', 'atrium', 'lover', 'nudist', 'hall', 'salsa', 'sale', 'specimen', 'detriment', 'level', 'coaster', 'stalker', 'blow', 'syllabus', 'wagon', 'modern', 'tram', 'pester', 'bonbon', 'saloon', 'performer', 'chili', 'pantheon', 'conga', 'soda', 'diva', 'mutant', 'sacrament', 'sip', 'cameo', 'banjo', 'flipper', 'manager', 'machine', 'cartridge', 'skeet', 'vest', 'tarantula', 'mare', 'recycling', 'cider', 'turbulent', 'marketing', 'score', 'ruling', 'special', 'capsule', 'pap', 'pulp', 'chauffeur', 'flashy', 'panty', 'fantasy', 'golf', 'migraine', 'stag', 'merengue', 'military', 'yell', 'speed', 'west', 'door', 'bluegrass', 'lyrics', 'spin', 'skyline', 'exodus', 'fellow', 'trust', 'sorry', 'concert', 'sabbatical', 'patent', 'snapshot', 'persistent', 'commercial', 'cabaret', 'gold', 'toffee', 'gift', 'hamburger', 'bit', 'revolver', 'suave', 'decadent', 'aorta', 'solvent', 'beef', 'choke', 'camera', 'peer', 'snot', 'string', 'lingerie', 'flyer', 'brandy', 'slum', 'extravagant', 'ensemble', 'stimulus', 'binding', 'man', 'backgammon', 'different', 'dominant', 'monument', 'dictator', 'curling', 'opener', 'collector', 'zebra', 'model', 'meltdown', 'topic', 'pond', 'ode', 'professor', 'marker', 'blank', 'scrimmage', 'inconsistent', 'laptop', 'garage', 'open', 'python', 'groovy', 'lithium', 'kinky', 'content', 'building', 'muffin', 'deed', 'trapper', 'hacker', 'clitoris', 'raven', 'manifest', 'high', 'stereo', 'stress', 'acre', 'maestro', 'pedicure', 'bout', 'minivan', 'oasis', 'reader', 'tempo', 'accountant', 'fundraising', 'thesis', 'mailing', 'map', 'chloride', 'speech', 'register', 'president', 'techno', 'bug', 'spectator', 'martini', 'link', 'flashback', 'risotto', 'hobby', 'birdie', 'scrub', 'absence', 'stop', 'workaholic', 'mainstream', 'bestseller', 'mentor', 'ultraviolet', 'prefect', 'management', 'plating', 'mezzanine', 'pair', 'bookmaker', 'parade', 'format', 'pomp', 'suite', 'graft', 'molest', 'poncho', 'incubator', 'drive', 'supervisor', 'snip', 'parasol', 'water', 'drain', 'planetarium', 'tennis', 'cakewalk', 'service', 'crisis', 'basket', 'carrier', 'spinner', 'privilege', 'contingent', 'rat', 'abstract', 'feedback', 'toe', 'tramp', 'incompetent', 'pass', 'surfer', 'cactus', 'pus', 'imperfect', 'espresso', 'case', 'orthodox', 'straddle', 'impertinent', 'asparagus', 'slag', 'diagnose', 'blunder', 'plot', 'angst', 'infant', 'icon', 'ballet', 'charade', 'limit', 'gaping', 'dildo', 'dingo', 'waterbed', 'eminent', 'titanium', 'latrine', 'roller', 'decoder', 'imminent', 'sullen', 'corsage', 'lactose', 'log', 'poster', 'prefix', 'demon', 'twister', 'killer', 'unit', 'ramp', 'bun', 'bang', 'charisma', 'pint', 'lunch', 'rage', 'consensus', 'milkshake', 'adept', 'ergo', 'echelon', 'species', 'cornflakes', 'warm', 'pocket', 'superior', 'crazy', 'single', 'lens', 'embryo', 'hyena', 'rush', 'sage', 'combine', 'essence', 'splinter', 'sponsor', 'octopus', 'excellent', 'lift', 'elk', 'lycra', 'arena', 'samba', 'quasi', 'recital', 'moor', 'paprika', 'sensor', 'etiquette', 'casino', 'burrito', 'cadet', 'clique', 'crescendo', 'wonder', 'chance', 'rebound', 'plank', 'rooster', 'cartoon', 'flagrant', 'acid', 'test', 'catchy', 'boom', 'booster', 'finale', 'suspense', 'diligent', 'boot', 'printer', 'limbo', 'equalizer', 'smack', 'instinct', 'polo', 'shit', 'actor', 'seminar', 'jukebox', 'flow', 'cellist', 'goal', 'modest', 'christen', 'bistro', 'womanizer', 'undercover', 'abandon', 'entertainer', 'scotch', 'effect', 'shimmy', 'soften', 'slipper', 'dialect', 'affect', 'steak', 'subject', 'curator', 'intercom', 'cervix', 'glucose', 'cent', 'prop', 'prune', 'impotent', 'detector', 'stripper', 'mainframe', 'badge', 'rein', 'mall', 'equivalent', 'pylon', 'winner', 'torment', 'flair', 'chauvinist', 'roadie', 'nap', 'stopper', 'fun', 'do', 'geek', 'fan', 'smiley', 'ventriloquist', 'gang', 'tarot', 'conductor', 'mud', 'asterisk', 'supporter', 'museum', 'baggy', 'shunt', 'massage', 'damper', 'chef', 'rink', 'coverage', 'flirt', 'parallel', 'drum', 'chat', 'absent', 'shabby', 'super', 'stand', 'gay', 'hydrant', 'equator', 'calcium', 'strip', 'support', 'op', 'kappa', 'babysit', 'ecstasy', 'detonator', 'convent', 'grieve', 'piccolo', 'brigade', 'dunk', 'skunk', 'storm', 'flip', 'resource', 'saboteur', 'contract', 'cello', 'jam', 'keyboard', 'pact', 'angina', 'cottage', 'souvenir', 'survival', 'niche', 'crucifix', 'deal', 'menu', 'coach', 'halo', 'promo', 'tunnel', 'glad', 'gravel', 'steps', 'pamper', 'glimmer', 'nanometer', 'hardcore', 'citadel', 'gadget', 'fee', 'wad', 'douche', 'taxi', 'menthol', 'rally', 'cyberspace', 'sec', 'plastic', 'jeep', 'consult', 'liaison', 'bitter', 'appendix', 'percentage', 'font', 'stigma', 'junkie', 'camcorder', 'cleaner', 'deviant', 'tackle', 'pit', 'object', 'modem', 'generator', 'cheeseburger', 'spa', 'honk', 'scrabble', 'grim', 'observant', 'prominent', 'ego', 'gel', 'speedway', 'delinquent', 'pupil', 'robber', 'motel', 'bam', 'coup', 'viewer', 'snapper', 'coax', 'default', 'enchilada', 'coyote', 'uranium', 'tiara', 'violent', 'intro', 'cap', 'momentum', 'flex', 'contact', 'tender', 'checklist', 'commandant', 'smooth', 'incorrect', 'pub', 'royalty', 'pancreas', 'mediocre', 'quad', 'bebop', 'butterfly', 'weekend', 'trombone', 'copyright', 'surprise', 'breed', 'replay', 'winter', 'fuchsia', 'binder', 'bullshit', 'spit', 'present', 'chipper', 'gender', 'headset', 'stern', 'letter', 'pauper', 'tarmac', 'kimono', 'database', 'selenium', 'cowgirl', 'concubine', 'rocker', 'rock', 'scenario', 'bunny', 'sushi', 'thermos', 'abdomen', 'cult', 'jeans', 'videotape', 'jogger', 'nucleus', 'babe', 'coupon', 'junk', 'rectum', 'major', 'perfect', 'info', 'scrambler', 'hamster', 'discount', 'patch', 'happy', 'theater', 'tomahawk', 'deadline', 'product', 'blonde', 'squadron', 'bedding', 'bib', 'perk', 'ram', 'regatta', 'cupcake', 'ambrosia', 'kick', 'orthodontist', 'perimeter', 'anus', 'counter', 'interval', 'countdown', 'bridge', 'fondue', 'rotor', 'mum', 'experiment', 'tricky', 'select', 'foxtrot', 'replica', 'spot', 'duffel', 'lap', 'aspect', 'vendetta', 'cache', 'hot', 'regulator', 'radiant', 'firewall', 'mug', 'spike', 'minister', 'look', 'jackpot', 'scepter', 'clinch', 'stopwatch', 'sexy', 'chiffon', 'kitten', 'rubber', 'styling', 'sap', 'mast', 'ready', 'apparent', 'direct', 'broccoli', 'bar', 'cheerleader', 'cola', 'mama', 'mix', 'interface', 'tag', 'saline', 'peroxide', 'mixer', 'pusher', 'culture', 'lager', 'bark', 'sherry', 'fake', 'navigator', 'plasma', 'weed', 'atlas', 'go', 'laser', 'feeling', 'hardware', 'assessment', 'player', 'villa', 'chassis', 'folklore', 'blockbuster', 'linoleum', 'interest', 'snap', 'evident', 'future', 'hangar', 'mate', 'spook', 'pen', 'chip', 'joke', 'shopper', 'corridor', 'trachea', 'ark', 'monitor', 'blazer', 'diabetes', 'concerto', 'omen', 'vector', 'excelsior', 'raider', 'harem', 'indiscreet', 'blind', 'abject', 'sound', 'alarm', 'arrest', 'ballpoint', 'belt', 'terminal', 'aftershave', 'image', 'halter', 'crash', 'outfit', 'impediment', 'hostel', 'anti', 'metropolis', 'moustache', 'boon', 'hare', 'chinchilla', 'district', 'design', 'intelligent', 'jazz', 'outdoor', 'hospice', 'massacre', 'lab', 'saga', 'racer', 'kilo', 'indicator', 'bat', 'stuff', 'kidnapping', 'radar', 'jamboree', 'ether', 'headliner', 'passage', 'strand', 'nerd', 'temperament', 'dump', 'alias', 'slice', 'joker', 'cyanide', 'healer', 'insolent', 'rapport', 'supernova', 'ferry', 'playa', 'indulgent', 'mixture', 'cholera', 'organizer', 'tour', 'gulp', 'drab', 'compact', 'update', 'context', 'amuse', 'graffiti', 'zest', 'wedding', 'freelance', 'penalty', 'basketball', 'poltergeist', 'hotline', 'dandy', 'grief', 'flamingo', 'rust', 'microwave', 'mail', 'tabloid', 'tenor', 'stunt', 'begin', 'forte', 'hymen', 'cargo', 'damp', 'malt', 'dip', 'croissant', 'donor', 'thriller', 'sidekick', 'constant', 'coke', 'tapioca', 'skateboard', 'opium', 'toast', 'placenta', 'studio', 'bias', 'gelding', 'acquit', 'ruin', 'lotion', 'motto', 'trio', 'nylon', 'medley', 'construct', 'star', 'checkpoint', 'slim', 'contrast', 'mess', 'fat', 'ventilator', 'snowboarder', 'overall', 'offshore', 'swap', 'clipper', 'wed', 'spread', 'stylist', 'schnitzel', 'dizzy', 'mat', 'lady', 'grandeur', 'vaccine', 'helium', 'jade', 'race', 'device', 'ultimatum', 'base', 'tic', 'listing', 'tissue', 'algebra', 'prototype', 'chronic', 'premier', 'gigolo', 'home', 'act', 'affidavit', 'puppy', 'gaga', 'gap', 'centerfold', 'sneer', 'corrupt', 'commando', 'bonsai', 'agenda', 'golden', 'chaos', 'magnolia', 'coma', 'picture', 'specialist', 'rank', 'mini', 'dodo', 'psalm', 'bazaar', 'cue', 'team', 'franchise', 'fax', 'bowling', 'catwalk', 'opera', 'entourage', 'offset', 'tumor', 'rob', 'slot', 'festival', 'superstar', 'papa', 'guerrilla', 'spinster', 'reserve', 'exit', 'jacket', 'vent', 'entertainment', 'poker', 'consistent', 'polka', 'billboard', 'masseuse', 'internet', 'synthesizer', 'blunt', 'shell', 'twist', 'pitcher', 'component', 'bigot', 'urn', 'latex', 'referee', 'monarch', 'hulk', 'torpedo', 'virus', 'manicure', 'mop', 'tolerant', 'pita', 'sector', 'soap', 'mascara', 'burger', 'site', 'pier', 'feminist', 'shutter', 'moment', 'recent', 'drift', 'inherent', 'have', 'abrupt', 'shelter', 'jaguar', 'acne', 'dilemma', 'squaw', 'scone', 'romance', 'minor', 'domino', 'cranberry', 'extra', 'mink', 'want', 'casual', 'altimeter', 'tofu', 'hoe', 'micro', 'intern', 'pan', 'commune', 'directory', 'assist', 'lever', 'relevant', 'glee', 'voltage', 'debacle', 'postman', 'innocent', 'cricket', 'hairspray', 'talon', 'alibi', 'shop', 'panel', 'putt', 'camel', 'grind', 'retro', 'official', 'entree', 'snorkel', 'kelp', 'bullet', 'pope', 'jargon', 'finish', 'quota', 'rapper', 'insult', 'transport', 'chorus', 'yuppie', 'spaghetti', 'pendant', 'biker', 'sauna', 'succulent', 'bopper', 'airstrip', 'hoop', 'cutter', 'gasoline', 'affront', 'password', 'roof', 'courage', 'roman', 'outlaw', 'teenager', 'wee', 'brat', 'chant', 'yank', 'gimmick', 'claim', 'expert', 'finalist', 'return', 'valium', 'ace', 'kebab', 'dominion', 'insider', 'cover', 'stuntman', 'montage', 'intake', 'cross', 'lobby', 'senator', 'disco', 'mausoleum', 'ticket', 'tonic', 'station', 'decade', 'outsider', 'gas', 'shanty', 'matter', 'blubber', 'incest', 'cast', 'yen', 'snack', 'foyer', 'page', 'climax', 'rug', 'voodoo', 'psoriasis', 'backbone', 'root', 'helper', 'teller', 'keep', 'robe', 'scampi', 'barman', 'umpire', 'backhand', 'fly', 'hang', 'monster', 'practical', 'pudding', 'superman', 'power', 'brand', 'gringo', 'elf', 'loco', 'oven', 'trampoline', 'refuge', 'ton', 'batch', 'fond', 'diameter', 'rook', 'cavalier', 'kin', 'uterus', 'curry', 'ballerina', 'darkroom', 'smash', 'tipsy', 'accept', 'meningitis', 'random', 'pollen', 'arcade', 'detergent', 'collage', 'issue', 'pigskin', 'short', 'frisbee', 'ballad', 'underground', 'vigilante', 'gag', 'outcast', 'pretzel', 'rest', 'die', 'aroma', 'room', 'fleece', 'gum', 'flank', 'soul', 'professional', 'pastrami', 'array', 'planner', 'stretch', 'shirt', 'hanger', 'sake', 'doctor', 'profiler', 'voucher', 'matador', 'brink', 'efficiency', 'air', 'charter', 'spring', 'fair', 'farmer', 'tutu', 'alligator', 'promotion', 'trainee', 'comeback', 'lip', 'oversized', 'lounge', 'background', 'custard', 'jazzy', 'plop', 'train', 'jive', 'worm', 'realist', 'rumble', 'taupe', 'stretcher', 'precedent', 'editor', 'canon', 'koala', 'hernia', 'ten', 'meter', 'brochure', 'gig', 'monopoly', 'romp', 'sanatorium', 'urgent', 'dashboard', 'combo', 'clinic', 'rabbi', 'ex', 'demo', 'minimum', 'keen', 'nut', 'topless', 'decimeter', 'motor', 'contest', 'welfare', 'zigzag', 'musket', 'haiku', 'ornament', 'egghead', 'pet', 'move', 'blond', 'gist', 'appetizer', 'hummer', 'proxy', 'goodwill', 'gourmet', 'bachelor', 'green', 'protocol', 'scene', 'ammonia', 'employee', 'shrapnel', 'beauty', 'exposure', 'code', 'baseline', 'dope', 'aids', 'commentator', 'portal', 'baby', 'lipstick', 'boxer', 'peyote', 'cash', 'lifestyle', 'portfolio', 'steel', 'doctrine', 'pee', 'gangster', 'limo', 'hark', 'madam', 'cluster', 'aerobics', 'alpine', 'clip', 'militant', 'party', 'schilling', 'stem', 'drummer', 'barrage', 'taps', 'genius', 'fret', 'receptionist', 'scanner', 'stick', 'complex', 'kiosk', 'surveillance', 'corps', 'sigma', 'reactor', 'croquet', 'broker', 'toilet', 'glossy', 'focus', 'census', 'trendy', 'airbag', 'pony', 'album', 'reminder', 'ravage', 'putter', 'plant', 'order', 'bodyguard', 'concern', 'bagel', 'aura', 'hotdog', 'crypt', 'revue', 'kook', 'faun', 'promenade', 'meet', 'chiropractor', 'consultant', 'panda', 'toss', 'spade', 'adult', 'protector', 'bondsman', 'magnitude', 'calculator', 'gala', 'terrorist', 'veil', 'reverence', 'potpourri', 'trailer', 'ligament'}\n"
     ]
    }
   ],
   "source": [
    "# filter out pseudowords that happen to be valid Dutch words (mind case folding!)\n",
    "# show the set of pseudowords filtered out.\n",
    "# 1 point for applying the correct filtering\n",
    "\n",
    "# Read the valid Dutch words file with tab separator\n",
    "valid_dutch_words = pd.read_csv('/Users/larsheijnen/CL/data/prevalence_netherlands.csv', sep='\\t')\n",
    "\n",
    "\n",
    "# Ensure all words are lowercase for case-insensitive comparison\n",
    "valid_dutch_words_set = set(valid_dutch_words['word'].str.lower())\n",
    "# print(list(valid_dutch_words_set)[:5]) #['middenklasse', 'vraat', 'opduvel', 'pleiter', 'bosgeest']\n",
    "\n",
    "\n",
    "# Get pseudowords from Gatti et al (using 'comb_3' as example, adjust if needed)\n",
    "pseudowords = gatti_data['Count']['Word'].str.lower()\n",
    "\n",
    "# Filter out pseudowords that are valid Dutch words\n",
    "filtered_out = set(pseudowords).intersection(valid_dutch_words_set)\n",
    "\n",
    "# Show the set of pseudowords filtered out\n",
    "print(filtered_out)\n",
    "\n"
   ]
  },
  {
   "cell_type": "code",
   "execution_count": 5,
   "metadata": {
    "id": "zvza9pb6MFgC"
   },
   "outputs": [
    {
     "name": "stdout",
     "output_type": "stream",
     "text": [
      "Unigram encoding for ampgrair': [2, 0, 0, 0, 0, 0, 1, 0, 1, 0, 0, 0, 1, 0, 0, 1, 0, 2, 0, 0, 0, 0, 0, 0, 0, 0, 0, 0, 0, 0, 0, 0, 0, 0]\n",
      "Bigram encoding for 'ampgrair': [0, 0, 0, 0, 0, 0, 0, 0, 1, 0, 0, 0, 1, 0, 0, 0, 0, 0, 0, 0, 0, 0, 0, 0, 0, 0, 0, 0, 0, 0, 0, 0, 0, 0, 0, 0, 0, 0, 0, 0, 0, 0, 0, 0, 0, 0, 0, 0, 0, 0, 0, 0, 0, 0, 0, 0, 0, 0, 0, 0, 0, 0, 0, 0, 0, 0, 0, 0, 0, 0, 0, 0, 0, 0, 0, 0, 0, 0, 0, 0, 0, 0, 0, 0, 0, 0, 0, 0, 0, 0, 0, 0, 0, 0, 0, 0, 0, 0, 0, 0, 0, 0, 0, 0, 0, 0, 0, 0, 0, 0, 0, 0, 0, 0, 0, 0, 0, 0, 0, 0, 0, 0, 0, 0, 0, 0, 0, 0, 0, 0, 0, 0, 0, 0, 0, 0, 0, 0, 0, 0, 0, 0, 0, 0, 0, 0, 0, 0, 0, 0, 0, 0, 0, 0, 0, 0, 0, 0, 1, 0, 0, 0, 0, 0, 0, 0, 0, 0, 0, 0, 0, 0, 0, 0, 0, 0, 0, 0, 0, 0, 0, 0, 0, 0, 0, 0, 0, 0, 0, 0, 0, 0, 0, 0, 0, 0, 0, 0, 0, 0, 0, 0, 0, 0, 0, 0, 0, 1, 0, 0, 0, 0, 0, 0, 0, 0, 0, 0, 0, 0, 0, 0, 0, 0, 0, 0, 0, 0, 0, 0, 0, 0, 0, 0, 0, 0, 0, 0, 0, 0, 0, 0, 0, 0, 0, 0, 0, 0, 0, 0, 0, 0, 0, 0, 0, 0, 0, 0, 0, 0, 0, 0, 0, 0, 0, 0, 0, 0, 0, 0, 0, 0, 0, 0, 0, 0, 0, 0, 0, 0, 0, 0, 0, 0, 0, 0, 0, 0, 0, 0, 0, 0, 0, 0, 0, 0, 0, 0, 0, 0, 0, 0, 0, 1, 0, 0, 0, 0, 0, 0, 0, 0, 0, 0, 0, 0, 0, 0, 0, 0, 0, 0, 0, 0, 0, 0, 0, 0, 0, 0, 0, 0, 0, 0, 0, 0, 0, 0, 0, 0, 0, 0, 0, 0, 0, 0, 0, 0, 0, 0, 0, 0, 0, 0, 0, 0, 0, 0, 0, 0, 0, 0, 0, 0, 0, 0, 0, 0, 0, 0, 0, 0, 0, 0, 1, 0, 0, 0, 0, 0, 0, 0, 0, 0, 0, 0, 0, 0, 0, 0, 0, 0, 0, 0, 1, 0, 0, 0, 0, 0, 0, 0, 0, 0, 0, 0, 0, 0, 0, 0, 0, 0, 0, 0, 0, 0, 0, 0, 0, 0, 0, 0, 0, 0, 0, 0, 0, 0, 0, 0, 0, 0, 0, 0, 0, 0, 0, 0, 0, 0, 0, 0, 0, 0, 0, 0, 0, 0, 0, 0, 0, 0, 0, 0, 0, 0, 0, 0, 0, 0, 0, 0, 0, 0, 0, 0, 0, 0, 0, 0, 0, 0, 0, 0, 0, 0, 0, 0, 0, 0, 0, 0, 0, 0, 0, 0, 0, 0, 0, 0, 0, 0, 0, 0, 0, 0, 0, 0, 0, 0, 0, 0, 0, 0, 0, 0, 0, 0, 0, 0, 0, 0, 0, 0, 0, 0, 0, 0, 0, 0, 0, 0, 0, 0, 0, 0, 0, 0, 0, 0, 0, 0, 0, 0, 0, 0, 0, 0, 0, 0, 0, 0, 0, 0, 0, 0, 0, 0, 0, 0, 0, 0, 0, 0, 0, 0, 0, 0, 0, 0, 0, 0, 0, 0, 0, 0, 0, 0, 0, 0, 0, 0, 0, 0, 0, 0, 0, 0, 0, 0, 0, 0, 0, 0, 0, 0, 0, 0, 0, 0, 0, 0, 0, 0, 0, 0, 0, 0, 0, 0, 0, 0, 0, 0, 0]\n"
     ]
    }
   ],
   "source": [
    "# encode Dutch words and pseudowords from Gatti et al as uni- and bi-gram vectors\n",
    "# show the uni-gram and bi-gram encoding of the pseudoword ampgrair\n",
    "# 2 points for correctly encoding the target strings as uni- and bi-gram vectors\n",
    "\n",
    "\n",
    "def unigram_vector(word, vocab=None):\n",
    "    counts = Counter(word)\n",
    "    if vocab is not None:\n",
    "        return [counts.get(char, 0) for char in vocab]\n",
    "    else:\n",
    "        return counts\n",
    "\n",
    "def bigram_vector(word, vocab=None):\n",
    "    bigrams = [word[i:i+2] for i in range(len(word)-1)]\n",
    "    counts = Counter(bigrams)\n",
    "    if vocab is not None:\n",
    "        return [counts.get(bigram, 0) for bigram in vocab]\n",
    "    else:\n",
    "        return counts\n",
    "\n",
    "# build vocabularies from Dutch words\n",
    "dutch_words = speed_and_rysbaert_means['Word'].str.lower().tolist()\n",
    "all_unigrams = sorted(set(''.join(dutch_words)))\n",
    "all_bigrams = sorted(set(b for w in dutch_words for b in [w[i:i+2] for i in range(len(w)-1)]))\n",
    "\n",
    "# get pseudowords (excluding filtered out ones)\n",
    "pseudoword_list = [w for w in gatti_data['comb_3']['Word'].str.lower() if w not in filtered_out]\n",
    "\n",
    "# example: encode 'ampgrair'\n",
    "test_word = 'ampgrair'\n",
    "uni_vec = unigram_vector(test_word, vocab=all_unigrams)\n",
    "bi_vec = bigram_vector(test_word, vocab=all_bigrams)\n",
    "\n",
    "print(f\"Unigram encoding for {test_word}':\", uni_vec)\n",
    "print(f\"Bigram encoding for '{test_word}':\", bi_vec)\n"
   ]
  },
  {
   "cell_type": "code",
   "execution_count": 6,
   "metadata": {
    "id": "-w9-ySEuPp1Y"
   },
   "outputs": [],
   "source": [
    "# use word valence estimates from Speed and Brysbaert (2024) to train\n",
    "# - a uni-gram model\n",
    "# - a bi-gram model\n",
    "# 2 points for correctly trained models\n",
    "\n",
    "from sklearn.linear_model import LinearRegression\n",
    "\n",
    "\n",
    "# prepare X and y for Dutch words\n",
    "X_uni = [unigram_vector(w, vocab=all_unigrams) for w in dutch_words]\n",
    "X_bi = [bigram_vector(w, vocab=all_bigrams) for w in dutch_words]\n",
    "y = speed_and_rysbaert_means['Valence'].values\n",
    "\n",
    "# train models\n",
    "uni_model = LinearRegression().fit(X_uni, y)\n",
    "bi_model = LinearRegression().fit(X_bi, y)"
   ]
  },
  {
   "cell_type": "code",
   "execution_count": 7,
   "metadata": {
    "id": "6RG3aeRSPtLX"
   },
   "outputs": [],
   "source": [
    "# apply trained models to predict the valence of pseudowords from Gatti et al (2024).\n",
    "# Then apply the same models back onto the training set to see how well they predict the valence of words in Speed and Brysbaert (2024).\n",
    "# 2 points for correctly applied models\n",
    "\n",
    "# prepare unigram and bigram vectors for pseudowords\n",
    "X_uni_pseudo = [unigram_vector(w, vocab=all_unigrams) for w in pseudoword_list]\n",
    "X_bi_pseudo = [bigram_vector(w, vocab=all_bigrams) for w in pseudoword_list]\n",
    "\n",
    "# predict valence for pseudowords\n",
    "pseudo_pred_uni = uni_model.predict(X_uni_pseudo)\n",
    "pseudo_pred_bi = bi_model.predict(X_bi_pseudo)\n",
    "\n",
    "# predict valence for Dutch words (training set)\n",
    "train_pred_uni = uni_model.predict(X_uni)\n",
    "train_pred_bi = bi_model.predict(X_bi)"
   ]
  },
  {
   "cell_type": "code",
   "execution_count": 8,
   "metadata": {
    "id": "9aDwbajtPxze"
   },
   "outputs": [
    {
     "name": "stdout",
     "output_type": "stream",
     "text": [
      "Unigram model: Spearman r (words) = 0.089, Spearman r (pseudowords) = 0.173\n",
      "Bigram model:  Spearman r (words) = 0.321, Spearman r (pseudowords) = 0.027\n"
     ]
    }
   ],
   "source": [
    "# compute the Spearman correlation coefficients between true valence and predicted valence under both uni- and bi-gram models for\n",
    "# - words from Speed and Brysbaert (2024)\n",
    "# - pseudowords from Gatti and colleagues (2024)\n",
    "# show both correlation coefficients.\n",
    "# 2 points for the correct Spearman correlation coefficients (rounded to the third decimal place)\n",
    "\n",
    "from scipy.stats import spearmanr\n",
    "\n",
    "# true valence for Dutch words\n",
    "true_valence_words = y\n",
    "\n",
    "# true valence for pseudowords (use Value1 from gatti_data['comb_3'])\n",
    "true_valence_pseudowords = gatti_data['comb_3']['Value1'].values\n",
    "\n",
    "# uni-gram model\n",
    "corr_uni_words, _ = spearmanr(true_valence_words, train_pred_uni)\n",
    "corr_uni_pseudo, _ = spearmanr(true_valence_pseudowords, pseudo_pred_uni)\n",
    "\n",
    "# bi-gram model\n",
    "corr_bi_words, _ = spearmanr(true_valence_words, train_pred_bi)\n",
    "corr_bi_pseudo, _ = spearmanr(true_valence_pseudowords, pseudo_pred_bi)\n",
    "\n",
    "print(f\"Unigram model: Spearman r (words) = {corr_uni_words:.3f}, Spearman r (pseudowords) = {corr_uni_pseudo:.3f}\")\n",
    "print(f\"Bigram model:  Spearman r (words) = {corr_bi_words:.3f}, Spearman r (pseudowords) = {corr_bi_pseudo:.3f}\")"
   ]
  },
  {
   "cell_type": "markdown",
   "metadata": {
    "id": "p0P1rNg5QoDn"
   },
   "source": [
    "**Task 2** (*8 points available, see breakdown below*)\n",
    "\n",
    "Again following Gatti and colleagues, you should encode the target strings (pseudowords and Dutch words from Speed and Brysbaert) as fastText embeddings, train a multiple regression model on Dutch words and apply it to the pseudowords in Gatti et al. You should finally report the Spearman correlation coefficient between observed and predicted valence for both words and pseudowords.\n",
    "\n",
    "You should use the pre-trained fastText model for Dutch, available at this page: https://fasttext.cc/docs/en/crawl-vectors.html\n",
    "\n",
    "Finally, you should answer two questions about the fastText model (see below)."
   ]
  },
  {
   "cell_type": "code",
   "execution_count": 13,
   "metadata": {
    "id": "pDeWgWUNAckd"
   },
   "outputs": [
    {
     "name": "stdout",
     "output_type": "stream",
     "text": [
      "Downloading https://dl.fbaipublicfiles.com/fasttext/vectors-crawl/cc.en.300.bin.gz\n",
      " (42.17%) [=====================>                             ]                                                  ]>                                                  ]>                                                  ]>                                                  ]>                                                  ]>                                                  ]>                                                  ]>                                                  ]>                                                  ]>                                                  ]>                                                  ]>                                                  ]>                                                  ]>                                                  ]>                                                  ]>                                                  ]>                                                  ]>                                                  ]>                                                  ]>                                                  ]>                                                  ]>                                                  ]>                                                  ]>                                                  ]>                                                  ]>                                                  ]>                                                  ]>                                                  ]>                                                  ]>                                                  ]>                                                  ]>                                                  ]>                                                  ]>                                                  ]>                                                  ]>                                                  ]>                                                  ]>                                                  ]>                                                  ]>                                                  ]>                                                  ]>                                                  ]>                                                  ]>                                                  ]>                                                  ]>                                                  ]>                                                  ]>                                                  ]>                                                  ]>                                                  ]>                                                  ]>                                                  ]>                                                  ]>                                                  ]>                                                  ]>                                                  ]>                                                  ]>                                                  ]>                                                  ]>                                                  ]>                                                  ]>                                                  ]>                                                  ]>                                                  ]>                                                  ]>                                                  ]>                                                  ]>                                                  ]>                                                  ]>                                                  ]>                                                  ]>                                                  ]>                                                  ]>                                                  ]>                                                  ]>                                                  ]>                                                  ]>                                                  ]>                                                  ]>                                                  ]>                                                  ]>                                                  ]>                                                  ]>                                                  ]>                                                  ]>                                                  ]>                                                  ]>                                                  ]>                                                  ]>                                                  ]>                                                  ]>                                                  ]>                                                  ]>                                                  ]>                                                  ]>                                                  ]>                                                  ]>                                                  ]>                                                  ]>                                                  ]>                                                  ]>                                                  ]>                                                  ]>                                                  ]>                                                  ]>                                                  ]>                                                  ]>                                                  ]>                                                  ]>                                                  ]>                                                  ]>                                                  ]>                                                  ]>                                                  ]>                                                  ]>                                                  ]>                                                  ]>                                                  ]>                                                  ]>                                                  ]>                                                  ]>                                                  ]>                                                  ]>                                                  ]>                                                  ]>                                                  ]>                                                  ]>                                                  ]>                                                  ]>                                                  ]>                                                  ]>                                                  ]>                                                  ]>                                                  ]>                                                  ]>                                                  ]>                                                  ]>                                                  ]>                                                  ]>                                                  ]>                                                  ]>                                                  ]>                                                  ]>                                                  ]>                                                  ]>                                                  ]>                                                  ]>                                                  ]>                                                  ]>                                                  ]>                                                  ]>                                                  ]>                                                  ]>                                                  ]>                                                  ]>                                                  ]>                                                  ]>                                                  ]>                                                  ]>                                                  ]>                                                  ]>                                                  ]>                                                  ]>                                                  ]>                                                  ]>                                                  ]>                                                  ]>                                                  ]>                                                  ]>                                                  ]>                                                  ]>                                                  ]>                                                  ]>                                                  ]>                                                  ]>                                                  ]>                                                  ]>                                                  ]>                                                  ]>                                                  ]>                                                  ]>                                                  ]>                                                  ]>                                                  ]>                                                  ]>                                                  ]>                                                  ]>                                                  ]>                                                  ]>                                                  ]>                                                  ]>                                                  ]>                                                  ]>                                                  ]>                                                  ]>                                                  ]=>                                                 ]=>                                                 ]=>                                                 ]=>                                                 ]=>                                                 ]=>                                                 ]=>                                                 ]=>                                                 ]=>                                                 ]=>                                                 ]=>                                                 ]=>                                                 ]=>                                                 ]=>                                                 ]=>                                                 ]=>                                                 ]=>                                                 ]=>                                                 ]=>                                                 ]=>                                                 ]=>                                                 ]=>                                                 ]=>                                                 ]=>                                                 ]=>                                                 ]=>                                                 ]=>                                                 ]=>                                                 ]=>                                                 ]=>                                                 ]=>                                                 ]=>                                                 ]=>                                                 ]=>                                                 ]=>                                                 ]=>                                                 ]=>                                                 ]=>                                                 ]=>                                                 ]=>                                                 ]=>                                                 ]=>                                                 ]=>                                                 ]=>                                                 ]=>                                                 ]=>                                                 ]=>                                                 ]=>                                                 ]=>                                                 ]=>                                                 ]=>                                                 ]=>                                                 ]=>                                                 ]=>                                                 ]=>                                                 ]=>                                                 ]=>                                                 ]=>                                                 ]=>                                                 ]=>                                                 ]=>                                                 ]=>                                                 ]=>                                                 ]=>                                                 ]=>                                                 ]=>                                                 ]=>                                                 ]=>                                                 ]=>                                                 ]=>                                                 ]=>                                                 ]=>                                                 ]=>                                                 ]=>                                                 ]=>                                                 ]=>                                                 ]=>                                                 ]=>                                                 ]=>                                                 ]=>                                                 ]=>                                                 ]=>                                                 ]=>                                                 ]=>                                                 ]=>                                                 ]=>                                                 ]=>                                                 ]=>                                                 ]=>                                                 ]=>                                                 ]=>                                                 ]=>                                                 ]=>                                                 ]=>                                                 ]=>                                                 ]=>                                                 ]=>                                                 ]=>                                                 ]=>                                                 ]=>                                                 ]=>                                                 ]=>                                                 ]=>                                                 ]=>                                                 ]=>                                                 ]=>                                                 ]=>                                                 ]=>                                                 ]=>                                                 ]=>                                                 ]=>                                                 ]=>                                                 ]=>                                                 ]=>                                                 ]=>                                                 ]=>                                                 ]=>                                                 ]=>                                                 ]=>                                                 ]=>                                                 ]=>                                                 ]=>                                                 ]=>                                                 ]=>                                                 ]=>                                                 ]=>                                                 ]=>                                                 ]=>                                                 ]=>                                                 ]=>                                                 ]=>                                                 ]=>                                                 ]=>                                                 ]=>                                                 ]=>                                                 ]=>                                                 ]=>                                                 ]=>                                                 ]=>                                                 ]=>                                                 ]=>                                                 ]=>                                                 ]=>                                                 ]=>                                                 ]=>                                                 ]=>                                                 ]=>                                                 ]=>                                                 ]=>                                                 ]=>                                                 ]=>                                                 ]=>                                                 ]=>                                                 ]=>                                                 ]=>                                                 ]=>                                                 ]=>                                                 ]=>                                                 ]=>                                                 ]=>                                                 ]=>                                                 ]=>                                                 ]=>                                                 ]=>                                                 ]=>                                                 ]=>                                                 ]=>                                                 ]=>                                                 ]=>                                                 ]=>                                                 ]=>                                                 ]=>                                                 ]]=>                                                 ]=>                                                 ]=>                                                 ]=>                                                 ]=>                                                 ]=>                                                 ]=>                                                 ]=>                                                 ]=>                                                 ]=>                                                 ]=>                                                 ]=>                                                 ]=>                                                 ]=>                                                 ]=>                                                 ]=>                                                 ]=>                                                 ]=>                                                 ]=>                                                 ]=>                                                 ]=>                                                 ]=>                                                 ]=>                                                 ]=>                                                 ]=>                                                 ]=>                                                 ]=>                                                 ]=>                                                 ]=>                                                 ]=>                                                 ]=>                                                 ]=>                                                 ]=>                                                 ]=>                                                 ]=>                                                 ]=>                                                 ]=>                                                 ]=>                                                 ]=>                                                 ]=>                                                 ]=>                                                 ]=>                                                 ]=>                                                 ]=>                                                 ]=>                                                 ]=>                                                 ]=>                                                 ]=>                                                 ]=>                                                 ]=>                                                 ]=>                                                 ]=>                                                 ]=>                                                 ]==>                                                ]==>                                                ]==>                                                ]==>                                                ]==>                                                ]==>                                                ]==>                                                ]==>                                                ]==>                                                ]==>                                                ]==>                                                ]==>                                                ]==>                                                ]==>                                                ]==>                                                ]==>                                                ]==>                                                ]==>                                                ]==>                                                ]==>                                                ]==>                                                ]==>                                                ]==>                                                ]==>                                                ]==>                                                ]==>                                                ]==>                                                ]==>                                                ]==>                                                ]==>                                                ]==>                                                ]==>                                                ]==>                                                ]==>                                                ]==>                                                ]==>                                                ]==>                                                ]==>                                                ]==>                                                ]==>                                                ]==>                                                ]==>                                                ]==>                                                ]==>                                                ]==>                                                ]==>                                                ]==>                                                ]==>                                                ]==>                                                ]==>                                                ]==>                                                ]==>                                                ]==>                                                ]==>                                                ]==>                                                ]==>                                                ]==>                                                ]==>                                                ]==>                                                ]==>                                                ]==>                                                ]==>                                                ]==>                                                ]==>                                                ]==>                                                ]==>                                                ]==>                                                ]==>                                                ]==>                                                ]==>                                                ]==>                                                ]==>                                                ]==>                                                ]==>                                                ]==>                                                ]                                                ]==>                                                ]==>                                                ]==>                                                ]==>                                                ]==>                                                ]==>                                                ]==>                                                ]==>                                                ]==>                                                ]==>                                                ]==>                                                ]==>                                                ]==>                                                ]==>                                                ]==>                                                ]==>                                                ]==>                                                ]==>                                                ]==>                                                ]==>                                                ]==>                                                ]==>                                                ]==>                                                ]==>                                                ]==>                                                ]==>                                                ]==>                                                ]==>                                                ]==>                                                ]==>                                                ]==>                                                ]==>                                                ]==>                                                ]==>                                                ]==>                                                ]==>                                                ]==>                                                ]==>                                                ]==>                                                ]==>                                                ]==>                                                ]==>                                                ]>                                                ]==>                                                ]==>                                                ]==>                                                ]==>                                                ]==>                                                ]==>                                                ]==>                                                ]==>                                                ]==>                                                ]==>                                                ]==>                                                ]==>                                                ]==>                                                ]==>                                                ]==>                                                ]==>                                                ]==>                                                ]]                                                ]==>                                                ]==>                                                ]==>                                                ]==>                                                ]==>                                                ]==>                                                ]==>                                                ]==>                                                ]==>                                                ]==>                                                ]==>                                                ]==>                                                ]==>                                                ]==>                                                ]==>                                                ]==>                                                ]==>                                                ]==>                                                ]==>                                                ]==>                                                ]==>                                                ]==>                                                ]==>                                                ]==>                                                ]==>                                                ]==>                                                ]==>                                                ]]==>                                                ]==>                                                ]==>                                                ]==>                                                ]==>                                                ]                                                ]==>                                                ]==>                                                ]==>                                                ]==>                                                ]==>                                                ]==>                                                ]==>                                                ]==>                                                ]==>                                                ]==>                                                ]==>                                                ]==>                                                ]==>                                                ]==>                                                ]==>                                                ]==>                                                ]==>                                                ]===>                                               ]===>                                               ]===>                                               ]===>                                               ]===>                                               ]===>                                               ]===>                                               ]===>                                               ]===>                                               ]===>                                               ]===>                                               ]===>                                               ]===>                                               ]===>                                               ]===>                                               ]===>                                               ]===>                                               ]===>                                               ]===>                                               ]===>                                               ]===>                                               ]===>                                               ]===>                                               ]                                               ]===>                                               ]===>                                               ]===>                                               ]===>                                               ]===>                                               ]===>                                               ]===>                                               ]===>                                               ]===>                                               ]===>                                               ]===>                                               ]===>                                               ]===>                                               ]===>                                               ]===>                                               ]===>                                               ]===>                                               ]===>                                               ]===>                                               ]===>                                               ]===>                                               ]===>                                               ]===>                                               ]===>                                               ]===>                                               ]===>                                               ]===>                                               ]===>                                               ]===>                                               ]===>                                               ]===>                                               ]===>                                               ]===>                                               ]===>                                               ]===>                                               ]===>                                               ]===>                                               ]===>                                               ]===>                                               ]===>                                               ]===>                                               ]===>                                               ]===>                                               ]===>                                               ]===>                                               ]===>                                               ]===>                                               ]===>                                               ]                                               ]===>                                               ]===>                                               ]===>                                               ]===>                                               ]===>                                               ]===>                                               ]===>                                               ]===>                                               ]===>                                               ]===>                                               ]]===>                                               ]===>                                               ]===>                                               ]]===>                                               ]===>                                               ]===>                                               ]===>                                               ]===>                                               ]===>                                               ]===>                                               ]===>                                               ]===>                                               ]===>                                               ]===>                                               ]===>                                               ]===>                                               ]===>                                               ]===>                                               ]===>                                               ]===>                                               ]===>                                               ]===>                                               ]===>                                               ]===>                                               ]===>                                               ]===>                                               ]]]===>                                               ]===>                                               ]===>                                               ]===>                                               ]===>                                               ]===>                                               ]===>                                               ]===>                                               ]===>                                               ]===>                                               ]===>                                               ]===>                                               ]===>                                               ]===>                                               ]===>                                               ]===>                                               ]===>                                               ]===>                                               ]===>                                               ]===>                                               ]===>                                               ]===>                                               ]===>                                               ]===>                                               ]===>                                               ]===>                                               ]===>                                               ]===>                                               ]===>                                               ]===>                                               ]===>                                               ]===>                                               ]===>                                               ]===>                                               ]===>                                               ]===>                                               ]===>                                               ]===>                                               ]===>                                               ]===>                                               ]===>                                               ]===>                                               ]===>                                               ]====>                                              ]====>                                              ]====>                                              ]====>                                              ]====>                                              ]====>                                              ]====>                                              ]====>                                              ]====>                                              ]====>                                              ]====>                                              ]====>                                              ]====>                                              ]====>                                              ]====>                                              ]====>                                              ]====>                                              ]====>                                              ]====>                                              ]====>                                              ]====>                                              ]====>                                              ]====>                                              ]====>                                              ]====>                                              ]====>                                              ]====>                                              ]====>                                              ]====>                                              ]====>                                              ]====>                                              ]====>                                              ]====>                                              ]====>                                              ]====>                                              ]                                              ]====>                                              ]                                              ]====>                                              ]]====>                                              ]====>                                              ]====>                                              ]====>                                              ]====>                                              ]====>                                              ]====>                                              ]====>                                              ]====>                                              ]====>                                              ]====>                                              ]====>                                              ]====>                                              ]====>                                              ]====>                                              ]====>                                              ]====>                                              ]====>                                              ]====>                                              ]====>                                              ]====>                                              ]====>                                              ]====>                                              ]====>                                              ]====>                                              ]]====>                                              ]====>                                              ]====>                                              ]====>                                              ]====>                                              ]====>                                              ]====>                                              ]====>                                              ]====>                                              ]                                              ]====>                                              ]====>                                              ]====>                                              ]====>                                              ]====>                                              ]====>                                              ]====>                                              ]====>                                              ]====>                                              ]====>                                              ]====>                                              ]====>                                              ]====>                                              ]====>                                              ]====>                                              ]====>                                              ]====>                                              ]====>                                              ]====>                                              ]]====>                                              ]====>                                              ]====>                                              ]====>                                              ]]====>                                              ]====>                                              ]====>                                              ]====>                                              ]====>                                              ]]]====>                                              ]====>                                              ]====>                                              ]====>                                              ]====>                                              ]====>                                              ]====>                                              ]====>                                              ]====>                                              ]====>                                              ]====>                                              ]====>                                              ]====>                                              ]====>                                              ]=====>                                             ]=====>                                             ]=====>                                             ]=====>                                             ]=====>                                             ]=====>                                             ]=====>                                             ]=====>                                             ]=====>                                             ]=====>                                             ]=====>                                             ]=====>                                             ]=====>                                             ]=====>                                             ]=====>                                             ]=====>                                             ]=====>                                             ]=====>                                             ]=====>                                             ]=====>                                             ]=====>                                             ]=====>                                             ]=====>                                             ]=====>                                             ]=====>                                             ]=====>                                             ]=====>                                             ]=====>                                             ]=====>                                             ]=====>                                             ]=====>                                             ]=====>                                             ]=====>                                             ]=====>                                             ]=====>                                             ]=====>                                             ]=====>                                             ]=====>                                             ]=====>                                             ]=====>                                             ]=====>                                             ]=====>                                             ]=====>                                             ]=====>                                             ]=====>                                             ]=====>                                             ]=====>                                             ]=====>                                             ]=====>                                             ]=====>                                             ]=====>                                             ]=====>                                             ]=====>                                             ]=====>                                             ]                                             ]=====>                                             ]=====>                                             ]=====>                                             ]=====>                                             ]=====>                                             ]=====>                                             ]=====>                                             ]]=====>                                             ]=====>                                             ]=====>                                             ]=====>                                             ]=====>                                             ]=====>                                             ]]]=====>                                             ]=====>                                             ]=====>                                             ]=====>                                             ]=====>                                             ]=====>                                             ]                                             ]=====>                                             ]=====>                                             ]=====>                                             ]=====>                                             ]=====>                                             ]=====>                                             ]=====>                                             ]=====>                                             ]=====>                                             ]=====>                                             ]=====>                                             ]=====>                                             ]=====>                                             ]=====>                                             ]=====>                                             ]=====>                                             ]=====>                                             ]                                             ]=====>                                             ]=====>                                             ]=====>                                             ]=====>                                             ]]=====>                                             ]=====>                                             ]=====>                                             ]                                             ]=====>                                             ]=====>                                             ]=====>                                             ]=====>                                             ]]=====>                                             ]=====>                                             ]=====>                                             ]=====>                                             ]=====>                                             ]=====>                                             ]=====>                                             ]=====>                                             ]=====>                                             ]                                             ]=====>                                             ]=====>                                             ]=====>                                             ]=====>                                             ]=====>                                             ]=====>                                             ]]=====>                                             ]=====>                                             ]=====>                                             ]=====>                                             ]=====>                                             ]=====>                                             ]=====>                                             ]=====>                                             ]=====>                                             ]=====>                                             ]=====>                                             ]=====>                                             ]=====>                                             ]=====>                                             ]=====>                                             ]=====>                                             ]=====>                                             ]=====>                                             ]                                             ]=====>                                             ]=====>                                             ]=====>                                             ]=====>                                             ]=====>                                             ]                                             ]=====>                                             ]=====>                                             ]=====>                                             ]=====>                                             ]]                                            ]                                            ]======>                                            ]]======>                                            ]======>                                            ]======>                                            ]>                                            ]======>                                            ]======>                                            ]======>                                            ]                                            ]======>                                            ]======>                                            ]>                                            ]======>                                            ]======>                                            ]======>                                            ]======>                                            ]======>                                            ]======>                                            ]======>                                            ]]======>                                            ]======>                                            ]======>                                            ]======>                                            ]======>                                            ]======>                                            ]======>                                            ]======>                                            ]======>                                            ]======>                                            ]======>                                            ]======>                                            ]======>                                            ]>                                            ]======>                                            ]======>                                            ]======>                                            ]======>                                            ]======>                                            ]]                                            ]>                                            ]]                                            ]======>                                            ]======>                                            ]======>                                            ]======>                                            ]======>                                            ]======>                                            ]]======>                                            ]======>                                            ]======>                                            ]======>                                            ]======>                                            ]======>                                            ]]======>                                            ]======>                                            ]======>                                            ]======>                                            ]======>                                            ]]======>                                            ]======>                                            ]======>                                            ]======>                                            ]======>                                            ]]======>                                            ]>                                            ]======>                                            ]======>                                            ]======>                                            ]======>                                            ]======>                                            ]======>                                            ]======>                                            ]======>                                            ]======>                                            ]======>                                            ]======>                                            ]                                            ]======>                                            ]======>                                            ]======>                                            ]]======>                                            ]]]]]======>                                            ]======>                                            ]                                            ]======>                                            ]======>                                            ]]======>                                            ]======>                                            ]>                                            ]======>                                            ]======>                                            ]======>                                            ]                                            ]]======>                                            ]]                                            ]======>                                            ]======>                                            ]======>                                            ]======>                                            ]                                            ]======>                                            ]======>                                            ]======>                                            ]]======>                                            ]======>                                            ]>                                            ]======>                                            ]>                                            ]======>                                            ]======>                                            ]]]======>                                            ]======>                                            ]======>                                            ]                                            ]======>                                            ]======>                                            ]======>                                            ]>                                            ]                                            ]]======>                                            ]======>                                            ]======>                                            ]                                            ]======>                                            ]======>                                            ]======>                                            ]=======>                                           ]=======>                                           ]>                                           ]]=======>                                           ]                                           ]=======>                                           ]>                                           ]=======>                                           ]=======>                                           ]=======>                                           ]=======>                                           ]=======>                                           ]=======>                                           ]=======>                                           ]=======>                                           ]=======>                                           ]=======>                                           ]=======>                                           ]                                           ]=======>                                           ]=======>                                           ]=======>                                           ]=======>                                           ]=======>                                           ]=======>                                           ]=======>                                           ]=======>                                           ]=======>                                           ]                                           ]=======>                                           ]=======>                                           ]=======>                                           ]=======>                                           ]>                                           ]=======>                                           ]=======>                                           ]=======>                                           ]=======>                                           ]=======>                                           ]=======>                                           ]=======>                                           ]=======>                                           ]=======>                                           ]=======>                                           ]=======>                                           ]>                                           ]                                           ]=======>                                           ]=======>                                           ]=======>                                           ]=======>                                           ]=======>                                           ]=======>                                           ]=======>                                           ]=======>                                           ]=======>                                           ]=======>                                           ]=======>                                           ]=======>                                           ]=======>                                           ]=======>                                           ]=======>                                           ]=======>                                           ]=======>                                           ]>                                           ]=======>                                           ]=======>                                           ]=======>                                           ]=======>                                           ]]=======>                                           ]=======>                                           ]=======>                                           ]=======>                                           ]=======>                                           ]=======>                                           ]=======>                                           ]>                                           ]=======>                                           ]=======>                                           ]=======>                                           ]=======>                                           ]=======>                                           ]=======>                                           ]=======>                                           ]>                                           ]=======>                                           ]                                           ]=======>                                           ]=======>                                           ]=======>                                           ]=======>                                           ]>                                           ]=======>                                           ]=======>                                           ]]=======>                                           ]=======>                                           ]=======>                                           ]=======>                                           ]=======>                                           ]=======>                                           ]=======>                                           ]=======>                                           ]                                           ]=======>                                           ]]=======>                                           ]=======>                                           ]=======>                                           ]=======>                                           ]]=======>                                           ]>                                           ]=======>                                           ]=======>                                           ]>                                           ]=======>                                           ]]=======>                                           ]=======>                                           ]=======>                                           ]>                                           ]=======>                                           ]=======>                                           ]=======>                                           ]=======>                                           ]=======>                                           ]=======>                                           ]=======>                                           ]=======>                                           ]=======>                                           ]=======>                                           ]=======>                                           ]=======>                                           ]=======>                                           ]=======>                                           ]=======>                                           ]=======>                                           ]                                           ]=======>                                           ]]=======>                                           ]=======>                                           ]                                           ]]                                           ]=======>                                           ]=======>                                           ]=======>                                           ]]=======>                                           ]=======>                                           ]>                                           ]=======>                                           ]=======>                                           ]=======>                                           ]=======>                                           ]=======>                                           ]=======>                                           ]=======>                                           ]=======>                                           ]]]=======>                                           ]=======>                                           ]=======>                                           ]=======>                                           ]]=======>                                           ]=======>                                           ]=======>                                           ]=======>                                           ]=======>                                           ]=======>                                           ]=======>                                           ]=======>                                           ]>                                           ]=======>                                           ]=======>                                           ]>                                           ]=======>                                           ]=======>                                           ]=======>                                           ]=======>                                           ]=======>                                           ]=======>                                           ]=======>                                           ]=======>                                           ]=======>                                           ]=======>                                           ]=======>                                           ]=======>                                           ]=======>                                           ]=======>                                           ]]=======>                                           ]=======>                                           ]=======>                                           ]                                           ]=======>                                           ]>                                           ]=======>                                           ]=======>                                           ]=======>                                           ]=======>                                           ]]=======>                                           ]=======>                                           ]=======>                                           ]=======>                                           ]]=======>                                           ]=======>                                           ]=======>                                           ]=======>                                           ]]                                           ]=======>                                           ]=======>                                           ]=======>                                           ]=======>                                           ]]                                           ]                                          ]========>                                          ]>                                          ]========>                                          ]]========>                                          ]========>                                          ]========>                                          ]========>                                          ]========>                                          ]========>                                          ]========>                                          ]]                                          ]>                                          ]========>                                          ]                                          ]========>                                          ]========>                                          ]========>                                          ]========>                                          ]========>                                          ]========>                                          ]========>                                          ]========>                                          ]========>                                          ]========>                                          ]========>                                          ]========>                                          ]                                          ]========>                                          ]]========>                                          ]========>                                          ]========>                                          ]========>                                          ]========>                                          ]========>                                          ]========>                                          ]========>                                          ]                                          ]========>                                          ]                                          ]========>                                          ]]========>                                          ]========>                                          ]========>                                          ]========>                                          ]========>                                          ]========>                                          ]========>                                          ]========>                                          ]]]========>                                          ]========>                                          ]========>                                          ]========>                                          ]========>                                          ]========>                                          ]========>                                          ]========>                                          ]========>                                          ]                                          ]========>                                          ]========>                                          ]========>                                          ]                                          ]>                                          ]]========>                                          ]                                          ]========>                                          ]========>                                          ]========>                                          ]========>                                          ]]========>                                          ]========>                                          ]                                          ]]>                                          ]========>                                          ]========>                                          ]]========>                                          ]========>                                          ]>                                          ]========>                                          ]                                          ]========>                                          ]========>                                          ]========>                                          ]========>                                          ]========>                                          ]========>                                          ]========>                                          ]========>                                          ]>                                          ]>                                          ]========>                                          ]========>                                          ]========>                                          ]========>                                          ]========>                                          ]========>                                          ]========>                                          ]                                          ]========>                                          ]========>                                          ]========>                                          ]========>                                          ]========>                                          ]========>                                          ]========>                                          ]]========>                                          ]========>                                          ]========>                                          ]========>                                          ]========>                                          ]                                          ]========>                                          ]]========>                                          ]]>                                          ]========>                                          ]========>                                          ]========>                                          ]========>                                          ]========>                                          ]========>                                          ]========>                                          ]========>                                          ]========>                                          ]========>                                          ]>                                          ]                                          ]========>                                          ]========>                                          ]========>                                          ]]========>                                          ]========>                                          ]========>                                          ]========>                                          ]]========>                                          ]========>                                          ]]========>                                          ]========>                                          ]========>                                          ]========>                                          ]========>                                          ]>                                          ]========>                                          ]========>                                          ]>                                          ]]========>                                          ]========>                                          ]========>                                          ]========>                                          ]========>                                          ]========>                                          ]========>                                          ]========>                                          ]                                          ]>                                          ]                                          ]========>                                          ]========>                                          ]========>                                          ]>                                          ]========>                                          ]]========>                                          ]========>                                          ]========>                                          ]========>                                          ]========>                                          ]========>                                          ]========>                                          ]>                                          ]]]========>                                          ]========>                                          ]========>                                          ]]========>                                          ]========>                                          ]========>                                          ]]========>                                          ]========>                                          ]]========>                                          ]========>                                          ]========>                                          ]]]========>                                          ]========>                                          ]]========>                                          ]========>                                          ]========>                                          ]========>                                          ]]========>                                          ]========>                                          ]========>                                          ]========>                                          ]========>                                          ]========>                                          ]========>                                          ]========>                                          ]========>                                          ]                                          ]========>                                          ]========>                                          ]========>                                          ]========>                                          ]========>                                          ]========>                                          ]========>                                          ]========>                                          ]========>                                          ]========>                                          ]========>                                          ]                                         ]=========>                                         ]=========>                                         ]]=========>                                         ]=========>                                         ]=========>                                         ]>                                         ]=========>                                         ]=========>                                         ]=========>                                         ]]=========>                                         ]=========>                                         ]=========>                                         ]=========>                                         ]=========>                                         ]=========>                                         ]]=========>                                         ]=========>                                         ]=========>                                         ]>                                         ]=========>                                         ]=========>                                         ]]>                                         ]                                         ]]]>                                         ]                                         ]]=========>                                         ]=========>                                         ]=========>                                         ]=========>                                         ]=========>                                         ]]                                         ]=========>                                         ]=========>                                         ]=========>                                         ]=========>                                         ]=========>                                         ]=========>                                         ]]=========>                                         ]=========>                                         ]=========>                                         ]=========>                                         ]>                                         ]]]=========>                                         ]=========>                                         ]=========>                                         ]=========>                                         ]=========>                                         ]=========>                                         ]                                         ]=========>                                         ]=========>                                         ]>                                         ]]=========>                                         ]=========>                                         ]>                                         ]=========>                                         ]=========>                                         ]                                         ]=========>                                         ]=========>                                         ]]=========>                                         ]=========>                                         ]=========>                                         ]]=========>                                         ]                                         ]=========>                                         ]=========>                                         ]=========>                                         ]=========>                                         ]=========>                                         ]]]=========>                                         ]=========>                                         ]=========>                                         ]=========>                                         ]                                         ]=========>                                         ]=========>                                         ]]=========>                                         ]                                         ]=========>                                         ]=========>                                         ]                                         ]=========>                                         ]=========>                                         ]]]=========>                                         ]=========>                                         ]                                         ]>                                         ]                                         ]]                                         ]]]                                         ]>                                         ]=========>                                         ]=========>                                         ]=========>                                         ]=========>                                         ]=========>                                         ]]]=========>                                         ]=========>                                         ]                                         ]=========>                                         ]=========>                                         ]=========>                                         ]                                         ]]=========>                                         ]                                         ]=========>                                         ]=========>                                         ]=========>                                         ]=========>                                         ]=========>                                         ]]=========>                                         ]=========>                                         ]=========>                                         ]=========>                                         ]                                         ]]]=========>                                         ]=========>                                         ]]]                                         ]=========>                                         ]=========>                                         ]=========>                                         ]=========>                                         ]=========>                                         ]=========>                                         ]=========>                                         ]=========>                                         ]=========>                                         ]=========>                                         ]=========>                                         ]>                                         ]]                                         ]=========>                                         ]=========>                                         ]                                         ]=========>                                         ]>                                         ]]=========>                                         ]=========>                                         ]=========>                                         ]=========>                                         ]=========>                                         ]=========>                                         ]=========>                                         ]=========>                                         ]=========>                                         ]>                                         ]=========>                                         ]=========>                                         ]=========>                                         ]=========>                                         ]]=========>                                         ]                                         ]=========>                                         ]]=========>                                         ]]=========>                                         ]=========>                                         ]=========>                                         ]=========>                                         ]=========>                                         ]>                                         ]=========>                                         ]=========>                                         ]=========>                                         ]]=========>                                         ]=========>                                         ]>                                         ]=========>                                         ]=========>                                         ]=========>                                         ]=========>                                         ]=========>                                         ]>                                         ]=========>                                         ]=========>                                         ]=========>                                         ]>                                         ]=========>                                         ]=========>                                         ]=========>                                         ]]=========>                                         ]=========>                                         ]=========>                                         ]>                                         ]=========>                                         ]=========>                                         ]=========>                                         ]]=========>                                         ]=========>                                         ]]=========>                                         ]=========>                                         ]=========>                                         ]]>                                         ]=========>                                         ]=========>                                         ]]=========>                                         ]=========>                                         ]]]]                                         ]=========>                                         ]                                         ]=========>                                         ]=========>                                         ]=========>                                         ]=========>                                         ]=========>                                         ]=========>                                         ]=========>                                         ]=========>                                         ]=========>                                         ]=========>                                         ]=========>                                         ]=========>                                         ]=========>                                         ]=========>                                         ]                                         ]                                         ]=========>                                         ]=========>                                         ]=========>                                         ]=========>                                         ]=========>                                         ]=========>                                         ]=========>                                         ]=========>                                         ]=========>                                         ]=========>                                         ]=========>                                         ]]                                         ]=========>                                         ]                                         ]=========>                                         ]=========>                                         ]]=========>                                         ]=========>                                         ]>                                         ]=========>                                         ]=========>                                         ]=========>                                         ]]=========>                                         ]=========>                                         ]=========>                                         ]=========>                                         ]=========>                                         ]]=========>                                         ]=========>                                         ]>                                         ]=========>                                         ]=========>                                         ]]                                         ]]                                         ]=========>                                         ]=========>                                         ]=========>                                         ]]=========>                                         ]=========>                                         ]>                                        ]]==========>                                        ]                                        ]==========>                                        ]==========>                                        ]==========>                                        ]]==========>                                        ]==========>                                        ]                                        ]==========>                                        ]==========>                                        ]==========>                                        ]==========>                                        ]>                                        ]]==========>                                        ]==========>                                        ]                                        ]==========>                                        ]>                                        ]==========>                                        ]==========>                                        ]==========>                                        ]==========>                                        ]==========>                                        ]>                                        ]==========>                                        ]==========>                                        ]>                                        ]==========>                                        ]==========>                                        ]                                        ]==========>                                        ]==========>                                        ]==========>                                        ]==========>                                        ]==========>                                        ]                                        ]==========>                                        ]==========>                                        ]                                        ]==========>                                        ]==========>                                        ]>                                        ]==========>                                        ]==========>                                        ]==========>                                        ]==========>                                        ]==========>                                        ]>                                        ]==========>                                        ]==========>                                        ]==========>                                        ]>                                        ]==========>                                        ]                                        ]==========>                                        ]==========>                                        ]==========>                                        ]                                        ]==========>                                        ]]==========>                                        ]>                                        ]]==========>                                        ]]==========>                                        ]                                        ]]==========>                                        ]]==========>                                        ]==========>                                        ]>                                        ]==========>                                        ]                                        ]]==========>                                        ]]==========>                                        ]==========>                                        ]                                        ]==========>                                        ]==========>                                        ]]]==========>                                        ]==========>                                        ]                                        ]==========>                                        ]>                                        ]                                        ]==========>                                        ]]==========>                                        ]==========>                                        ]==========>                                        ]                                        ]                                        ]]>                                        ]==========>                                        ]==========>                                        ]]==========>                                        ]==========>                                        ]==========>                                        ]==========>                                        ]                                        ]                                        ]==========>                                        ]==========>                                        ]==========>                                        ]                                        ]==========>                                        ]                                        ]                                        ]==========>                                        ]]                                        ]                                        ]>                                        ]]==========>                                        ]==========>                                        ]>                                        ]==========>                                        ]                                        ]==========>                                        ]]]                                        ]==========>                                        ]==========>                                        ]==========>                                        ]==========>                                        ]                                        ]==========>                                        ]==========>                                        ]==========>                                        ]==========>                                        ]==========>                                        ]]>                                        ]==========>                                        ]==========>                                        ]==========>                                        ]>                                        ]                                        ]==========>                                        ]>                                        ]==========>                                        ]==========>                                        ]==========>                                        ]==========>                                        ]==========>                                        ]==========>                                        ]>                                        ]==========>                                        ]==========>                                        ]                                        ]==========>                                        ]==========>                                        ]]]==========>                                        ]]                                        ]]]                                        ]]==========>                                        ]                                        ]>                                        ]==========>                                        ]==========>                                        ]]==========>                                        ]==========>                                        ]==========>                                        ]==========>                                        ]==========>                                        ]==========>                                        ]==========>                                        ]                                        ]]==========>                                        ]==========>                                        ]==========>                                        ]]==========>                                        ]==========>                                        ]==========>                                        ]==========>                                        ]==========>                                        ]==========>                                        ]==========>                                        ]                                        ]]==========>                                        ]==========>                                        ]]==========>                                        ]==========>                                        ]==========>                                        ]==========>                                        ]==========>                                        ]                                        ]==========>                                        ]==========>                                        ]==========>                                        ]                                        ]]                                        ]]==========>                                        ]]>                                        ]==========>                                        ]==========>                                        ]==========>                                        ]==========>                                        ]>                                        ]==========>                                        ]==========>                                        ]==========>                                        ]>                                        ]==========>                                        ]==========>                                        ]                                        ]]                                        ]                                        ]]>                                        ]==========>                                        ]==========>                                        ]==========>                                        ]==========>                                        ]]]==========>                                        ]==========>                                        ]                                        ]]==========>                                        ]==========>                                        ]==========>                                        ]]==========>                                        ]                                        ]==========>                                        ]==========>                                        ]                                        ]==========>                                        ]]==========>                                        ]==========>                                        ]]==========>                                        ]==========>                                        ]==========>                                        ]==========>                                        ]==========>                                        ]]==========>                                        ]]]==========>                                        ]==========>                                        ]]==========>                                        ]]]==========>                                        ]                                        ]>                                        ]                                        ]==========>                                        ]]==========>                                        ]==========>                                        ]]]==========>                                        ]>                                        ]==========>                                        ]                                        ]>                                        ]]>                                        ]==========>                                        ]]==========>                                        ]                                        ]                                        ]==========>                                        ]]]==========>                                        ]==========>                                        ]==========>                                        ]==========>                                        ]                                        ]==========>                                        ]==========>                                        ]==========>                                        ]>                                        ]]==========>                                        ]>                                        ]                                        ]===========>                                       ]]                                       ]]===========>                                       ]===========>                                       ]===========>                                       ]]===========>                                       ]]]===========>                                       ]===========>                                       ]                                       ]===========>                                       ]]>                                       ]===========>                                       ]===========>                                       ]                                       ]                                       ]===========>                                       ]]                                       ]]===========>                                       ]]===========>                                       ]]]>                                       ]===========>                                       ]===========>                                       ]]                                       ]>                                       ]===========>                                       ]]===========>                                       ]===========>                                       ]                                       ]                                       ]===========>                                       ]===========>                                       ]                                       ]===========>                                       ]===========>                                       ]]]===========>                                       ]>                                       ]===========>                                       ]                                       ]>                                       ]===========>                                       ]]                                       ]>                                       ]]]]===========>                                       ]                                       ]===========>                                       ]===========>                                       ]===========>                                       ]]>                                       ]===========>                                       ]>                                       ]]>                                       ]===========>                                       ]===========>                                       ]===========>                                       ]]]                                       ]===========>                                       ]                                       ]===========>                                       ]===========>                                       ]                                       ]]===========>                                       ]                                       ]===========>                                       ]===========>                                       ]>                                       ]                                       ]>                                       ]===========>                                       ]]===========>                                       ]]===========>                                       ]]===========>                                       ]===========>                                       ]]                                       ]]===========>                                       ]]===========>                                       ]                                       ]===========>                                       ]===========>                                       ]>                                       ]===========>                                       ]                                       ]===========>                                       ]===========>                                       ]===========>                                       ]                                       ]>                                       ]===========>                                       ]                                       ]===========>                                       ]===========>                                       ]===========>                                       ]>                                       ]===========>                                       ]                                       ]]===========>                                       ]===========>                                       ]                                       ]                                       ]]===========>                                       ]===========>                                       ]===========>                                       ]===========>                                       ]]===========>                                       ]                                       ]===========>                                       ]]>                                       ]===========>                                       ]>                                       ]===========>                                       ]]===========>                                       ]===========>                                       ]                                       ]===========>                                       ]===========>                                       ]]]===========>                                       ]]                                       ]===========>                                       ]===========>                                       ]]                                       ]===========>                                       ]                                       ]>                                       ]===========>                                       ]>                                       ]]>                                       ]]>                                       ]]===========>                                       ]===========>                                       ]===========>                                       ]>                                       ]]===========>                                       ]===========>                                       ]===========>                                       ]===========>                                       ]]                                       ]===========>                                       ]                                       ]>                                       ]]===========>                                       ]===========>                                       ]                                       ]]===========>                                       ]]>                                       ]                                       ]                                       ]===========>                                       ]]                                       ]===========>                                       ]                                       ]]                                       ]===========>                                       ]===========>                                       ]]>                                       ]===========>                                       ]===========>                                       ]]===========>                                       ]===========>                                       ]]]]===========>                                       ]===========>                                       ]                                       ]                                       ]===========>                                       ]>                                       ]===========>                                       ]]                                       ]]===========>                                       ]===========>                                       ]                                       ]]>                                       ]>                                       ]===========>                                       ]]                                       ]>                                       ]                                       ]                                       ]                                       ]===========>                                       ]]===========>                                       ]                                       ]                                       ]===========>                                       ]===========>                                       ]===========>                                       ]]===========>                                       ]>                                       ]                                       ]]===========>                                       ]                                       ]===========>                                       ]]                                       ]>                                       ]>                                       ]                                       ]===========>                                       ]]                                       ]]===========>                                       ]]                                       ]===========>                                       ]                                       ]]===========>                                       ]                                       ]]                                       ]===========>                                       ]]===========>                                       ]===========>                                       ]>                                       ]===========>                                       ]===========>                                       ]                                       ]===========>                                       ]============>                                      ]>                                      ]]============>                                      ]>                                      ]============>                                      ]============>                                      ]============>                                      ]>                                      ]============>                                      ]============>                                      ]]============>                                      ]============>                                      ]============>                                      ]============>                                      ]]============>                                      ]                                      ]]============>                                      ]============>                                      ]============>                                      ]                                      ]>                                      ]]============>                                      ]============>                                      ]============>                                      ]]]                                      ]                                      ]]]============>                                      ]============>                                      ]]]]                                      ]============>                                      ]                                      ]============>                                      ]============>                                      ]]]============>                                      ]============>                                      ]============>                                      ]============>                                      ]============>                                      ]                                      ]============>                                      ]============>                                      ]============>                                      ]============>                                      ]============>                                      ]]============>                                      ]                                      ]                                      ]>                                      ]                                      ]]============>                                      ]============>                                      ]                                      ]                                      ]============>                                      ]>                                      ]]============>                                      ]>                                      ]============>                                      ]============>                                      ]]============>                                      ]                                      ]]============>                                      ]============>                                      ]============>                                      ]                                      ]============>                                      ]============>                                      ]============>                                      ]]============>                                      ]============>                                      ]                                      ]============>                                      ]                                      ]============>                                      ]]============>                                      ]                                      ]============>                                      ]                                      ]>                                      ]>                                      ]]============>                                      ]============>                                      ]>                                      ]============>                                      ]============>                                      ]============>                                      ]>                                      ]============>                                      ]>                                      ]]============>                                      ]                                      ]                                      ]============>                                      ]                                      ]============>                                      ]============>                                      ]                                      ]>                                      ]============>                                      ]]]============>                                      ]============>                                      ]============>                                      ]                                      ]============>                                      ]>                                      ]                                      ]============>                                      ]============>                                      ]]]]                                      ]                                      ]]]]]]]]]]============>                                      ]>                                      ]>                                      ]                                      ]]                                      ]                                      ]]>                                      ]>                                      ]]]]]]]============>                                      ]]>                                      ]                                      ]                                      ]                                      ]============>                                      ]============>                                      ]============>                                      ]                                      ]>                                      ]]============>                                      ]>                                      ]============>                                      ]============>                                      ]]============>                                      ]============>                                      ]============>                                      ]>                                      ]]============>                                      ]]                                      ]]                                      ]============>                                      ]]============>                                      ]]============>                                      ]                                      ]============>                                      ]                                      ]============>                                      ]============>                                      ]============>                                      ]============>                                      ]============>                                      ]============>                                      ]============>                                      ]============>                                      ]============>                                      ]============>                                      ]                                      ]                                      ]]============>                                      ]]============>                                      ]============>                                      ]============>                                      ]============>                                      ]============>                                      ]                                      ]============>                                      ]============>                                      ]============>                                      ]============>                                      ]============>                                      ]============>                                      ]]>                                      ]============>                                      ]                                      ]============>                                      ]]============>                                      ]============>                                      ]============>                                      ]============>                                      ]>                                      ]============>                                      ]============>                                      ]============>                                      ]============>                                      ]============>                                      ]]>                                      ]                                      ]>                                      ]============>                                      ]============>                                      ]>                                      ]============>                                      ]============>                                      ]>                                      ]============>                                      ]============>                                      ]============>                                      ]]]]]]============>                                      ]]============>                                      ]]============>                                      ]                                      ]============>                                      ]>                                      ]============>                                      ]============>                                      ]============>                                      ]============>                                      ]                                      ]============>                                      ]============>                                      ]============>                                      ]]============>                                      ]============>                                      ]============>                                      ]]============>                                      ]============>                                      ]============>                                      ]]============>                                      ]]]============>                                      ]============>                                      ]============>                                      ]============>                                      ]>                                      ]                                      ]>                                      ]============>                                      ]                                      ]                                      ]                                      ]============>                                      ]                                      ]]============>                                      ]                                      ]                                      ]>                                      ]]============>                                      ]============>                                      ]============>                                      ]]                                      ]============>                                      ]]]============>                                      ]]============>                                      ]]                                     ]>                                     ]>                                     ]]=============>                                     ]>                                     ]]=============>                                     ]]]]]>                                     ]]                                     ]]                                     ]=============>                                     ]                                     ]]]                                     ]]=============>                                     ]>                                     ]>                                     ]]                                     ]=============>                                     ]=============>                                     ]=============>                                     ]=============>                                     ]=============>                                     ]                                     ]]=============>                                     ]                                     ]]=============>                                     ]                                     ]=============>                                     ]>                                     ]=============>                                     ]]]=============>                                     ]=============>                                     ]=============>                                     ]]]=============>                                     ]>                                     ]=============>                                     ]=============>                                     ]]]                                     ]=============>                                     ]=============>                                     ]>                                     ]=============>                                     ]]]=============>                                     ]                                     ]                                     ]]]>                                     ]                                     ]=============>                                     ]                                     ]=============>                                     ]=============>                                     ]=============>                                     ]=============>                                     ]                                     ]=============>                                     ]=============>                                     ]                                     ]>                                     ]]                                     ]>                                     ]                                     ]=============>                                     ]=============>                                     ]=============>                                     ]=============>                                     ]=============>                                     ]]>                                     ]                                     ]=============>                                     ]=============>                                     ]                                     ]]]=============>                                     ]                                     ]]]>                                     ]>                                     ]]]]                                     ]]=============>                                     ]=============>                                     ]]                                     ]]]>                                     ]                                     ]                                     ]>                                     ]=============>                                     ]                                     ]                                     ]]=============>                                     ]]]                                     ]]                                     ]                                     ]                                     ]=============>                                     ]=============>                                     ]=============>                                     ]]=============>                                     ]                                     ]                                     ]                                     ]]]>                                     ]                                     ]                                     ]=============>                                     ]]>                                     ]]]                                     ]]]=============>                                     ]>                                     ]]]]                                     ]                                     ]>                                     ]=============>                                     ]>                                     ]=============>                                     ]]                                     ]]                                     ]]=============>                                     ]=============>                                     ]]]                                     ]>                                     ]=============>                                     ]]=============>                                     ]=============>                                     ]                                     ]]]]                                     ]]]                                     ]]                                     ]=============>                                     ]]]]]                                     ]                                     ]>                                     ]]=============>                                     ]=============>                                     ]=============>                                     ]                                     ]=============>                                     ]]                                     ]                                     ]]]]                                     ]=============>                                     ]]                                     ]]                                     ]=============>                                     ]]                                     ]                                     ]]                                     ]=============>                                     ]                                     ]=============>                                     ]                                     ]                                     ]                                     ]=============>                                     ]>                                     ]                                     ]]                                     ]]]=============>                                     ]]=============>                                     ]                                     ]                                     ]]=============>                                     ]>                                     ]]]>                                     ]]                                     ]=============>                                     ]                                     ]>                                     ]]                                     ]=============>                                     ]                                     ]]]=============>                                     ]                                     ]>                                     ]]                                     ]                                     ]=============>                                     ]                                     ]=============>                                     ]=============>                                     ]]                                     ]                                     ]>                                     ]=============>                                     ]                                     ]]>                                     ]=============>                                     ]>                                     ]]=============>                                     ]]]]=============>                                     ]                                     ]=============>                                     ]=============>                                     ]]                                     ]]]                                    ]>                                    ]]                                    ]]                                    ]==============>                                    ]]>                                    ]==============>                                    ]                                    ]==============>                                    ]==============>                                    ]==============>                                    ]>                                    ]                                    ]                                    ]==============>                                    ]                                    ]>                                    ]                                    ]                                    ]==============>                                    ]                                    ]                                    ]                                    ]                                    ]                                    ]]==============>                                    ]==============>                                    ]                                    ]>                                    ]                                    ]>                                    ]]                                    ]]                                    ]]==============>                                    ]]]==============>                                    ]                                    ]                                    ]==============>                                    ]]                                    ]==============>                                    ]]==============>                                    ]>                                    ]                                    ]==============>                                    ]                                    ]>                                    ]                                    ]                                    ]]                                    ]>                                    ]                                    ]]==============>                                    ]]]==============>                                    ]==============>                                    ]]]==============>                                    ]]                                    ]==============>                                    ]                                    ]==============>                                    ]>                                    ]>                                    ]]                                    ]]                                    ]]>                                    ]>                                    ]==============>                                    ]]]                                    ]]]                                    ]]                                    ]]                                    ]                                    ]]>                                    ]==============>                                    ]==============>                                    ]                                    ]]                                    ]>                                    ]==============>                                    ]>                                    ]]]]]                                    ]                                    ]                                    ]]]]]==============>                                    ]]                                    ]                                    ]==============>                                    ]                                    ]>                                    ]]==============>                                    ]]]==============>                                    ]]]                                    ]]]]]]]                                    ]==============>                                    ]                                    ]==============>                                    ]                                    ]>                                    ]]]>                                    ]]==============>                                    ]                                    ]                                    ]]]                                    ]>                                    ]>                                    ]                                    ]>                                    ]==============>                                    ]>                                    ]]                                    ]]]]]                                    ]>                                    ]]                                    ]]]]>                                    ]                                    ]]>                                    ]                                    ]                                    ]]                                    ]                                    ]==============>                                    ]]                                    ]==============>                                    ]]]==============>                                    ]]]>                                    ]]==============>                                    ]                                    ]                                    ]==============>                                    ]>                                    ]>                                    ]]]                                    ]==============>                                    ]]==============>                                    ]==============>                                    ]                                    ]]]==============>                                    ]==============>                                    ]==============>                                    ]>                                    ]==============>                                    ]]]]                                    ]]                                    ]==============>                                    ]]]                                    ]]]]]==============>                                    ]==============>                                    ]]]                                    ]]==============>                                    ]]]]>                                    ]>                                    ]                                    ]==============>                                    ]>                                    ]]                                    ]]]]]]>                                    ]>                                    ]]>                                    ]]]                                    ]>                                    ]>                                    ]                                    ]>                                    ]>                                    ]]                                    ]==============>                                    ]                                    ]>                                    ]]>                                    ]==============>                                    ]]]]]]>                                    ]]==============>                                    ]]==============>                                    ]==============>                                    ]                                    ]]>                                    ]]                                    ]]]]                                    ]]==============>                                    ]]                                    ]                                    ]>                                    ]                                    ]==============>                                    ]                                    ]                                    ]                                    ]                                    ]==============>                                    ]]]                                    ]>                                    ]]]]]>                                    ]==============>                                    ]]                                    ]                                    ]]]]]]]]==============>                                    ]==============>                                    ]                                    ]                                    ]>                                    ]]==============>                                    ]]                                    ]                                    ]                                    ]                                    ]]                                    ]]>                                    ]]]>                                    ]                                    ]]                                    ]                                    ]]>                                    ]]]                                    ]]]]                                    ]==============>                                    ]]==============>                                    ]]]]==============>                                    ]                                    ]>                                    ]                                    ]>                                    ]]                                    ]>                                    ]]                                    ]]                                    ]]]]]>                                    ]]==============>                                    ]]>                                    ]]]]==============>                                    ]]                                    ]                                    ]>                                    ]]]>                                   ]]===============>                                   ]===============>                                   ]]===============>                                   ]]>                                   ]===============>                                   ]                                   ]]]===============>                                   ]]]===============>                                   ]]                                   ]===============>                                   ]                                   ]]]===============>                                   ]]]                                   ]===============>                                   ]===============>                                   ]]]>                                   ]                                   ]===============>                                   ]>                                   ]===============>                                   ]>                                   ]]]]]                                   ]]===============>                                   ]                                   ]                                   ]===============>                                   ]]===============>                                   ]===============>                                   ]===============>                                   ]                                   ]                                   ]===============>                                   ]===============>                                   ]===============>                                   ]                                   ]                                   ]===============>                                   ]>                                   ]                                   ]===============>                                   ]===============>                                   ]===============>                                   ]>                                   ]                                   ]===============>                                   ]]>                                   ]                                   ]]>                                   ]>                                   ]                                   ]                                   ]]===============>                                   ]>                                   ]===============>                                   ]>                                   ]>                                   ]]                                   ]]===============>                                   ]]]                                   ]]===============>                                   ]===============>                                   ]                                   ]===============>                                   ]===============>                                   ]                                   ]===============>                                   ]                                   ]===============>                                   ]]                                   ]>                                   ]>                                   ]                                   ]]>                                   ]]>                                   ]]===============>                                   ]]===============>                                   ]]                                   ]>                                   ]===============>                                   ]===============>                                   ]]===============>                                   ]>                                   ]]                                   ]]                                   ]===============>                                   ]===============>                                   ]>                                   ]                                   ]>                                   ]                                   ]>                                   ]]>                                   ]===============>                                   ]===============>                                   ]===============>                                   ]]>                                   ]>                                   ]>                                   ]===============>                                   ]===============>                                   ]                                   ]>                                   ]]>                                   ]>                                   ]]]                                   ]===============>                                   ]                                   ]]===============>                                   ]]===============>                                   ]                                   ]                                   ]]===============>                                   ]                                   ]===============>                                   ]]]===============>                                   ]]]>                                   ]]>                                   ]===============>                                   ]>                                   ]]]>                                   ]                                   ]]                                   ]                                   ]===============>                                   ]>                                   ]                                   ]]                                   ]>                                   ]                                   ]]===============>                                   ]]]                                   ]]                                   ]>                                   ]]>                                   ]                                   ]                                   ]===============>                                   ]                                   ]]]]                                   ]===============>                                   ]===============>                                   ]===============>                                   ]>                                   ]]>                                   ]                                   ]>                                   ]]===============>                                   ]]]===============>                                   ]>                                   ]]]]]                                   ]]>                                   ]===============>                                   ]===============>                                   ]]                                   ]                                   ]>                                   ]]]===============>                                   ]===============>                                   ]===============>                                   ]>                                   ]]]===============>                                   ]]===============>                                   ]>                                   ]]===============>                                   ]===============>                                   ]                                   ]]>                                   ]>                                   ]===============>                                   ]===============>                                   ]>                                   ]]>                                   ]===============>                                   ]===============>                                   ]                                   ]]]]]>                                   ]]===============>                                   ]>                                   ]]]]]]                                   ]===============>                                   ]                                   ]]]]===============>                                   ]]]                                   ]                                   ]]]                                   ]===============>                                   ]===============>                                   ]===============>                                   ]]                                   ]]                                   ]===============>                                   ]                                   ]===============>                                   ]]]]]                                   ]]                                   ]]===============>                                   ]                                   ]]>                                   ]===============>                                   ]>                                   ]                                   ]===============>                                   ]]===============>                                   ]===============>                                   ]]>                                   ]===============>                                   ]                                   ]===============>                                   ]>                                   ]>                                   ]===============>                                   ]>                                   ]===============>                                   ]                                   ]                                   ]]===============>                                   ]>                                   ]]===============>                                   ]===============>                                   ]]===============>                                   ]===============>                                   ]]>                                  ]================>                                  ]]================>                                  ]]                                  ]================>                                  ]                                  ]]================>                                  ]>                                  ]]]]                                  ]]]>                                  ]                                  ]]]]                                  ]>                                  ]]]]                                  ]]]================>                                  ]]]]]]]]                                  ]>                                  ]]================>                                  ]]]================>                                  ]>                                  ]                                  ]                                  ]                                  ]================>                                  ]================>                                  ]]                                  ]================>                                  ]]================>                                  ]]>                                  ]]================>                                  ]                                  ]                                  ]]================>                                  ]                                  ]>                                  ]]================>                                  ]                                  ]]]>                                  ]]>                                  ]                                  ]>                                  ]>                                  ]                                  ]================>                                  ]                                  ]                                  ]================>                                  ]================>                                  ]                                  ]                                  ]                                  ]]================>                                  ]                                  ]]]]]]]]                                  ]                                  ]                                  ]]                                  ]]                                  ]]                                  ]                                  ]================>                                  ]]                                  ]]                                  ]>                                  ]>                                  ]]================>                                  ]================>                                  ]                                  ]                                  ]]                                  ]]                                  ]>                                  ]                                  ]>                                  ]]]                                  ]================>                                  ]================>                                  ]>                                  ]]>                                  ]                                  ]                                  ]]                                  ]]>                                  ]]                                  ]                                  ]]                                  ]]                                  ]]]                                  ]================>                                  ]]                                  ]================>                                  ]]]                                  ]]================>                                  ]]                                  ]>                                  ]                                  ]                                  ]>                                  ]================>                                  ]                                  ]                                  ]                                  ]>                                  ]>                                  ]================>                                  ]>                                  ]]                                  ]>                                  ]>                                  ]>                                  ]>                                  ]]>                                  ]>                                  ]================>                                  ]                                  ]                                  ]]]]]>                                  ]                                  ]                                  ]]]>                                  ]================>                                  ]]================>                                  ]================>                                  ]]                                  ]                                  ]================>                                  ]>                                  ]>                                  ]                                  ]>                                  ]                                  ]]]                                  ]>                                  ]                                  ]]                                  ]]                                  ]                                  ]                                  ]================>                                  ]]                                  ]]]]================>                                  ]                                  ]]                                  ]]]================>                                  ]>                                  ]]                                  ]                                  ]                                  ]>                                  ]]================>                                  ]================>                                  ]================>                                  ]                                  ]                                  ]]================>                                  ]================>                                  ]                                  ]]                                  ]                                  ]                                  ]                                  ]]                                  ]>                                  ]]                                  ]>                                  ]]                                  ]================>                                  ]>                                  ]]]]                                  ]                                  ]                                  ]================>                                  ]]                                  ]>                                  ]>                                  ]                                  ]]]]]]]]]]================>                                  ]                                  ]================>                                  ]================>                                  ]]                                  ]>                                  ]                                  ]                                  ]]]================>                                  ]>                                  ]================>                                  ]                                  ]================>                                  ]]]================>                                  ]                                  ]================>                                  ]                                  ]]]>                                  ]]================>                                  ]]]]================>                                  ]                                  ]>                                  ]================>                                  ]>                                  ]                                  ]================>                                  ]]                                  ]                                  ]================>                                  ]                                  ]                                  ]>                                  ]]]]]                                  ]]]                                  ]]                                  ]]================>                                  ]                                  ]                                  ]                                  ]]]================>                                  ]]================>                                  ]]                                  ]]]]================>                                  ]================>                                  ]]]]]>                                  ]>                                  ]]================>                                  ]                                  ]                                  ]================>                                  ]]================>                                  ]]                                  ]]>                                  ]]                                  ]================>                                  ]]================>                                  ]]]================>                                  ]================>                                  ]]                                  ]]]================>                                  ]]]>                                  ]================>                                  ]                                  ]]                                  ]                                  ]                                  ]================>                                  ]]                                  ]>                                  ]                                  ]================>                                  ]]================>                                  ]]================>                                  ]================>                                  ]                                  ]]]                                  ]]]]                                 ]=================>                                 ]]]                                 ]]]                                 ]>                                 ]]                                 ]                                 ]=================>                                 ]=================>                                 ]]>                                 ]>                                 ]                                 ]>                                 ]]>                                 ]                                 ]>                                 ]]]                                 ]]=================>                                 ]=================>                                 ]>                                 ]>                                 ]]]>                                 ]                                 ]=================>                                 ]]>                                 ]                                 ]                                 ]>                                 ]                                 ]>                                 ]>                                 ]>                                 ]=================>                                 ]]]]]                                 ]                                 ]>                                 ]]                                 ]                                 ]]                                 ]=================>                                 ]=================>                                 ]]                                 ]]]=================>                                 ]=================>                                 ]]                                 ]                                 ]=================>                                 ]]                                 ]                                 ]=================>                                 ]]                                 ]]=================>                                 ]                                 ]                                 ]>                                 ]]]                                 ]>                                 ]]                                 ]]]                                 ]]                                 ]                                 ]>                                 ]                                 ]                                 ]]]]=================>                                 ]]]                                 ]                                 ]]]                                 ]]                                 ]                                 ]]=================>                                 ]]                                 ]]]]>                                 ]]]                                 ]]]                                 ]                                 ]                                 ]]]>                                 ]=================>                                 ]]]                                 ]=================>                                 ]                                 ]]]=================>                                 ]]                                 ]=================>                                 ]=================>                                 ]]                                 ]=================>                                 ]>                                 ]>                                 ]=================>                                 ]=================>                                 ]=================>                                 ]=================>                                 ]=================>                                 ]]>                                 ]                                 ]]=================>                                 ]]=================>                                 ]]]                                 ]]]                                 ]=================>                                 ]>                                 ]]>                                 ]]>                                 ]]=================>                                 ]]>                                 ]=================>                                 ]]]                                 ]                                 ]                                 ]=================>                                 ]]]>                                 ]]=================>                                 ]]]                                 ]]]]>                                 ]=================>                                 ]]>                                 ]=================>                                 ]                                 ]                                 ]]                                 ]                                 ]=================>                                 ]]>                                 ]]=================>                                 ]=================>                                 ]>                                 ]                                 ]]>                                 ]]=================>                                 ]>                                 ]                                 ]]]                                 ]                                 ]                                 ]                                 ]]]]=================>                                 ]=================>                                 ]                                 ]=================>                                 ]>                                 ]]                                 ]                                 ]=================>                                 ]>                                 ]                                 ]]>                                 ]]]                                 ]                                 ]]]                                 ]]]>                                 ]                                 ]]]                                 ]                                 ]]>                                 ]]=================>                                 ]>                                 ]                                 ]=================>                                 ]]>                                 ]                                 ]                                 ]]                                 ]                                 ]]=================>                                 ]]]                                 ]>                                 ]]]                                 ]                                 ]                                 ]=================>                                 ]]                                 ]=================>                                 ]]=================>                                 ]]]=================>                                 ]                                 ]]]]=================>                                 ]]>                                 ]=================>                                 ]]>                                 ]]                                 ]                                 ]]=================>                                 ]]                                 ]]                                 ]                                 ]=================>                                 ]]]                                 ]=================>                                 ]>                                 ]>                                 ]]]                                 ]>                                 ]=================>                                 ]]]=================>                                 ]>                                 ]]                                 ]                                 ]>                                 ]]                                 ]=================>                                 ]]>                                 ]]                                 ]>                                 ]]                                 ]]]=================>                                 ]                                 ]]]]]>                                 ]]]]]]]                                 ]=================>                                 ]]                                 ]                                 ]]]                                 ]                                 ]                                 ]                                 ]]>                                 ]]                                 ]]                                 ]]]]]>                                 ]]                                 ]]=================>                                 ]                                 ]]]                                 ]=================>                                 ]                                 ]=================>                                 ]                                 ]]                                 ]=================>                                 ]]=================>                                 ]]]>                                 ]=================>                                 ]=================>                                 ]]                                 ]>                                 ]=================>                                 ]=================>                                 ]]                                 ]=================>                                 ]=================>                                 ]]=================>                                 ]]                                 ]]>                                 ]>                                 ]]]=================>                                 ]]]=================>                                 ]=================>                                 ]                                 ]]]]                                 ]]]=================>                                 ]]                                 ]                                 ]>                                 ]]>                                 ]]]                                 ]]]                                 ]]]                                 ]]                                 ]                                 ]]                                 ]=================>                                 ]=================>                                 ]=================>                                 ]]                                 ]                                 ]]                                 ]                                 ]>                                 ]]]]                                 ]]=================>                                 ]]>                                 ]=================>                                 ]                                 ]                                 ]]]                                 ]]]>                                 ]]                                 ]]=================>                                 ]=================>                                 ]]]                                 ]]]                                 ]]]                                 ]=================>                                 ]                                 ]=================>                                 ]>                                 ]                                 ]                                 ]>                                 ]>                                 ]]]>                                 ]                                 ]]>                                 ]]=================>                                 ]]]]]>                                 ]=================>                                 ]>                                 ]]                                 ]]                                 ]]]]]]=================>                                 ]]]]>                                 ]>                                 ]]]]>                                 ]=================>                                 ]]]=================>                                 ]]]]=================>                                 ]]]]=================>                                 ]]]]>                                 ]>                                 ]>                                 ]                                 ]]                                 ]=================>                                 ]                                 ]                                 ]]]                                 ]=================>                                 ]=================>                                 ]=================>                                 ]                                 ]                                 ]=================>                                 ]>                                 ]]=================>                                 ]                                 ]]]                                 ]]=================>                                 ]=================>                                 ]                                 ]=================>                                 ]                                 ]                                 ]]                                 ]]                                 ]]]]>                                 ]]>                                 ]]=================>                                 ]>                                 ]=================>                                 ]                                 ]                                 ]=================>                                 ]                                 ]=================>                                 ]]                                 ]]]]]]                                 ]=================>                                 ]]>                                 ]]]=================>                                 ]>                                 ]=================>                                 ]]]                                 ]                                 ]=================>                                 ]]=================>                                 ]                                 ]]=================>                                 ]]                                 ]                                 ]=================>                                 ]]                                 ]]]                                ]>                                ]>                                ]]]==================>                                ]                                ]]]]==================>                                ]>                                ]]                                ]]>                                ]==================>                                ]]]]==================>                                ]==================>                                ]                                ]]]==================>                                ]                                ]]]==================>                                ]                                ]==================>                                ]                                ]                                ]]]]==================>                                ]]                                ]>                                ]                                ]]                                ]>                                ]                                ]==================>                                ]==================>                                ]]]                                ]==================>                                ]                                ]>                                ]]]]]]]]                                ]]]                                ]                                ]                                ]]==================>                                ]                                ]]                                ]                                ]]]                                ]]]>                                ]]]                                ]]]==================>                                ]==================>                                ]                                ]                                ]==================>                                ]]]                                ]                                ]==================>                                ]]]                                ]==================>                                ]]                                ]]]==================>                                ]                                ]==================>                                ]                                ]                                ]                                ]                                ]]==================>                                ]]==================>                                ]==================>                                ]]                                ]==================>                                ]                                ]]]                                ]>                                ]]                                ]]]]                                ]]                                ]>                                ]                                ]>                                ]                                ]>                                ]>                                ]>                                ]]                                ]>                                ]]                                ]]]                                ]==================>                                ]==================>                                ]                                ]                                ]==================>                                ]]>                                ]>                                ]                                ]]                                ]]                                ]]                                ]                                ]                                ]==================>                                ]                                ]>                                ]]==================>                                ]>                                ]]]==================>                                ]                                ]]]==================>                                ]>                                ]]                                ]                                ]]]]==================>                                ]]]                                ]]                                ]>                                ]]>                                ]]]                                ]>                                ]]>                                ]]                                ]>                                ]]==================>                                ]]                                ]                                ]                                ]==================>                                ]                                ]]                                ]>                                ]]                                ]]                                ]]                                ]                                ]>                                ]>                                ]]]                                ]>                                ]]>                                ]==================>                                ]                                ]>                                ]]                                ]]]]                                ]]==================>                                ]==================>                                ]]]]]]]]>                                ]>                                ]>                                ]]>                                ]                                ]]]>                                ]==================>                                ]]]]                                ]                                ]]]]>                                ]                                ]>                                ]]]]==================>                                ]                                ]                                ]                                ]]                                ]==================>                                ]>                                ]>                                ]                                ]]]>                                ]]]                                ]]>                                ]]]]]]>                                ]                                ]]>                                ]>                                ]]                                ]>                                ]]]                                ]>                                ]                                ]                                ]]]                                ]]]]]]==================>                                ]                                ]>                                ]                                ]==================>                                ]                                ]]                                ]                                ]]                                ]]]]]]                                ]                                ]]]                                ]]==================>                                ]]]]]]                                ]                                ]                                ]>                                ]]]>                                ]==================>                                ]]]]]]                                ]                                ]==================>                                ]]>                                ]]                                ]                                ]]]]                                ]]]==================>                                ]>                                ]                                ]>                                ]==================>                                ]                                ]]>                                ]]]                                ]                                ]]                                ]]                                ]]]                                ]]]]]>                                ]>                                ]]                                ]]]]                                ]                                ]==================>                                ]]]>                                ]>                                ]                                ]                                ]]                                ]>                                ]]>                                ]]>                                ]                                ]]]]]                                ]]]]]]                                ]                                ]]]                                ]>                                ]]>                                ]                                ]]>                                ]                                ]]>                                ]]>                                ]]]]>                                ]]]==================>                                ]                                ]]==================>                                ]]]]                                ]]                                ]                                ]]==================>                                ]]                                ]                                ]]]==================>                                ]]]>                                ]                                ]>                                ]                                ]                                ]==================>                                ]]]]                                ]]==================>                                ]>                                ]]==================>                                ]==================>                                ]]                                ]>                                ]]]>                                ]]                                ]                                ]==================>                                ]]                                ]]]]                                ]                                ]]]                                ]]]==================>                                ]                                ]                                ]]]==================>                                ]]>                                ]                                ]                                ]>                                ]                                ]]]]==================>                                ]]]]]]                                ]                                ]]]]]]>                                ]]]>                                ]>                                ]]>                                ]]>                                ]==================>                                ]]==================>                                ]]]                                ]                                ]]>                                ]                                ]>                                ]==================>                                ]>                                ]==================>                                ]==================>                                ]]]]                                ]]>                                ]]]]]]==================>                                ]]]                                ]                                ]                                ]]]]                                ]==================>                                ]                                ]>                                ]                                ]                                ]]                                ]]]>                                ]                                ]]                                ]                                ]]]==================>                                ]]==================>                                ]                                ]>                                ]>                                ]>                                ]                                ]]                                ]>                                ]                                ]>                                ]                                ]                                ]]>                                ]]                                ]                                ]]]]==================>                                ]]]]>                                ]]                                ]]]]>                                ]]                                ]]                                ]                                ]>                                ]==================>                                ]                                ]==================>                                ]]]]]]>                                ]]]>                                ]                                ]]]]]]==================>                                ]>                                ]>                                ]]                                ]]]                                ]]                                ]]                                ]                                ]]]>                                ]]                                ]>                                ]                                ]                                ]]                                ]                                ]                                ]                                ]]]]==================>                                ]==================>                                ]                                ]>                                ]                                ]]]                                ]]]>                                ]]                                ]                                ]>                                ]]>                                ]]]                                ]]                                ]]]                                ]]>                                ]==================>                                ]]]==================>                                ]                                ]]>                                ]]                                ]]                                ]                                ]]                                ]]                                ]                                ]                                ]==================>                                ]                                ]]]]>                                ]                                ]==================>                                ]                                ]                                ]>                                ]]>                                ]]                                ]]]]]]                                ]]==================>                                ]                                ]==================>                                ]]>                                ]>                                ]>                                ]==================>                                ]>                                ]]==================>                                ]]>                                ]                                ]]]]                                ]]]                                ]]                                ]]]==================>                                ]]>                                ]                                ]]]>                                ]>                                ]]==================>                                ]]]]==================>                                ]]]]>                                ]                                ]                                ]]                                ]                                ]>                                ]                                ]                                ]==================>                                ]                                ]>                                ]==================>                                ]==================>                                ]                                ]]]]                                ]==================>                                ]]]]                                ]]]>                                ]==================>                                ]]]]]]]==================>                                ]==================>                                ]]>                                ]                                ]==================>                                ]                                ]                                ]]]]]]                                ]]>                                ]]]]]]]]                                ]                                ]]]                                ]]>                                ]]==================>                                ]]]]==================>                                ]==================>                                ]]>                                ]==================>                                ]]]==================>                                ]                                ]==================>                                ]                                ]==================>                                ]==================>                                ]                                ]]>                                ]                                ]                                ]]                                ]]]==================>                                ]]]]==================>                                ]]]                                ]>                                ]>                                ]]]]>                                ]                                ]]]                                ]                                ]                                ]]]]                                ]                                ]]                                ]]]]]                                ]                                ]                                ]==================>                                ]]==================>                                ]]==================>                                ]]]>                                ]]]]                                ]                                ]]                                ]]]>                                ]                                ]>                                ]>                                ]                                ]]]>                                ]>                                ]                                ]]]]]]>                                ]                               ]]]                               ]                               ]                               ]]]                               ]]===================>                               ]]>                               ]                               ]]                               ]]                               ]>                               ]===================>                               ]]]                               ]>                               ]>                               ]                               ]]]>                               ]                               ]                               ]]===================>                               ]]]]]===================>                               ]]>                               ]]]]]===================>                               ]]>                               ]]]]]]===================>                               ]]>                               ]===================>                               ]>                               ]]]>                               ]>                               ]                               ]===================>                               ]                               ]===================>                               ]]]>                               ]===================>                               ]]>                               ]                               ]>                               ]                               ]===================>                               ]]]>                               ]                               ]]===================>                               ]]>                               ]===================>                               ]                               ]]                               ]]]]]>                               ]]]]                               ]>                               ]                               ]]                               ]]                               ]>                               ]                               ]>                               ]>                               ]                               ]>                               ]                               ]]>                               ]]]]>                               ]]]===================>                               ]                               ]]                               ]]===================>                               ]]                               ]                               ]]]===================>                               ]]===================>                               ]                               ]]===================>                               ]                               ]]]>                               ]]                               ]]]]]>                               ]]]]]]>                               ]>                               ]                               ]>                               ]                               ]]]===================>                               ]]]                               ]]]]]                               ]===================>                               ]]]                               ]                               ]                               ]]===================>                               ]]                               ]                               ]]===================>                               ]]===================>                               ]]]]]]]>                               ]>                               ]]>                               ]]]]>                               ]]]]                               ]>                               ]]]]]>                               ]                               ]                               ]                               ]>                               ]]]]>                               ]]>                               ]                               ]]                               ]>                               ]]]===================>                               ]]>                               ]]                               ]>                               ]]]                               ]                               ]]>                               ]===================>                               ]                               ]===================>                               ]                               ]                               ]]>                               ]>                               ]>                               ]]]                               ]]>                               ]]                               ]                               ]]===================>                               ]>                               ]===================>                               ]]                               ]]                               ]]]]]]                               ]                               ]]                               ]]>                               ]>                               ]                               ]>                               ]                               ]]]                               ]]===================>                               ]                               ]]                               ]]===================>                               ]]>                               ]                               ]]]]                               ]===================>                               ]]]]]]===================>                               ]                               ]]                               ]]]]]]]]]                               ]                               ]]>                               ]                               ]                               ]===================>                               ]]===================>                               ]                               ]]>                               ]                               ]]]===================>                               ]>                               ]>                               ]]                               ]                               ]]                               ]]                               ]]                               ]]]]]                               ]                               ]                               ]]                               ]]>                               ]>                               ]]]                               ]>                               ]]                               ]                               ]                               ]===================>                               ]]]]]>                               ]===================>                               ]]                               ]===================>                               ]>                               ]]]]]]                               ]===================>                               ]]]>                               ]]]]                               ]                               ]]                               ]>                               ]                               ]]===================>                               ]>                               ]]]]                               ]]]]===================>                               ]>                               ]>                               ]]]                               ]                               ]]===================>                               ]]                               ]]]===================>                               ]===================>                               ]]]]]]]                               ]                               ]>                               ]]                               ]===================>                               ]                               ]]                               ]>                               ]]]>                               ]]                               ]]                               ]>                               ]                               ]]]]]>                               ]                               ]]]]>                               ]]]]                               ]                               ]                               ]]]                               ]]                               ]>                               ]]>                               ]]>                               ]]                               ]]                               ]]]                               ]]]                               ]]                               ]===================>                               ]]                               ]===================>                               ]]]>                               ]===================>                               ]                               ]===================>                               ]>                               ]]]]>                               ]                               ]                               ]]]                               ]]]>                               ]]>                               ]>                               ]]]===================>                               ]]]]]]]>                               ]                               ]                               ]                               ]]                               ]                               ]]]                               ]===================>                               ]                               ]                               ]]]===================>                               ]                               ]                               ]]]>                               ]                               ]]]]                               ]]]]>                               ]===================>                               ]]]]>                               ]                               ]]]===================>                               ]                               ]]]]                               ]]>                               ]]]]]===================>                               ]]]                               ]>                               ]]]===================>                               ]]                               ]                               ]                               ]                               ]>                               ]>                               ]]===================>                               ]                               ]]]                               ]===================>                               ]]]                               ]>                               ]                               ]>                               ]]>                               ]===================>                               ]                               ]]===================>                               ]]>                               ]]]]===================>                               ]                               ]                               ]                               ]]]===================>                               ]]]                               ]]>                               ]]===================>                               ]>                               ]]                               ]]                               ]===================>                               ]]]>                               ]]                               ]]===================>                               ]>                               ]===================>                               ]                               ]]]                               ]]]===================>                               ]>                               ]>                               ]                               ]]]]>                               ]]>                               ]                               ]]]===================>                               ]]                               ]===================>                               ]                               ]                               ]===================>                               ]]]>                               ]]>                               ]]]]]]]]]                               ]]                               ]]>                               ]===================>                               ]]===================>                               ]]]]>                               ]]>                               ]]]>                               ]]===================>                               ]                               ]]]>                               ]]]]>                               ]===================>                               ]]                               ]]]]]]]>                               ]===================>                               ]]>                               ]===================>                               ]                               ]]]>                               ]                               ]]]>                               ]                               ]                               ]]                               ]>                               ]                               ]]                               ]]===================>                               ]===================>                               ]]===================>                               ]>                               ]]]                               ]]                               ]]]===================>                               ]]>                               ]>                               ]===================>                               ]]]                               ]                               ]]===================>                               ]>                               ]>                               ]                               ]                               ]>                               ]]]]]]]]]===================>                               ]                               ]]                               ]]]]>                               ]>                               ]                               ]                               ]]===================>                               ]]                               ]]===================>                               ]]]===================>                               ]]                               ]                               ]                               ]===================>                               ]]                               ]]]                               ]>                               ]]]                               ]                               ]]                               ]                               ]                               ]                               ]]>                               ]]]===================>                               ]===================>                               ]===================>                               ]                               ]]                               ]]]]]                               ]]>                               ]]]]]]]>                               ]                               ]                               ]]>                               ]]>                               ]>                               ]>                               ]===================>                               ]]===================>                               ]]===================>                               ]]>                               ]]>                               ]                               ]===================>                               ]]>                               ]                               ]]>                               ]>                               ]===================>                               ]                               ]                               ]                               ]]                               ]===================>                               ]]]>                               ]]===================>                               ]]                               ]]                               ]]===================>                               ]                               ]===================>                               ]]                               ]                               ]]===================>                               ]>                               ]                               ]>                               ]]                               ]                               ]                               ]                               ]                               ]]                               ]                               ]                               ]]]]]===================>                               ]                               ]]                               ]>                               ]===================>                               ]>                               ]>                               ]                               ]                               ]                               ]]]]                               ]===================>                               ]]>                               ]>                               ]                               ]]                               ]===================>                               ]>                               ]]                               ]                               ]]===================>                               ]>                               ]>                               ]===================>                               ]>                               ]                               ]]]>                               ]                               ]]                               ]                               ]>                               ]===================>                               ]]===================>                               ]]                               ]                               ]]]                               ]                               ]                               ]]>                               ]>                               ]>                               ]>                               ]>                               ]]>                               ]>                               ]]                               ]>                               ]>                               ]]]                               ]===================>                               ]]]>                               ]]===================>                               ]                               ]                               ]]                               ]===================>                               ]                               ]===================>                               ]                               ]]>                               ]                               ]]]                               ]>                               ]                               ]]===================>                               ]]]>                               ]]                               ]>                               ]]]]]>                               ]]]===================>                               ]                               ]                               ]]                               ]]]>                               ]                               ]===================>                               ]]]                               ]===================>                               ]>                               ]]]]>                               ]===================>                               ]]]>                               ]                               ]]]]                               ]]]]===================>                               ]                               ]                               ]                               ]]>                               ]===================>                               ]                               ]                               ]]>                               ]                               ]]]>                               ]>                               ]]]                               ]                               ]===================>                               ]                               ]>                               ]]>                               ]]===================>                               ]]>                               ]]]                               ]]>                               ]===================>                               ]>                               ]]]===================>                               ]                              ]====================>                              ]]====================>                              ]]>                              ]]]>                              ]]                              ]====================>                              ]====================>                              ]]                              ]                              ]]>                              ]                              ]]]>                              ]]                              ]]]]                              ]====================>                              ]                              ]]]]]====================>                              ]====================>                              ]]====================>                              ]>                              ]                              ]>                              ]]                              ]>                              ]                              ]                              ]                              ]                              ]]                              ]]                              ]                              ]                              ]]]]]]]]                              ]]====================>                              ]]====================>                              ]]                              ]]]>                              ]]                              ]>                              ]]                              ]====================>                              ]]                              ]]>                              ]]>                              ]                              ]                              ]]]>                              ]>                              ]]]]                              ]]                              ]]]                              ]====================>                              ]]]>                              ]]]>                              ]]]]]]>                              ]]]]]                              ]]]>                              ]                              ]====================>                              ]====================>                              ]                              ]]]                              ]                              ]====================>                              ]]]]]]]]]                              ]>                              ]]]>                              ]                              ]>                              ]                              ]>                              ]====================>                              ]]====================>                              ]]                              ]]]]]>                              ]                              ]]]]====================>                              ]>                              ]]]>                              ]====================>                              ]]]]                              ]>                              ]]                              ]>                              ]]                              ]====================>                              ]]]]                              ]]====================>                              ]]>                              ]]====================>                              ]]                              ]]====================>                              ]>                              ]]]]]                              ]                              ]                              ]>                              ]>                              ]]>                              ]>                              ]]]]                              ]====================>                              ]]]]>                              ]====================>                              ]                              ]                              ]]>                              ]====================>                              ]>                              ]]]>                              ]====================>                              ]                              ]>                              ]====================>                              ]====================>                              ]]]                              ]]                              ]]]]]>                              ]]                              ]]]                              ]>                              ]                              ]]>                              ]                              ]]]>                              ]====================>                              ]]]]]>                              ]>                              ]]]                              ]]                              ]]>                              ]]]]]>                              ]]                              ]====================>                              ]]]]]]                              ]>                              ]====================>                              ]]                              ]>                              ]]]]]                              ]====================>                              ]                              ]]====================>                              ]>                              ]>                              ]====================>                              ]]]]]>                              ]                              ]                              ]]]====================>                              ]]                              ]                              ]]]                              ]]]]]                              ]>                              ]                              ]                              ]                              ]                              ]]>                              ]>                              ]                              ]]]]>                              ]                              ]]]]]]>                              ]====================>                              ]]                              ]                              ]]>                              ]                              ]]====================>                              ]]>                              ]>                              ]]>                              ]                              ]]]]]]                              ]]]]]                              ]                              ]====================>                              ]                              ]                              ]                              ]                              ]]                              ]>                              ]====================>                              ]                              ]====================>                              ]]====================>                              ]]                              ]====================>                              ]                              ]>                              ]]====================>                              ]]====================>                              ]                              ]                              ]====================>                              ]]]]]                              ]                              ]]>                              ]>                              ]====================>                              ]]]]                              ]>                              ]                              ]>                              ]]]]                              ]>                              ]]]>                              ]====================>                              ]====================>                              ]]]                              ]                              ]]>                              ]====================>                              ]                              ]>                              ]]                              ]====================>                              ]                              ]]                              ]]====================>                              ]]]====================>                              ]]>                              ]]====================>                              ]                              ]>                              ]                              ]>                              ]                              ]>                              ]]]>                              ]>                              ]                              ]]]]>                              ]>                              ]                              ]====================>                              ]>                              ]                              ]]                              ]                              ]====================>                              ]====================>                              ]                              ]>                              ]                              ]]]]>                              ]>                              ]]>                              ]]====================>                              ]                              ]]====================>                              ]]]                              ]>                              ]]====================>                              ]]]]                              ]====================>                              ]====================>                              ]>                              ]]====================>                              ]>                              ]                              ]>                              ]]                              ]]]                              ]====================>                              ]>                              ]>                              ]]====================>                              ]                              ]]                              ]====================>                              ]====================>                              ]                              ]>                              ]]====================>                              ]>                              ]]]                              ]]====================>                              ]]]]]                              ]====================>                              ]>                              ]]                              ]>                              ]]]====================>                              ]>                              ]]                              ]>                              ]                              ]                              ]                              ]                              ]]====================>                              ]]                              ]====================>                              ]                              ]]                              ]]>                              ]]>                              ]>                              ]]>                              ]]                              ]====================>                              ]>                              ]]====================>                              ]]]]====================>                              ]]]]                              ]====================>                              ]]]                              ]]>                              ]>                              ]====================>                              ]]]]>                              ]]====================>                              ]>                              ]]]>                              ]====================>                              ]]>                              ]                              ]                              ]>                              ]                              ]]====================>                              ]]>                              ]]]]====================>                              ]                              ]]>                              ]>                              ]]>                              ]                              ]                              ]]                              ]]]]]====================>                              ]>                              ]>                              ]]                              ]====================>                              ]>                              ]                              ]                              ]                              ]>                              ]]                              ]====================>                              ]]                              ]]]====================>                              ]====================>                              ]====================>                              ]]>                              ]                              ]====================>                              ]]]====================>                              ]]]                              ]]]                              ]]                              ]====================>                              ]                              ]====================>                              ]                              ]]]>                              ]                              ]>                              ]                              ]>                              ]====================>                              ]>                              ]                              ]                              ]]                              ]                              ]]                              ]====================>                              ]]]====================>                              ]]====================>                              ]]                              ]====================>                              ]                              ]                              ]]====================>                              ]====================>                              ]====================>                              ]====================>                              ]]]                              ]====================>                              ]>                              ]>                              ]]====================>                              ]                              ]>                              ]                              ]]>                              ]>                              ]>                              ]>                              ]]]>                              ]]====================>                              ]                              ]]====================>                              ]]                              ]                              ]]]====================>                              ]====================>                              ]>                              ]====================>                              ]]====================>                              ]====================>                              ]                              ]====================>                              ]                              ]                              ]====================>                              ]                              ]]                              ]                              ]]]>                              ]                              ]====================>                              ]>                              ]>                              ]>                              ]                              ]>                              ]>                              ]]>                              ]]                              ]]]>                              ]                              ]]]>                              ]                              ]]>                              ]                              ]====================>                              ]                              ]]                              ]====================>                              ]                              ]                              ]]>                              ]>                              ]                              ]                              ]>                              ]]                              ]]====================>                              ]                              ]====================>                              ]>                              ]]====================>                              ]====================>                              ]                              ]]]>                              ]]]                              ]                              ]                              ]]                              ]                              ]]]]>                              ]]                              ]]]]                              ]>                              ]                              ]                              ]>                              ]====================>                              ]                              ]]]>                              ]                              ]====================>                              ]]                              ]]====================>                              ]====================>                              ]                              ]>                              ]>                              ]]====================>                              ]>                              ]]>                              ]]]]]>                              ]                              ]]                              ]>                              ]>                              ]]                              ]====================>                              ]]                              ]>                              ]                              ]====================>                              ]]>                              ]>                              ]]]>                              ]]>                              ]]>                              ]]]                              ]]]====================>                              ]]>                              ]]]>                              ]                              ]]]]====================>                              ]]                              ]]                              ]]]                              ]>                              ]                              ]====================>                              ]                              ]                              ]                              ]====================>                              ]====================>                              ]]                              ]====================>                              ]                              ]]>                              ]                              ]>                              ]]>                              ]]====================>                              ]>                              ]                              ]]>                              ]                              ]                              ]                              ]]====================>                              ]>                              ]                              ]>                              ]]]]                              ]]====================>                              ]]]                              ]====================>                              ]                              ]====================>                              ]]>                              ]====================>                              ]====================>                              ]>                              ]]>                              ]]====================>                              ]]>                              ]                              ]]====================>                              ]                              ]>                              ]]]>                              ]>                              ]                              ]>                              ]>                              ]]]]]>                              ]]>                              ]]]                              ]>                              ]]>                              ]>                              ]                              ]]]]]                              ]]                              ]====================>                              ]>                              ]                              ]]                              ]]                              ]>                              ]                              ]]                              ]                              ]====================>                              ]]====================>                              ]>                              ]]                              ]]                              ]]]                              ]====================>                              ]]>                              ]]>                              ]====================>                              ]]]]                              ]]>                              ]>                              ]]]>                              ]                              ]]>                              ]>                              ]                              ]]]]]]]                              ]>                              ]>                              ]                              ]                              ]]                              ]                              ]                              ]]]                              ]]]]>                              ]                              ]]]>                              ]>                              ]====================>                              ]====================>                              ]>                              ]                              ]]                              ]>                              ]                              ]]]>                              ]                              ]]====================>                              ]]]]====================>                              ]]]                              ]]                              ]                              ]                              ]]====================>                              ]]>                              ]                              ]                              ]]>                              ]>                              ]                              ]]]>                              ]====================>                              ]]>                              ]                              ]]>                              ]]]>                              ]                              ]]]                              ]]>                              ]]]]====================>                              ]====================>                              ]]]]>                              ]>                              ]                              ]====================>                              ]>                              ]]>                              ]====================>                              ]                              ]                              ]]]                              ]]]====================>                              ]]]                              ]]]]====================>                              ]]]]>                              ]]]]]]]]====================>                              ]]]]]>                              ]>                              ]]                              ]]]>                              ]                              ]]]                              ]]                              ]]                              ]====================>                              ]]                              ]]>                              ]                              ]]]]>                              ]                              ]]                              ]>                              ]]]                              ]                              ]]]]]>                              ]====================>                              ]]]]>                              ]>                              ]====================>                              ]                              ]]                              ]>                              ]]]                              ]                              ]>                              ]]====================>                              ]]]>                              ]]                              ]]]                              ]====================>                              ]]]]                             ]                             ]                             ]                             ]]                             ]]>                             ]]=====================>                             ]=====================>                             ]]>                             ]]                             ]>                             ]]=====================>                             ]>                             ]=====================>                             ]                             ]                             ]=====================>                             ]]]                             ]                             ]]                             ]                             ]]=====================>                             ]                             ]]                             ]                             ]=====================>                             ]                             ]]]>                             ]>                             ]                             ]]]                             ]>                             ]>                             ]                             ]]                             ]>                             ]=====================>                             ]]]]]=====================>                             ]>                             ]]]                             ]]=====================>                             ]>                             ]]]                             ]]]]>                             ]                             ]]]]>                             ]]=====================>                             ]                             ]>                             ]                             ]]                             ]]]]>                             ]>                             ]>                             ]                             ]=====================>                             ]                             ]]]]>                             ]=====================>                             ]]]]>                             ]]]]                             ]>                             ]]]"
     ]
    },
    {
     "ename": "KeyboardInterrupt",
     "evalue": "",
     "output_type": "error",
     "traceback": [
      "\u001b[31m---------------------------------------------------------------------------\u001b[39m",
      "\u001b[31mKeyboardInterrupt\u001b[39m                         Traceback (most recent call last)",
      "\u001b[36mCell\u001b[39m\u001b[36m \u001b[39m\u001b[32mIn[13]\u001b[39m\u001b[32m, line 5\u001b[39m\n\u001b[32m      1\u001b[39m \u001b[38;5;66;03m# load the fastText model\u001b[39;00m\n\u001b[32m      2\u001b[39m \u001b[38;5;66;03m# 1 point for correctly loading the appropriate fastText model\u001b[39;00m\n\u001b[32m      4\u001b[39m \u001b[38;5;28;01mimport\u001b[39;00m\u001b[38;5;250m \u001b[39m\u001b[34;01mfasttext\u001b[39;00m\u001b[34;01m.\u001b[39;00m\u001b[34;01mutil\u001b[39;00m\n\u001b[32m----> \u001b[39m\u001b[32m5\u001b[39m \u001b[43mfasttext\u001b[49m\u001b[43m.\u001b[49m\u001b[43mutil\u001b[49m\u001b[43m.\u001b[49m\u001b[43mdownload_model\u001b[49m\u001b[43m(\u001b[49m\u001b[33;43m'\u001b[39;49m\u001b[33;43men\u001b[39;49m\u001b[33;43m'\u001b[39;49m\u001b[43m,\u001b[49m\u001b[43m \u001b[49m\u001b[43mif_exists\u001b[49m\u001b[43m=\u001b[49m\u001b[33;43m'\u001b[39;49m\u001b[33;43mignore\u001b[39;49m\u001b[33;43m'\u001b[39;49m\u001b[43m)\u001b[49m  \u001b[38;5;66;03m# English\u001b[39;00m\n\u001b[32m      6\u001b[39m ft = fasttext.load_model(\u001b[33m'\u001b[39m\u001b[33mcc.en.300.bin\u001b[39m\u001b[33m'\u001b[39m)\n",
      "\u001b[36mFile \u001b[39m\u001b[32m~/CL/.venv/lib/python3.12/site-packages/fasttext/util/util.py:204\u001b[39m, in \u001b[36mdownload_model\u001b[39m\u001b[34m(lang_id, if_exists, dimension)\u001b[39m\n\u001b[32m    201\u001b[39m     \u001b[38;5;28;01melif\u001b[39;00m if_exists == \u001b[33m'\u001b[39m\u001b[33moverwrite\u001b[39m\u001b[33m'\u001b[39m:\n\u001b[32m    202\u001b[39m         \u001b[38;5;28;01mpass\u001b[39;00m\n\u001b[32m--> \u001b[39m\u001b[32m204\u001b[39m \u001b[38;5;28;01mif\u001b[39;00m \u001b[43m_download_gz_model\u001b[49m\u001b[43m(\u001b[49m\u001b[43mgz_file_name\u001b[49m\u001b[43m,\u001b[49m\u001b[43m \u001b[49m\u001b[43mif_exists\u001b[49m\u001b[43m)\u001b[49m:\n\u001b[32m    205\u001b[39m     \u001b[38;5;28;01mwith\u001b[39;00m gzip.open(gz_file_name, \u001b[33m'\u001b[39m\u001b[33mrb\u001b[39m\u001b[33m'\u001b[39m) \u001b[38;5;28;01mas\u001b[39;00m f:\n\u001b[32m    206\u001b[39m         \u001b[38;5;28;01mwith\u001b[39;00m \u001b[38;5;28mopen\u001b[39m(file_name, \u001b[33m'\u001b[39m\u001b[33mwb\u001b[39m\u001b[33m'\u001b[39m) \u001b[38;5;28;01mas\u001b[39;00m f_out:\n",
      "\u001b[36mFile \u001b[39m\u001b[32m~/CL/.venv/lib/python3.12/site-packages/fasttext/util/util.py:178\u001b[39m, in \u001b[36m_download_gz_model\u001b[39m\u001b[34m(gz_file_name, if_exists)\u001b[39m\n\u001b[32m    175\u001b[39m         \u001b[38;5;28;01mpass\u001b[39;00m\n\u001b[32m    177\u001b[39m url = \u001b[33m\"\u001b[39m\u001b[33mhttps://dl.fbaipublicfiles.com/fasttext/vectors-crawl/\u001b[39m\u001b[38;5;132;01m%s\u001b[39;00m\u001b[33m\"\u001b[39m % gz_file_name\n\u001b[32m--> \u001b[39m\u001b[32m178\u001b[39m \u001b[43m_download_file\u001b[49m\u001b[43m(\u001b[49m\u001b[43murl\u001b[49m\u001b[43m,\u001b[49m\u001b[43m \u001b[49m\u001b[43mgz_file_name\u001b[49m\u001b[43m)\u001b[49m\n\u001b[32m    180\u001b[39m \u001b[38;5;28;01mreturn\u001b[39;00m \u001b[38;5;28;01mTrue\u001b[39;00m\n",
      "\u001b[36mFile \u001b[39m\u001b[32m~/CL/.venv/lib/python3.12/site-packages/fasttext/util/util.py:162\u001b[39m, in \u001b[36m_download_file\u001b[39m\u001b[34m(url, write_file_name, chunk_size)\u001b[39m\n\u001b[32m    160\u001b[39m             \u001b[38;5;28;01mbreak\u001b[39;00m\n\u001b[32m    161\u001b[39m         f.write(chunk)\n\u001b[32m--> \u001b[39m\u001b[32m162\u001b[39m         \u001b[43m_print_progress\u001b[49m\u001b[43m(\u001b[49m\u001b[43mdownloaded\u001b[49m\u001b[43m,\u001b[49m\u001b[43m \u001b[49m\u001b[43mfile_size\u001b[49m\u001b[43m)\u001b[49m\n\u001b[32m    164\u001b[39m os.rename(download_file_name, write_file_name)\n",
      "\u001b[36mFile \u001b[39m\u001b[32m~/CL/.venv/lib/python3.12/site-packages/fasttext/util/util.py:138\u001b[39m, in \u001b[36m_print_progress\u001b[39m\u001b[34m(downloaded_bytes, total_size)\u001b[39m\n\u001b[32m    136\u001b[39m sys.stdout.write(\u001b[33m\"\u001b[39m\u001b[33m=\u001b[39m\u001b[33m\"\u001b[39m * bar)\n\u001b[32m    137\u001b[39m sys.stdout.write(\u001b[33m\"\u001b[39m\u001b[33m>\u001b[39m\u001b[33m\"\u001b[39m)\n\u001b[32m--> \u001b[39m\u001b[32m138\u001b[39m \u001b[43msys\u001b[49m\u001b[43m.\u001b[49m\u001b[43mstdout\u001b[49m\u001b[43m.\u001b[49m\u001b[43mwrite\u001b[49m\u001b[43m(\u001b[49m\u001b[33;43m\"\u001b[39;49m\u001b[33;43m \u001b[39;49m\u001b[33;43m\"\u001b[39;49m\u001b[43m \u001b[49m\u001b[43m*\u001b[49m\u001b[43m \u001b[49m\u001b[43m(\u001b[49m\u001b[43mbar_size\u001b[49m\u001b[43m \u001b[49m\u001b[43m-\u001b[49m\u001b[43m \u001b[49m\u001b[43mbar\u001b[49m\u001b[43m)\u001b[49m\u001b[43m)\u001b[49m\n\u001b[32m    139\u001b[39m sys.stdout.write(\u001b[33m\"\u001b[39m\u001b[33m]\u001b[39m\u001b[38;5;130;01m\\r\u001b[39;00m\u001b[33m\"\u001b[39m)\n\u001b[32m    140\u001b[39m sys.stdout.flush()\n",
      "\u001b[36mFile \u001b[39m\u001b[32m~/CL/.venv/lib/python3.12/site-packages/IPython/core/interactiveshell.py:3025\u001b[39m, in \u001b[36mInteractiveShell._tee.<locals>.write\u001b[39m\u001b[34m(data, *args, **kwargs)\u001b[39m\n\u001b[32m   3022\u001b[39m stream = \u001b[38;5;28mgetattr\u001b[39m(sys, channel)\n\u001b[32m   3023\u001b[39m original_write = stream.write\n\u001b[32m-> \u001b[39m\u001b[32m3025\u001b[39m \u001b[38;5;28;01mdef\u001b[39;00m\u001b[38;5;250m \u001b[39m\u001b[34mwrite\u001b[39m(data, *args, **kwargs):\n\u001b[32m   3026\u001b[39m \u001b[38;5;250m    \u001b[39m\u001b[33;03m\"\"\"Write data to both the original destination and the capture dictionary.\"\"\"\u001b[39;00m\n\u001b[32m   3027\u001b[39m     result = original_write(data, *args, **kwargs)\n",
      "\u001b[31mKeyboardInterrupt\u001b[39m: "
     ]
    }
   ],
   "source": [
    "# load the fastText model\n",
    "# 1 point for correctly loading the appropriate fastText model\n",
    "\n",
    "import fasttext.util\n",
    "fasttext.util.download_model('en', if_exists='ignore')  # English\n",
    "ft = fasttext.load_model('cc.en.300.bin')"
   ]
  },
  {
   "cell_type": "markdown",
   "metadata": {
    "id": "rUD0VUJeRhr3"
   },
   "source": [
    "What is the dimensionality of the pre-trained Dutch fastText embeddings? (*1 point for the correct answer*)"
   ]
  },
  {
   "cell_type": "code",
   "execution_count": null,
   "metadata": {
    "id": "aW-XEksGR28U"
   },
   "outputs": [],
   "source": [
    "# encode Dutch words and pseudowords as fastText embeddings\n",
    "# show the first 20 values of the embedding of the word 'speelplaats' and of the pseudoword 'danchunk'\n",
    "# 2 points for correctly encoding words and pseudowords with fastText\n",
    "\n",
    "# Get embedding for 'speelplaats' (Dutch word)\n",
    "speelplaats_vec = ft.get_word_vector('speelplaats')\n",
    "print(\"First 20 values for 'speelplaats':\", speelplaats_vec[:20])\n",
    "\n",
    "# Get embedding for 'danchunk' (pseudoword)\n",
    "danchunk_vec = ft.get_word_vector('danchunk')\n",
    "print(\"First 20 values for 'danchunk':\", danchunk_vec[:20])"
   ]
  },
  {
   "cell_type": "code",
   "execution_count": null,
   "metadata": {
    "id": "3ePBth7cSAJU"
   },
   "outputs": [],
   "source": [
    "# train regression model on word valence\n",
    "# 1 point for correctly training the regression model"
   ]
  },
  {
   "cell_type": "code",
   "execution_count": null,
   "metadata": {
    "id": "REJnnM2mSHHK"
   },
   "outputs": [],
   "source": [
    "# apply the trained model to predict the valence of pseudowords from Gatti et al (2024).\n",
    "# Then apply the same model back onto the training set to see how well it predicts the valence of words in Speed and Brysbaert (2024).\n",
    "# 1 point for correctly applied model"
   ]
  },
  {
   "cell_type": "code",
   "execution_count": null,
   "metadata": {
    "id": "JIyyTyfHSKh5"
   },
   "outputs": [],
   "source": [
    "# compute the Spearman correlation coefficients between true valence and predicted valence for\n",
    "# - words from Speed and Brysbaert (2024)\n",
    "# - pseudowords from Gatti and colleagues (2024)\n",
    "# show the correlation coefficient.\n",
    "# 1 point for the correct Spearman correlation coefficients (rounded to the third decimal place)"
   ]
  },
  {
   "cell_type": "markdown",
   "metadata": {
    "id": "wnqKJ5XOSTbM"
   },
   "source": [
    "**Task 3** (*6 points available, see breakdown below*)\n",
    "\n",
    "Now you are asked to extend the work by Gatti et al by also considering the representations learned by a transformer-based models, in detail *RobBERT v2* (https://huggingface.co/pdelobelle/robbert-v2-dutch-base). You should follow the same pipeline as for the previous models, encoding both Dutch words from Speed and Brysbaert (2024) and the pseudowords from Gatti et al using the embedding of each string at layer 0, before positional information is factored in. If a string consists of multiple tokens, average the embeddings of all tokens to produce the embedding of the whole string. Then train a multiple regression model on the valence of Dutch words, apply it to the pseudowords, and compute the Spearman correlation between observed and predicted ratings.\n",
    "\n",
    "Use the HuggingFace model card for RobBERT v2 to check how to access it.\n",
    "\n",
    "I recommend saving the embeddings to file once you have generated them and you know they are correct: embedding thousands of strings takes some time, and you don't want to have to do it again. For the same reason, develop your code by considering only a small fractions of the words and pseudowords, in order to quickly see if something is wrong. Only when you are positive it works, embed all strings."
   ]
  },
  {
   "cell_type": "code",
   "execution_count": null,
   "metadata": {
    "collapsed": true,
    "id": "Ppi-Zcp6i9Rn"
   },
   "outputs": [],
   "source": [
    "# load and instantiate the right model\n",
    "# 1 point for loading the right model"
   ]
  },
  {
   "cell_type": "code",
   "execution_count": null,
   "metadata": {
    "id": "nGBaQgZqZzhw"
   },
   "outputs": [],
   "source": [
    "# encode the words and pseudowords using RobBERT v2. I've used the free GPU runtime on COLAB to speed things up,\n",
    "# but in this case you need to batch the words and pseudowords. You can use the function below to create batches\n",
    "# but you will have to pay attention at how you store embeddings.\n",
    "# show the first 20 values of the embedding of the word 'miauwen' and of the pseudoword 'lixthless'\n",
    "# 2 points for correctly encoding words and pseudowords\n",
    "\n",
    "def chunks(lst, n):\n",
    "\n",
    "    \"\"\"Chunks a list into equal chunks containing n elements. Returns a list of lists.\"\"\"\n",
    "\n",
    "    chunked = []\n",
    "    for i in range(0, len(lst), n):\n",
    "        chunked.append(lst[i:i + n])\n",
    "    return chunked\n"
   ]
  },
  {
   "cell_type": "code",
   "execution_count": null,
   "metadata": {
    "id": "BFq3hHCDUPjL"
   },
   "outputs": [],
   "source": [
    "# train regression model on word valence estimates from Speed and Brysbaert (2024)\n",
    "# 1 point for correctly training the regression model"
   ]
  },
  {
   "cell_type": "code",
   "execution_count": null,
   "metadata": {
    "id": "evaU9NAxUSoW"
   },
   "outputs": [],
   "source": [
    "# apply the trained model to predict the valence of pseudowords from Gatti et al (2024).\n",
    "# Then apply the same model back onto the training set to see how well it predicts the valence of words in Speed and Brysbaert (2024).\n",
    "# 1 point for correctly applied model"
   ]
  },
  {
   "cell_type": "code",
   "execution_count": null,
   "metadata": {
    "id": "JVcuHS02UUPd"
   },
   "outputs": [],
   "source": [
    "# compute the Spearman correlation coefficients between true valence and predicted valence for\n",
    "# - words from Speed and Brysbaert (2024)\n",
    "# - pseudowords from Gatti and colleagues (2024)\n",
    "# show the correlation coefficient\n",
    "# 1 point for the correct Spearman correlation coefficients (rounded to the third decimal place)"
   ]
  },
  {
   "cell_type": "markdown",
   "metadata": {
    "id": "DfWX1QTfB172"
   },
   "source": [
    "**Task 4** (*16 points available, 4 for each question*)\n",
    "\n",
    "Answer the following questions.\n",
    "\n",
    "**4a.** Describe the performance of each featurization, comparing\n",
    "- the performance of a same model between the training and test set\n",
    "- the performance of different models on the training set\n",
    "- the performance of different models on the test set\n",
    "\n",
    "(*4 points available, max 150 words*)"
   ]
  },
  {
   "cell_type": "markdown",
   "metadata": {
    "id": "EONmoGe8CAyI"
   },
   "source": [
    "*type your answer here*"
   ]
  },
  {
   "cell_type": "markdown",
   "metadata": {
    "id": "GpkgvOqeB6jH"
   },
   "source": [
    "**4b.** Compare the correlations you found when training uni-gram, bi-gram, and fastText models on Dutch words and the correlations of similar models trained on English data as reported by Gatti and colleagues; summarize the most important similarities and differences.\n",
    "\n",
    "(*4 points available, max 150 words*)"
   ]
  },
  {
   "cell_type": "markdown",
   "metadata": {
    "id": "Vv7P2zvnCBiX"
   },
   "source": [
    "*type your answer here*"
   ]
  },
  {
   "cell_type": "markdown",
   "metadata": {
    "id": "GQ2SxrYHy3Hx"
   },
   "source": [
    "**4c.** Do you think the performance of the fastText featurization would change if you were to use different n-grams? Would you make them smaller or larger? Justify your answer.\n",
    "\n",
    "(*4 points available, max 150 words*)"
   ]
  },
  {
   "cell_type": "markdown",
   "metadata": {
    "id": "-M-lvw2qVjNH"
   },
   "source": [
    "*type your answer here*"
   ]
  },
  {
   "cell_type": "markdown",
   "metadata": {
    "id": "5_-zN3Vp2OBD"
   },
   "source": [
    "**4d.** Do you think that training the same models on uni-grams, bi-grams, fastText and transformer-based embeddings but using valence ratings for Finnish (a language which uses the same alphabet as English but is not a IndoEuropean language) words would yield a similar pattern of results? Justify your answer.\n",
    "\n",
    "(*4 points available, max 150 words*)"
   ]
  },
  {
   "cell_type": "markdown",
   "metadata": {
    "id": "20T-4kCdVppE"
   },
   "source": [
    "*type your answer here*"
   ]
  },
  {
   "cell_type": "markdown",
   "metadata": {
    "id": "w4ILTPziXptK"
   },
   "source": [
    "**Task 5** (*3 points available*)\n",
    "\n",
    "Compute the average Levenshtein Distance (aLD) between each pseudoword and the 20 words at the smallest edit distance from it. Consider the set of words you used to filter out pseudowords that happen to be valid Dutch words (the file is available in this OSF repository: https://osf.io/9zymw/) to retrieve the 20 words at the smallest edit distance."
   ]
  },
  {
   "cell_type": "code",
   "execution_count": null,
   "metadata": {
    "id": "OGks7N-JCjFu"
   },
   "outputs": [],
   "source": [
    "# compute the average Levenshtein distance from each pseudoword to the words used to filter out pseudowords.\n",
    "# Show the aLD estimate for the pseudowords 'nedukes', 'pewbin', and 'vibcines'\n",
    "# 3 points for correctly computing aLD for pseudowords"
   ]
  },
  {
   "cell_type": "markdown",
   "metadata": {
    "id": "zBdwMhHsYY0j"
   },
   "source": [
    "**Task 6** (*3 points available*)\n",
    "\n",
    "For each pseudoword, record the number of tokens in which RobBERT v2 encodes it."
   ]
  },
  {
   "cell_type": "code",
   "execution_count": null,
   "metadata": {
    "collapsed": true,
    "id": "FDOechQfmvqE"
   },
   "outputs": [],
   "source": [
    "# record the number of tokens in which RobBERT divides each pseudoword\n",
    "# show the number of tokens for the pseudowords 'yuxwas', 'skibfy', and 'errords'\n",
    "# 3 points for correctly mapping pseudowords to number of tokens"
   ]
  },
  {
   "cell_type": "markdown",
   "metadata": {
    "id": "H9LxipdMYqXN"
   },
   "source": [
    "**Task 7** (*5 points available, see breakdown below*)\n",
    "\n",
    "Compute the residuals of the predicted valence under the four regressors trained and applied in tasks 2 to 4. Then, correlate the residuals from all four models with aLD. Finally, correlate the residuals from the RobBERT v2 model with the number of tokens in which each pseudoword is split. Use the Pearson's correlation coefficient."
   ]
  },
  {
   "cell_type": "code",
   "execution_count": null,
   "metadata": {
    "id": "dc2p7UXSCi-q"
   },
   "outputs": [],
   "source": [
    "# compute the residuals from all four regression models fitted before\n",
    "# 1 point available for correctly computing residuals"
   ]
  },
  {
   "cell_type": "code",
   "execution_count": null,
   "metadata": {
    "id": "KkqJLI17C0Ml"
   },
   "outputs": [],
   "source": [
    "# compute the Pearson's correlation between residuals and average LD for all models,\n",
    "# as well as the correlation between RobBERT v2 residuals and the number of tokens in which each pseudoword\n",
    "#    is encoded by the RobBERT v2 model.\n",
    "# show all correlation coefficients\n",
    "# 4 points for the correct correlation coefficients"
   ]
  },
  {
   "cell_type": "markdown",
   "metadata": {
    "id": "6owroLfAC4vf"
   },
   "source": [
    "**Task 8** What is the relation between the errors each model made and aLD? what about the number of tokens (limited to the RobBERT v2 model)?\n",
    "\n",
    "(*4 points available, max 150 words*)"
   ]
  },
  {
   "cell_type": "markdown",
   "metadata": {
    "id": "LvaOAjqxuHgm"
   },
   "source": [
    "*testo in corsivo*"
   ]
  }
 ],
 "metadata": {
  "colab": {
   "provenance": [
    {
     "file_id": "1lUjLECypnKwDwHfh1Q2aNybwX-fI3oz3",
     "timestamp": 1744369938703
    },
    {
     "file_id": "194jMNgwii3Bp7iUfcWmZWjA3Cp39hxcQ",
     "timestamp": 1741091628295
    }
   ]
  },
  "kernelspec": {
   "display_name": ".venv",
   "language": "python",
   "name": "python3"
  },
  "language_info": {
   "codemirror_mode": {
    "name": "ipython",
    "version": 3
   },
   "file_extension": ".py",
   "mimetype": "text/x-python",
   "name": "python",
   "nbconvert_exporter": "python",
   "pygments_lexer": "ipython3",
   "version": "3.12.9"
  }
 },
 "nbformat": 4,
 "nbformat_minor": 0
}
